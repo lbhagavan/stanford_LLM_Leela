{
  "nbformat": 4,
  "nbformat_minor": 0,
  "metadata": {
    "colab": {
      "provenance": [],
      "gpuType": "T4",
      "include_colab_link": true
    },
    "kernelspec": {
      "name": "python3",
      "display_name": "Python 3"
    },
    "language_info": {
      "name": "python"
    },
    "widgets": {
      "application/vnd.jupyter.widget-state+json": {
        "d250108adda243249d98211913338f47": {
          "model_module": "@jupyter-widgets/controls",
          "model_name": "TextModel",
          "model_module_version": "1.5.0",
          "state": {
            "_dom_classes": [],
            "_model_module": "@jupyter-widgets/controls",
            "_model_module_version": "1.5.0",
            "_model_name": "TextModel",
            "_view_count": null,
            "_view_module": "@jupyter-widgets/controls",
            "_view_module_version": "1.5.0",
            "_view_name": "TextView",
            "continuous_update": true,
            "description": "YouTube URL:",
            "description_tooltip": null,
            "disabled": false,
            "layout": "IPY_MODEL_524a1391cf27490aa2895c13fc758cc3",
            "placeholder": "Enter YouTube video URL",
            "style": "IPY_MODEL_79aee52032344cf1aa713d9b3c324647",
            "value": ""
          }
        },
        "524a1391cf27490aa2895c13fc758cc3": {
          "model_module": "@jupyter-widgets/base",
          "model_name": "LayoutModel",
          "model_module_version": "1.2.0",
          "state": {
            "_model_module": "@jupyter-widgets/base",
            "_model_module_version": "1.2.0",
            "_model_name": "LayoutModel",
            "_view_count": null,
            "_view_module": "@jupyter-widgets/base",
            "_view_module_version": "1.2.0",
            "_view_name": "LayoutView",
            "align_content": null,
            "align_items": null,
            "align_self": null,
            "border": null,
            "bottom": null,
            "display": null,
            "flex": null,
            "flex_flow": null,
            "grid_area": null,
            "grid_auto_columns": null,
            "grid_auto_flow": null,
            "grid_auto_rows": null,
            "grid_column": null,
            "grid_gap": null,
            "grid_row": null,
            "grid_template_areas": null,
            "grid_template_columns": null,
            "grid_template_rows": null,
            "height": null,
            "justify_content": null,
            "justify_items": null,
            "left": null,
            "margin": null,
            "max_height": null,
            "max_width": null,
            "min_height": null,
            "min_width": null,
            "object_fit": null,
            "object_position": null,
            "order": null,
            "overflow": null,
            "overflow_x": null,
            "overflow_y": null,
            "padding": null,
            "right": null,
            "top": null,
            "visibility": null,
            "width": null
          }
        },
        "79aee52032344cf1aa713d9b3c324647": {
          "model_module": "@jupyter-widgets/controls",
          "model_name": "DescriptionStyleModel",
          "model_module_version": "1.5.0",
          "state": {
            "_model_module": "@jupyter-widgets/controls",
            "_model_module_version": "1.5.0",
            "_model_name": "DescriptionStyleModel",
            "_view_count": null,
            "_view_module": "@jupyter-widgets/base",
            "_view_module_version": "1.2.0",
            "_view_name": "StyleView",
            "description_width": ""
          }
        },
        "18c6af7a368347578dd2791c0c0f48ea": {
          "model_module": "@jupyter-widgets/controls",
          "model_name": "FileUploadModel",
          "model_module_version": "1.5.0",
          "state": {
            "_counter": 0,
            "_dom_classes": [],
            "_model_module": "@jupyter-widgets/controls",
            "_model_module_version": "1.5.0",
            "_model_name": "FileUploadModel",
            "_view_count": null,
            "_view_module": "@jupyter-widgets/controls",
            "_view_module_version": "1.5.0",
            "_view_name": "FileUploadView",
            "accept": ".mp4,.mp3,.wav,.pdf,.docx,.txt",
            "button_style": "",
            "data": [],
            "description": "Upload",
            "description_tooltip": null,
            "disabled": false,
            "error": "",
            "icon": "upload",
            "layout": "IPY_MODEL_5be19e46b8194db28645e97fabdc0f05",
            "metadata": [],
            "multiple": true,
            "style": "IPY_MODEL_d723cd3832dd4e758b409c0667be8b1c"
          }
        },
        "5be19e46b8194db28645e97fabdc0f05": {
          "model_module": "@jupyter-widgets/base",
          "model_name": "LayoutModel",
          "model_module_version": "1.2.0",
          "state": {
            "_model_module": "@jupyter-widgets/base",
            "_model_module_version": "1.2.0",
            "_model_name": "LayoutModel",
            "_view_count": null,
            "_view_module": "@jupyter-widgets/base",
            "_view_module_version": "1.2.0",
            "_view_name": "LayoutView",
            "align_content": null,
            "align_items": null,
            "align_self": null,
            "border": null,
            "bottom": null,
            "display": null,
            "flex": null,
            "flex_flow": null,
            "grid_area": null,
            "grid_auto_columns": null,
            "grid_auto_flow": null,
            "grid_auto_rows": null,
            "grid_column": null,
            "grid_gap": null,
            "grid_row": null,
            "grid_template_areas": null,
            "grid_template_columns": null,
            "grid_template_rows": null,
            "height": null,
            "justify_content": null,
            "justify_items": null,
            "left": null,
            "margin": null,
            "max_height": null,
            "max_width": null,
            "min_height": null,
            "min_width": null,
            "object_fit": null,
            "object_position": null,
            "order": null,
            "overflow": null,
            "overflow_x": null,
            "overflow_y": null,
            "padding": null,
            "right": null,
            "top": null,
            "visibility": null,
            "width": null
          }
        },
        "d723cd3832dd4e758b409c0667be8b1c": {
          "model_module": "@jupyter-widgets/controls",
          "model_name": "ButtonStyleModel",
          "model_module_version": "1.5.0",
          "state": {
            "_model_module": "@jupyter-widgets/controls",
            "_model_module_version": "1.5.0",
            "_model_name": "ButtonStyleModel",
            "_view_count": null,
            "_view_module": "@jupyter-widgets/base",
            "_view_module_version": "1.2.0",
            "_view_name": "StyleView",
            "button_color": null,
            "font_weight": ""
          }
        },
        "2e61279b41094f1288ec11ca8eacc6b1": {
          "model_module": "@jupyter-widgets/controls",
          "model_name": "ButtonModel",
          "model_module_version": "1.5.0",
          "state": {
            "_dom_classes": [],
            "_model_module": "@jupyter-widgets/controls",
            "_model_module_version": "1.5.0",
            "_model_name": "ButtonModel",
            "_view_count": null,
            "_view_module": "@jupyter-widgets/controls",
            "_view_module_version": "1.5.0",
            "_view_name": "ButtonView",
            "button_style": "",
            "description": "Process Media",
            "disabled": false,
            "icon": "",
            "layout": "IPY_MODEL_e9e0e2a2c6a54cfbb9dd8408aac2f929",
            "style": "IPY_MODEL_a54ea633432b41379abdfcfcc9c02cef",
            "tooltip": "Click to process the media"
          }
        },
        "e9e0e2a2c6a54cfbb9dd8408aac2f929": {
          "model_module": "@jupyter-widgets/base",
          "model_name": "LayoutModel",
          "model_module_version": "1.2.0",
          "state": {
            "_model_module": "@jupyter-widgets/base",
            "_model_module_version": "1.2.0",
            "_model_name": "LayoutModel",
            "_view_count": null,
            "_view_module": "@jupyter-widgets/base",
            "_view_module_version": "1.2.0",
            "_view_name": "LayoutView",
            "align_content": null,
            "align_items": null,
            "align_self": null,
            "border": null,
            "bottom": null,
            "display": null,
            "flex": null,
            "flex_flow": null,
            "grid_area": null,
            "grid_auto_columns": null,
            "grid_auto_flow": null,
            "grid_auto_rows": null,
            "grid_column": null,
            "grid_gap": null,
            "grid_row": null,
            "grid_template_areas": null,
            "grid_template_columns": null,
            "grid_template_rows": null,
            "height": null,
            "justify_content": null,
            "justify_items": null,
            "left": null,
            "margin": null,
            "max_height": null,
            "max_width": null,
            "min_height": null,
            "min_width": null,
            "object_fit": null,
            "object_position": null,
            "order": null,
            "overflow": null,
            "overflow_x": null,
            "overflow_y": null,
            "padding": null,
            "right": null,
            "top": null,
            "visibility": null,
            "width": null
          }
        },
        "a54ea633432b41379abdfcfcc9c02cef": {
          "model_module": "@jupyter-widgets/controls",
          "model_name": "ButtonStyleModel",
          "model_module_version": "1.5.0",
          "state": {
            "_model_module": "@jupyter-widgets/controls",
            "_model_module_version": "1.5.0",
            "_model_name": "ButtonStyleModel",
            "_view_count": null,
            "_view_module": "@jupyter-widgets/base",
            "_view_module_version": "1.2.0",
            "_view_name": "StyleView",
            "button_color": null,
            "font_weight": ""
          }
        },
        "720575b46bf04b64b703444790038361": {
          "model_module": "@jupyter-widgets/controls",
          "model_name": "ButtonModel",
          "model_module_version": "1.5.0",
          "state": {
            "_dom_classes": [],
            "_model_module": "@jupyter-widgets/controls",
            "_model_module_version": "1.5.0",
            "_model_name": "ButtonModel",
            "_view_count": null,
            "_view_module": "@jupyter-widgets/controls",
            "_view_module_version": "1.5.0",
            "_view_name": "ButtonView",
            "button_style": "warning",
            "description": "Reset",
            "disabled": false,
            "icon": "",
            "layout": "IPY_MODEL_4a429478a2ac4c95adc040a568f608d7",
            "style": "IPY_MODEL_4090f64becc14ac3b03d00e5a1e86fd4",
            "tooltip": "Click to reset the script to a clean state"
          }
        },
        "4a429478a2ac4c95adc040a568f608d7": {
          "model_module": "@jupyter-widgets/base",
          "model_name": "LayoutModel",
          "model_module_version": "1.2.0",
          "state": {
            "_model_module": "@jupyter-widgets/base",
            "_model_module_version": "1.2.0",
            "_model_name": "LayoutModel",
            "_view_count": null,
            "_view_module": "@jupyter-widgets/base",
            "_view_module_version": "1.2.0",
            "_view_name": "LayoutView",
            "align_content": null,
            "align_items": null,
            "align_self": null,
            "border": null,
            "bottom": null,
            "display": null,
            "flex": null,
            "flex_flow": null,
            "grid_area": null,
            "grid_auto_columns": null,
            "grid_auto_flow": null,
            "grid_auto_rows": null,
            "grid_column": null,
            "grid_gap": null,
            "grid_row": null,
            "grid_template_areas": null,
            "grid_template_columns": null,
            "grid_template_rows": null,
            "height": null,
            "justify_content": null,
            "justify_items": null,
            "left": null,
            "margin": null,
            "max_height": null,
            "max_width": null,
            "min_height": null,
            "min_width": null,
            "object_fit": null,
            "object_position": null,
            "order": null,
            "overflow": null,
            "overflow_x": null,
            "overflow_y": null,
            "padding": null,
            "right": null,
            "top": null,
            "visibility": null,
            "width": null
          }
        },
        "4090f64becc14ac3b03d00e5a1e86fd4": {
          "model_module": "@jupyter-widgets/controls",
          "model_name": "ButtonStyleModel",
          "model_module_version": "1.5.0",
          "state": {
            "_model_module": "@jupyter-widgets/controls",
            "_model_module_version": "1.5.0",
            "_model_name": "ButtonStyleModel",
            "_view_count": null,
            "_view_module": "@jupyter-widgets/base",
            "_view_module_version": "1.2.0",
            "_view_name": "StyleView",
            "button_color": null,
            "font_weight": ""
          }
        }
      }
    },
    "accelerator": "GPU"
  },
  "cells": [
    {
      "cell_type": "markdown",
      "metadata": {
        "id": "view-in-github",
        "colab_type": "text"
      },
      "source": [
        "<a href=\"https://colab.research.google.com/github/lbhagavan/stanford_LLM_Leela/blob/homework/Tech16_final_av.ipynb\" target=\"_parent\"><img src=\"https://colab.research.google.com/assets/colab-badge.svg\" alt=\"Open In Colab\"/></a>"
      ]
    },
    {
      "cell_type": "markdown",
      "source": [],
      "metadata": {
        "id": "oh1aDoDp7f8A"
      }
    },
    {
      "cell_type": "markdown",
      "source": [
        "# Document Summarizer supporting audio, video, pdf, docx, txt, and yourube video link"
      ],
      "metadata": {
        "id": "dSa14lZy0xcn"
      }
    },
    {
      "cell_type": "code",
      "execution_count": null,
      "metadata": {
        "colab": {
          "base_uri": "https://localhost:8080/",
          "height": 53
        },
        "id": "uXoXD61c6qG_",
        "outputId": "254958c7-eb18-4160-be09-29387a83b527"
      },
      "outputs": [
        {
          "output_type": "execute_result",
          "data": {
            "text/plain": [
              "'Video and Audio Summarizer for Colab\\n\\nThis script allows users to summarize YouTube videos, uploaded video files, or audio files.\\n'"
            ],
            "application/vnd.google.colaboratory.intrinsic+json": {
              "type": "string"
            }
          },
          "metadata": {},
          "execution_count": 1
        }
      ],
      "source": [
        "# -*- coding: utf-8 -*-\n",
        "\"\"\"Video and Audio Summarizer for Colab\n",
        "\n",
        "This script allows users to summarize YouTube videos, uploaded video files, or audio files.\n",
        "\"\"\""
      ]
    },
    {
      "cell_type": "code",
      "source": [
        "# Install necessary packages\n",
        "!pip install -q yt-dlp pydub llama-index-readers-file ipywidgets openai PyPDF2 python-docx\n",
        "!pip install -q git+https://github.com/openai/whisper.git"
      ],
      "metadata": {
        "colab": {
          "base_uri": "https://localhost:8080/"
        },
        "id": "bfqm181p7muF",
        "outputId": "bc0612e9-e864-495f-bb4f-6c42d7d27545",
        "collapsed": true
      },
      "execution_count": null,
      "outputs": [
        {
          "output_type": "stream",
          "name": "stdout",
          "text": [
            "\u001b[2K     \u001b[90m━━━━━━━━━━━━━━━━━━━━━━━━━━━━━━━━━━━━━━━━\u001b[0m \u001b[32m170.1/170.1 kB\u001b[0m \u001b[31m7.6 MB/s\u001b[0m eta \u001b[36m0:00:00\u001b[0m\n",
            "\u001b[2K   \u001b[90m━━━━━━━━━━━━━━━━━━━━━━━━━━━━━━━━━━━━━━━━\u001b[0m \u001b[32m3.1/3.1 MB\u001b[0m \u001b[31m50.9 MB/s\u001b[0m eta \u001b[36m0:00:00\u001b[0m\n",
            "\u001b[2K   \u001b[90m━━━━━━━━━━━━━━━━━━━━━━━━━━━━━━━━━━━━━━━━\u001b[0m \u001b[32m362.9/362.9 kB\u001b[0m \u001b[31m22.2 MB/s\u001b[0m eta \u001b[36m0:00:00\u001b[0m\n",
            "\u001b[2K   \u001b[90m━━━━━━━━━━━━━━━━━━━━━━━━━━━━━━━━━━━━━━━━\u001b[0m \u001b[32m232.6/232.6 kB\u001b[0m \u001b[31m15.1 MB/s\u001b[0m eta \u001b[36m0:00:00\u001b[0m\n",
            "\u001b[2K   \u001b[90m━━━━━━━━━━━━━━━━━━━━━━━━━━━━━━━━━━━━━━━━\u001b[0m \u001b[32m244.3/244.3 kB\u001b[0m \u001b[31m18.8 MB/s\u001b[0m eta \u001b[36m0:00:00\u001b[0m\n",
            "\u001b[2K   \u001b[90m━━━━━━━━━━━━━━━━━━━━━━━━━━━━━━━━━━━━━━━━\u001b[0m \u001b[32m75.6/75.6 kB\u001b[0m \u001b[31m5.9 MB/s\u001b[0m eta \u001b[36m0:00:00\u001b[0m\n",
            "\u001b[2K   \u001b[90m━━━━━━━━━━━━━━━━━━━━━━━━━━━━━━━━━━━━━━━━\u001b[0m \u001b[32m77.9/77.9 kB\u001b[0m \u001b[31m4.6 MB/s\u001b[0m eta \u001b[36m0:00:00\u001b[0m\n",
            "\u001b[2K   \u001b[90m━━━━━━━━━━━━━━━━━━━━━━━━━━━━━━━━━━━━━━━━\u001b[0m \u001b[32m318.9/318.9 kB\u001b[0m \u001b[31m21.7 MB/s\u001b[0m eta \u001b[36m0:00:00\u001b[0m\n",
            "\u001b[2K   \u001b[90m━━━━━━━━━━━━━━━━━━━━━━━━━━━━━━━━━━━━━━━━\u001b[0m \u001b[32m1.6/1.6 MB\u001b[0m \u001b[31m42.6 MB/s\u001b[0m eta \u001b[36m0:00:00\u001b[0m\n",
            "\u001b[2K   \u001b[90m━━━━━━━━━━━━━━━━━━━━━━━━━━━━━━━━━━━━━━━━\u001b[0m \u001b[32m295.8/295.8 kB\u001b[0m \u001b[31m16.3 MB/s\u001b[0m eta \u001b[36m0:00:00\u001b[0m\n",
            "\u001b[2K   \u001b[90m━━━━━━━━━━━━━━━━━━━━━━━━━━━━━━━━━━━━━━━━\u001b[0m \u001b[32m157.2/157.2 kB\u001b[0m \u001b[31m12.7 MB/s\u001b[0m eta \u001b[36m0:00:00\u001b[0m\n",
            "\u001b[2K   \u001b[90m━━━━━━━━━━━━━━━━━━━━━━━━━━━━━━━━━━━━━━━━\u001b[0m \u001b[32m3.0/3.0 MB\u001b[0m \u001b[31m73.0 MB/s\u001b[0m eta \u001b[36m0:00:00\u001b[0m\n",
            "\u001b[2K   \u001b[90m━━━━━━━━━━━━━━━━━━━━━━━━━━━━━━━━━━━━━━━━\u001b[0m \u001b[32m194.4/194.4 kB\u001b[0m \u001b[31m14.9 MB/s\u001b[0m eta \u001b[36m0:00:00\u001b[0m\n",
            "\u001b[2K   \u001b[90m━━━━━━━━━━━━━━━━━━━━━━━━━━━━━━━━━━━━━━━━\u001b[0m \u001b[32m2.1/2.1 MB\u001b[0m \u001b[31m70.3 MB/s\u001b[0m eta \u001b[36m0:00:00\u001b[0m\n",
            "\u001b[2K   \u001b[90m━━━━━━━━━━━━━━━━━━━━━━━━━━━━━━━━━━━━━━━━\u001b[0m \u001b[32m1.5/1.5 MB\u001b[0m \u001b[31m51.8 MB/s\u001b[0m eta \u001b[36m0:00:00\u001b[0m\n",
            "\u001b[2K   \u001b[90m━━━━━━━━━━━━━━━━━━━━━━━━━━━━━━━━━━━━━━━━\u001b[0m \u001b[32m1.1/1.1 MB\u001b[0m \u001b[31m46.1 MB/s\u001b[0m eta \u001b[36m0:00:00\u001b[0m\n",
            "\u001b[2K   \u001b[90m━━━━━━━━━━━━━━━━━━━━━━━━━━━━━━━━━━━━━━━━\u001b[0m \u001b[32m58.3/58.3 kB\u001b[0m \u001b[31m4.4 MB/s\u001b[0m eta \u001b[36m0:00:00\u001b[0m\n",
            "\u001b[2K   \u001b[90m━━━━━━━━━━━━━━━━━━━━━━━━━━━━━━━━━━━━━━━━\u001b[0m \u001b[32m49.3/49.3 kB\u001b[0m \u001b[31m4.1 MB/s\u001b[0m eta \u001b[36m0:00:00\u001b[0m\n",
            "\u001b[?25h  Installing build dependencies ... \u001b[?25l\u001b[?25hdone\n",
            "  Getting requirements to build wheel ... \u001b[?25l\u001b[?25hdone\n",
            "  Preparing metadata (pyproject.toml) ... \u001b[?25l\u001b[?25hdone\n",
            "\u001b[2K   \u001b[90m━━━━━━━━━━━━━━━━━━━━━━━━━━━━━━━━━━━━━━━━\u001b[0m \u001b[32m168.1/168.1 MB\u001b[0m \u001b[31m7.2 MB/s\u001b[0m eta \u001b[36m0:00:00\u001b[0m\n",
            "\u001b[?25h  Building wheel for openai-whisper (pyproject.toml) ... \u001b[?25l\u001b[?25hdone\n"
          ]
        }
      ]
    },
    {
      "cell_type": "code",
      "source": [
        "import yt_dlp\n",
        "import os\n",
        "import subprocess\n",
        "from pathlib import Path\n",
        "from google.colab import files\n",
        "from llama_index.readers.file import VideoAudioReader\n",
        "from openai import OpenAI\n",
        "import ipywidgets as widgets\n",
        "from IPython.display import display\n",
        "import textwrap\n",
        "import mimetypes\n",
        "import shutil\n",
        "import PyPDF2\n",
        "from docx import Document"
      ],
      "metadata": {
        "id": "y_qArAfJ8tuZ"
      },
      "execution_count": null,
      "outputs": []
    },
    {
      "cell_type": "code",
      "source": [
        "# Global variable to track processed files\n",
        "processed_files = set()"
      ],
      "metadata": {
        "id": "KJ3rc3d7SJiF"
      },
      "execution_count": null,
      "outputs": []
    },
    {
      "cell_type": "code",
      "source": [
        "# Set up OpenAI API key\n",
        "from google.colab import userdata\n",
        "open_ai_key = userdata.get('OPENAI_API_KEY')\n",
        "os.environ[\"OPENAI_API_KEY\"] = open_ai_key\n",
        "client = OpenAI(api_key=open_ai_key)"
      ],
      "metadata": {
        "id": "tVshZ9Cz8kDk"
      },
      "execution_count": null,
      "outputs": []
    },
    {
      "cell_type": "code",
      "source": [
        "def download_audio(video_url, output_path='audio.wav'):\n",
        "    ydl_opts = {\n",
        "        'format': 'bestaudio/best',\n",
        "        'outtmpl': output_path,\n",
        "        'postprocessors': [{\n",
        "            'key': 'FFmpegExtractAudio',\n",
        "            'preferredcodec': 'wav',\n",
        "            'preferredquality': '192',\n",
        "        }],\n",
        "    }\n",
        "    with yt_dlp.YoutubeDL(ydl_opts) as ydl:\n",
        "        ydl.download([video_url])\n",
        "\n",
        "    # Check if the file was renamed\n",
        "    if os.path.exists(output_path + '.wav'):\n",
        "        os.rename(output_path + '.wav', output_path)\n",
        "\n",
        "    print(f\"Debug: Audio file downloaded as {output_path}\")\n",
        "    return output_path"
      ],
      "metadata": {
        "id": "Ho989aLucdmz"
      },
      "execution_count": null,
      "outputs": []
    },
    {
      "cell_type": "code",
      "source": [
        "def process_audio(file_path):\n",
        "    print(f\"Debug: Processing audio file: {file_path}\")\n",
        "    try:\n",
        "        reader = VideoAudioReader()\n",
        "        documents = reader.load_data(Path(file_path))\n",
        "        transcript = documents[0].text\n",
        "        print(\"Transcript:\")\n",
        "        print(transcript)\n",
        "\n",
        "        summary = summarize_text(transcript)\n",
        "        print(\"\\nAudio/Video Summary:\")\n",
        "        print(textwrap.fill(summary, width=80))\n",
        "    except Exception as e:\n",
        "        print(f\"Error processing audio: {str(e)}\")\n",
        "        # If there's an error with VideoAudioReader, try using whisper directly\n",
        "        try:\n",
        "            import whisper\n",
        "            model = whisper.load_model(\"base\")\n",
        "            result = model.transcribe(file_path)\n",
        "            transcript = result[\"text\"]\n",
        "            print(\"Transcript (using whisper directly):\")\n",
        "            print(transcript)\n",
        "\n",
        "            summary = summarize_text(transcript)\n",
        "            print(\"\\nAudio/Video Summary:\")\n",
        "            print(textwrap.fill(summary, width=80))\n",
        "        except Exception as e:\n",
        "            print(f\"Error processing audio with whisper: {str(e)}\")"
      ],
      "metadata": {
        "id": "xmdsqWbR8zlh"
      },
      "execution_count": null,
      "outputs": []
    },
    {
      "cell_type": "code",
      "source": [
        "def determine_input_type(url, uploaded_file):\n",
        "    if url:\n",
        "        return 'youtube'\n",
        "    elif uploaded_file:\n",
        "        file_name = uploaded_file.get('name', '')\n",
        "        print(f\"Debug: File name in determine_input_type: {file_name}\")\n",
        "\n",
        "        if not file_name:\n",
        "            return 'unknown'\n",
        "\n",
        "        # Check file extension\n",
        "        file_extension = os.path.splitext(file_name)[1].lower()\n",
        "        print(f\"Debug: File extension is {file_extension}\")\n",
        "\n",
        "        if file_extension in ['.mp4', '.avi', '.mov']:\n",
        "            return 'video'\n",
        "        elif file_extension in ['.mp3', '.wav', '.ogg', '.m4a']:\n",
        "            return 'audio'\n",
        "        elif file_extension == '.pdf':\n",
        "            return 'pdf'\n",
        "        elif file_extension == '.docx':\n",
        "            return 'docx'\n",
        "        elif file_extension == '.txt':\n",
        "            return 'txt'\n",
        "\n",
        "        # If extension check fails, try mime type\n",
        "        mime_type, _ = mimetypes.guess_type(file_name)\n",
        "        print(f\"Debug: Detected MIME type is {mime_type}\")\n",
        "\n",
        "        if mime_type:\n",
        "            if mime_type.startswith('video'):\n",
        "                return 'video'\n",
        "            elif mime_type.startswith('audio'):\n",
        "                return 'audio'\n",
        "            elif mime_type == 'application/pdf':\n",
        "                return 'pdf'\n",
        "            elif mime_type == 'application/vnd.openxmlformats-officedocument.wordprocessingml.document':\n",
        "                return 'docx'\n",
        "            elif mime_type == 'text/plain':\n",
        "                return 'txt'\n",
        "\n",
        "    return 'unknown'"
      ],
      "metadata": {
        "id": "REE0TZeF84Kx"
      },
      "execution_count": null,
      "outputs": []
    },
    {
      "cell_type": "code",
      "source": [
        "def process_pdf(file_path):\n",
        "    print(f\"Processing PDF file: {file_path}\")\n",
        "    text = \"\"\n",
        "    with open(file_path, 'rb') as file:\n",
        "        reader = PyPDF2.PdfReader(file)\n",
        "        for page in reader.pages:\n",
        "            text += page.extract_text() + \"\\n\"\n",
        "\n",
        "    summary = summarize_text(text)\n",
        "    print(\"\\nPDF Summary:\")\n",
        "    display(Markdown(summary))\n",
        "\n",
        "def process_docx(file_path):\n",
        "    print(f\"Processing DOCX file: {file_path}\")\n",
        "    doc = Document(file_path)\n",
        "    text = \"\\n\".join([paragraph.text for paragraph in doc.paragraphs])\n",
        "\n",
        "    summary = summarize_text(text)\n",
        "    print(\"\\nDOCX Summary:\")\n",
        "    display(Markdown(summary))\n",
        "\n",
        "def process_txt(file_path):\n",
        "    print(f\"Processing TXT file: {file_path}\")\n",
        "    with open(file_path, 'r', encoding='utf-8') as file:\n",
        "        text = file.read()\n",
        "\n",
        "    summary = summarize_text(text)\n",
        "    print(\"\\nTXT Summary:\")\n",
        "    display(Markdown(summary))"
      ],
      "metadata": {
        "id": "5gCOvGFauw06"
      },
      "execution_count": null,
      "outputs": []
    },
    {
      "cell_type": "code",
      "source": [
        "def process_youtube(url):\n",
        "    try:\n",
        "        audio_file = download_audio(url)\n",
        "        if os.path.exists(audio_file):\n",
        "            print(f\"Debug: Audio file exists: {audio_file}\")\n",
        "            print(f\"Debug: File size: {os.path.getsize(audio_file)} bytes\")\n",
        "            process_audio(audio_file)\n",
        "        else:\n",
        "            print(f\"Error: Audio file {audio_file} not found after download\")\n",
        "    except Exception as e:\n",
        "        print(f\"An error occurred while processing YouTube URL: {str(e)}\")\n"
      ],
      "metadata": {
        "id": "EkHfTxLr89qN"
      },
      "execution_count": null,
      "outputs": []
    },
    {
      "cell_type": "code",
      "source": [
        "def process_video(file_path):\n",
        "    audio_file = 'audio.wav'\n",
        "    if os.path.exists(audio_file):\n",
        "        os.remove(audio_file)\n",
        "\n",
        "    os.system(f\"ffmpeg -i '{file_path}' -vn -acodec pcm_s16le -ar 44100 -ac 2 '{audio_file}' -y\")\n",
        "    process_audio(audio_file)"
      ],
      "metadata": {
        "id": "0Z-Yil_E9BCQ"
      },
      "execution_count": null,
      "outputs": []
    },
    {
      "cell_type": "code",
      "source": [
        "from IPython.display import display, Markdown\n",
        "def process_audio(file_path):\n",
        "    print(f\"Debug: Starting to process audio file: {file_path}\")\n",
        "    try:\n",
        "        reader = VideoAudioReader()\n",
        "        documents = reader.load_data(Path(file_path))\n",
        "        transcript = documents[0].text\n",
        "        print(\"Transcript:\")\n",
        "        print(transcript)\n",
        "\n",
        "        summary = summarize_text(transcript)\n",
        "        print(\"\\nAudio/Video Summary:\")\n",
        "        #print(textwrap.fill(summary, width=80))\n",
        "        display(Markdown(summary))\n",
        "    except Exception as e:\n",
        "        print(f\"Error processing audio: {str(e)}\")"
      ],
      "metadata": {
        "id": "ra5-c_8Z9EYS"
      },
      "execution_count": null,
      "outputs": []
    },
    {
      "cell_type": "code",
      "source": [
        "def summarize_text(text, max_tokens=500):\n",
        "    response = client.chat.completions.create(\n",
        "        model=\"gpt-4o-mini\",\n",
        "        messages=[\n",
        "            {\"role\": \"system\", \"content\": \"You are a helpful assistant that summarizes video transcripts.\"},\n",
        "            {\"role\": \"user\", \"content\": f\"Please summarize the following video transcript in about 250 words and be concise:\\n\\n{text}\"}\n",
        "        ],\n",
        "        max_tokens=max_tokens\n",
        "    )\n",
        "    return response.choices[0].message.content"
      ],
      "metadata": {
        "id": "A9UMDaXa9Ibg"
      },
      "execution_count": null,
      "outputs": []
    },
    {
      "cell_type": "code",
      "source": [
        "def handle_upload(change):\n",
        "    global processed_files\n",
        "    if not change['new']:\n",
        "        print(\"No file was uploaded.\")\n",
        "        return\n",
        "\n",
        "    for filename, file_info in change['new'].items():\n",
        "        if filename in processed_files:\n",
        "            print(f\"File {filename} has already been processed. Skipping.\")\n",
        "            continue\n",
        "\n",
        "        print(f\"Debug: Uploaded file info: {filename}\")\n",
        "\n",
        "        file_name = file_info['metadata']['name']\n",
        "        content = file_info['content']\n",
        "\n",
        "        print(f\"Debug: File name is {file_name}\")\n",
        "\n",
        "        if not content:\n",
        "            print(\"The uploaded file is empty.\")\n",
        "            continue\n",
        "\n",
        "        with open(file_name, 'wb') as f:\n",
        "            f.write(content)\n",
        "\n",
        "        input_type = determine_input_type('', {'name': file_name})\n",
        "        print(f\"Debug: Determined input type is {input_type}\")\n",
        "\n",
        "        if input_type == 'video':\n",
        "            process_video(file_name)\n",
        "        elif input_type == 'audio':\n",
        "            process_audio(file_name)\n",
        "        elif input_type == 'pdf':\n",
        "            process_pdf(file_name)\n",
        "        elif input_type == 'docx':\n",
        "            process_docx(file_name)\n",
        "        elif input_type == 'txt':\n",
        "            process_txt(file_name)\n",
        "        else:\n",
        "            print(f\"Unsupported file type: {file_name}. Please upload a supported file type.\")\n",
        "\n",
        "        processed_files.add(filename)"
      ],
      "metadata": {
        "id": "TlrQPqDA9LwW"
      },
      "execution_count": null,
      "outputs": []
    },
    {
      "cell_type": "code",
      "source": [
        "def reset_script(b):\n",
        "    global processed_files\n",
        "\n",
        "    # Clear all widgets\n",
        "    url_input.value = ''\n",
        "    upload_button.value.clear()\n",
        "    upload_button._counter = 0\n",
        "\n",
        "    # Delete all uploaded files\n",
        "    for file in os.listdir():\n",
        "        if file.endswith(('.mp4', '.mp3', '.wav', '.wav', '.pdf', '.docx', '.txt')):\n",
        "            os.remove(file)\n",
        "\n",
        "    # Clear the set of processed files\n",
        "    processed_files.clear()\n",
        "\n",
        "    # Remove any temporary directories created during processing\n",
        "    if os.path.exists('temp'):\n",
        "        shutil.rmtree('temp')\n",
        "\n",
        "    # Clear output\n",
        "    from IPython.display import clear_output\n",
        "    clear_output()\n",
        "\n",
        "    print(\"The script has been reset to a clean state.\")\n",
        "    print(\"All uploaded files have been deleted and the processed files list has been cleared.\")\n",
        "    print(\"Ready for new input. Please enter a YouTube URL or upload new files.\")\n",
        "\n",
        "    # Re-display widgets\n",
        "    display(url_input)\n",
        "    display(upload_button)\n",
        "    display(process_button)\n",
        "    display(reset_button)"
      ],
      "metadata": {
        "id": "mAjsUr3wqjvi"
      },
      "execution_count": null,
      "outputs": []
    },
    {
      "cell_type": "code",
      "source": [
        "# Widgets\n",
        "url_input = widgets.Text(\n",
        "    value='',\n",
        "    placeholder='Enter YouTube video URL',\n",
        "    description='YouTube URL:',\n",
        "    disabled=False\n",
        ")"
      ],
      "metadata": {
        "id": "BWd3hzvy9Qh-"
      },
      "execution_count": null,
      "outputs": []
    },
    {
      "cell_type": "code",
      "source": [
        "upload_button = widgets.FileUpload(\n",
        "    accept=\".mp4,.mp3,.wav,.pdf,.docx,.txt\",\n",
        "    multiple=True\n",
        ")"
      ],
      "metadata": {
        "id": "XWpzjyud9UEl"
      },
      "execution_count": null,
      "outputs": []
    },
    {
      "cell_type": "code",
      "source": [
        "process_button = widgets.Button(\n",
        "    description='Process Media',\n",
        "    disabled=False,\n",
        "    button_style='',\n",
        "    tooltip='Click to process the media'\n",
        ")"
      ],
      "metadata": {
        "id": "_cbsU7RZ9Xqj"
      },
      "execution_count": null,
      "outputs": []
    },
    {
      "cell_type": "code",
      "source": [
        "reset_button = widgets.Button(\n",
        "    description='Reset',\n",
        "    disabled=False,\n",
        "    button_style='warning',\n",
        "    tooltip='Click to reset the script to a clean state'\n",
        ")"
      ],
      "metadata": {
        "id": "e_Jh-Qsmqc_c"
      },
      "execution_count": null,
      "outputs": []
    },
    {
      "cell_type": "code",
      "source": [
        "def on_button_click(b):\n",
        "    global processed_files\n",
        "    url = url_input.value\n",
        "    uploaded_files = upload_button.value\n",
        "\n",
        "    if not url and not uploaded_files:\n",
        "        print(\"Please enter a YouTube video URL or upload a video (MP4) or audio (MP3/WAV) file.\")\n",
        "        return\n",
        "\n",
        "    if url:\n",
        "        process_youtube(url)\n",
        "    elif uploaded_files:\n",
        "        for filename, file_info in uploaded_files.items():\n",
        "            if filename in processed_files:\n",
        "                print(f\"File {filename} has already been processed. Skipping.\")\n",
        "                continue\n",
        "\n",
        "            file_name = file_info['metadata']['name']\n",
        "            input_type = determine_input_type('', {'name': file_name})\n",
        "\n",
        "            try:\n",
        "                if input_type == 'video':\n",
        "                    process_video(file_name)\n",
        "                elif input_type == 'audio':\n",
        "                    process_audio(file_name)\n",
        "                else:\n",
        "                    print(f\"Unsupported file type: {file_name}. Please upload an MP4 video or MP3/WAV audio file.\")\n",
        "\n",
        "                processed_files.add(filename)\n",
        "            except Exception as e:\n",
        "                print(f\"An error occurred while processing {file_name}: {str(e)}\")\n",
        "    else:\n",
        "        print(\"Unsupported input type. Please enter a YouTube video URL or upload a video (MP4) or audio (MP3/WAV) file.\")\n",
        "\n",
        "    # Clear the widgets\n",
        "    url_input.value = ''\n",
        "    upload_button.value.clear()\n",
        "    upload_button._counter = 0\n",
        "\n",
        "# Link button clicks to functions\n",
        "process_button.on_click(on_button_click)\n",
        "reset_button.on_click(reset_script)\n",
        "\n",
        "# Display widgets\n",
        "display(url_input)\n",
        "display(upload_button)\n",
        "display(process_button)\n",
        "display(reset_button)\n",
        "\n",
        "# Observe file upload\n",
        "upload_button.observe(handle_upload, names='value')\n",
        "\n",
        "# video_url:  \"https://youtu.be/IxbR0yTMMY8?si=c5oTph_rRV2Sk_Gq\""
      ],
      "metadata": {
        "id": "lyAb4npT9a-V",
        "colab": {
          "base_uri": "https://localhost:8080/",
          "height": 146,
          "referenced_widgets": [
            "d250108adda243249d98211913338f47",
            "524a1391cf27490aa2895c13fc758cc3",
            "79aee52032344cf1aa713d9b3c324647",
            "18c6af7a368347578dd2791c0c0f48ea",
            "5be19e46b8194db28645e97fabdc0f05",
            "d723cd3832dd4e758b409c0667be8b1c",
            "2e61279b41094f1288ec11ca8eacc6b1",
            "e9e0e2a2c6a54cfbb9dd8408aac2f929",
            "a54ea633432b41379abdfcfcc9c02cef",
            "720575b46bf04b64b703444790038361",
            "4a429478a2ac4c95adc040a568f608d7",
            "4090f64becc14ac3b03d00e5a1e86fd4"
          ]
        },
        "outputId": "aa073f76-f1c7-41eb-e128-625beae0e6d8"
      },
      "execution_count": null,
      "outputs": [
        {
          "output_type": "display_data",
          "data": {
            "text/plain": [
              "Text(value='', description='YouTube URL:', placeholder='Enter YouTube video URL')"
            ],
            "application/vnd.jupyter.widget-view+json": {
              "version_major": 2,
              "version_minor": 0,
              "model_id": "d250108adda243249d98211913338f47"
            }
          },
          "metadata": {}
        },
        {
          "output_type": "display_data",
          "data": {
            "text/plain": [
              "FileUpload(value={}, accept='.mp4,.mp3,.wav,.pdf,.docx,.txt', description='Upload', multiple=True)"
            ],
            "application/vnd.jupyter.widget-view+json": {
              "version_major": 2,
              "version_minor": 0,
              "model_id": "18c6af7a368347578dd2791c0c0f48ea"
            }
          },
          "metadata": {}
        },
        {
          "output_type": "display_data",
          "data": {
            "text/plain": [
              "Button(description='Process Media', style=ButtonStyle(), tooltip='Click to process the media')"
            ],
            "application/vnd.jupyter.widget-view+json": {
              "version_major": 2,
              "version_minor": 0,
              "model_id": "2e61279b41094f1288ec11ca8eacc6b1"
            }
          },
          "metadata": {}
        },
        {
          "output_type": "display_data",
          "data": {
            "text/plain": [
              "Button(button_style='warning', description='Reset', style=ButtonStyle(), tooltip='Click to reset the script to…"
            ],
            "application/vnd.jupyter.widget-view+json": {
              "version_major": 2,
              "version_minor": 0,
              "model_id": "720575b46bf04b64b703444790038361"
            }
          },
          "metadata": {}
        }
      ]
    }
  ]
}