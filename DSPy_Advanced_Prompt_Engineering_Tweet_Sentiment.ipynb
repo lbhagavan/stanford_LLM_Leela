{
  "cells": [
    {
      "cell_type": "markdown",
      "metadata": {
        "id": "view-in-github",
        "colab_type": "text"
      },
      "source": [
        "<a href=\"https://colab.research.google.com/github/lbhagavan/stanford_LLM_Leela/blob/homework/DSPy_Advanced_Prompt_Engineering_Tweet_Sentiment.ipynb\" target=\"_parent\"><img src=\"https://colab.research.google.com/assets/colab-badge.svg\" alt=\"Open In Colab\"/></a>"
      ]
    },
    {
      "cell_type": "markdown",
      "metadata": {
        "id": "lNF2FTJcYP7u"
      },
      "source": [
        "# DSPy - Advanced Prompt Engineering\n",
        "\n",
        "In the following notebook, we'll explore an introduction to DSPy and what it can do in just a few lines of code!\n",
        "\n",
        "To begin, we'll grab the only (top level) dependency we'll need - DSPy!"
      ]
    },
    {
      "cell_type": "code",
      "execution_count": null,
      "metadata": {
        "colab": {
          "base_uri": "https://localhost:8080/"
        },
        "id": "MeoJU4iE3AWt",
        "outputId": "c791452c-1170-435e-f03b-835abfa5d20f"
      },
      "outputs": [
        {
          "output_type": "stream",
          "name": "stdout",
          "text": [
            "\u001b[?25l   \u001b[90m━━━━━━━━━━━━━━━━━━━━━━━━━━━━━━━━━━━━━━━━\u001b[0m \u001b[32m0.0/280.7 kB\u001b[0m \u001b[31m?\u001b[0m eta \u001b[36m-:--:--\u001b[0m\r\u001b[2K   \u001b[90m━━━━━━━━━━━━━━━━━━━━━━━━━━━━━━━━━━━━━━━━\u001b[0m \u001b[32m280.7/280.7 kB\u001b[0m \u001b[31m20.2 MB/s\u001b[0m eta \u001b[36m0:00:00\u001b[0m\n",
            "\u001b[?25h\u001b[?25l   \u001b[90m━━━━━━━━━━━━━━━━━━━━━━━━━━━━━━━━━━━━━━━━\u001b[0m \u001b[32m0.0/365.7 kB\u001b[0m \u001b[31m?\u001b[0m eta \u001b[36m-:--:--\u001b[0m\r\u001b[2K   \u001b[90m━━━━━━━━━━━━━━━━━━━━━━━━━━━━━━━━━━━━━━━━\u001b[0m \u001b[32m365.7/365.7 kB\u001b[0m \u001b[31m27.2 MB/s\u001b[0m eta \u001b[36m0:00:00\u001b[0m\n",
            "\u001b[?25h\u001b[?25l   \u001b[90m━━━━━━━━━━━━━━━━━━━━━━━━━━━━━━━━━━━━━━━━\u001b[0m \u001b[32m0.0/527.3 kB\u001b[0m \u001b[31m?\u001b[0m eta \u001b[36m-:--:--\u001b[0m\r\u001b[2K   \u001b[90m━━━━━━━━━━━━━━━━━━━━━━━━━━━━━━━━━━━━━━━━\u001b[0m \u001b[32m527.3/527.3 kB\u001b[0m \u001b[31m36.6 MB/s\u001b[0m eta \u001b[36m0:00:00\u001b[0m\n",
            "\u001b[?25h\u001b[?25l   \u001b[90m━━━━━━━━━━━━━━━━━━━━━━━━━━━━━━━━━━━━━━━━\u001b[0m \u001b[32m0.0/380.1 kB\u001b[0m \u001b[31m?\u001b[0m eta \u001b[36m-:--:--\u001b[0m\r\u001b[2K   \u001b[90m━━━━━━━━━━━━━━━━━━━━━━━━━━━━━━━━━━━━━━━━\u001b[0m \u001b[32m380.1/380.1 kB\u001b[0m \u001b[31m30.3 MB/s\u001b[0m eta \u001b[36m0:00:00\u001b[0m\n",
            "\u001b[2K   \u001b[90m━━━━━━━━━━━━━━━━━━━━━━━━━━━━━━━━━━━━━━━━\u001b[0m \u001b[32m67.2/67.2 kB\u001b[0m \u001b[31m6.0 MB/s\u001b[0m eta \u001b[36m0:00:00\u001b[0m\n",
            "\u001b[2K   \u001b[90m━━━━━━━━━━━━━━━━━━━━━━━━━━━━━━━━━━━━━━━━\u001b[0m \u001b[32m53.6/53.6 kB\u001b[0m \u001b[31m4.9 MB/s\u001b[0m eta \u001b[36m0:00:00\u001b[0m\n",
            "\u001b[2K   \u001b[90m━━━━━━━━━━━━━━━━━━━━━━━━━━━━━━━━━━━━━━━━\u001b[0m \u001b[32m233.0/233.0 kB\u001b[0m \u001b[31m19.2 MB/s\u001b[0m eta \u001b[36m0:00:00\u001b[0m\n",
            "\u001b[2K   \u001b[90m━━━━━━━━━━━━━━━━━━━━━━━━━━━━━━━━━━━━━━━━\u001b[0m \u001b[32m116.3/116.3 kB\u001b[0m \u001b[31m10.5 MB/s\u001b[0m eta \u001b[36m0:00:00\u001b[0m\n",
            "\u001b[2K   \u001b[90m━━━━━━━━━━━━━━━━━━━━━━━━━━━━━━━━━━━━━━━━\u001b[0m \u001b[32m76.4/76.4 kB\u001b[0m \u001b[31m5.7 MB/s\u001b[0m eta \u001b[36m0:00:00\u001b[0m\n",
            "\u001b[2K   \u001b[90m━━━━━━━━━━━━━━━━━━━━━━━━━━━━━━━━━━━━━━━━\u001b[0m \u001b[32m77.9/77.9 kB\u001b[0m \u001b[31m7.0 MB/s\u001b[0m eta \u001b[36m0:00:00\u001b[0m\n",
            "\u001b[2K   \u001b[90m━━━━━━━━━━━━━━━━━━━━━━━━━━━━━━━━━━━━━━━━\u001b[0m \u001b[32m318.9/318.9 kB\u001b[0m \u001b[31m25.2 MB/s\u001b[0m eta \u001b[36m0:00:00\u001b[0m\n",
            "\u001b[2K   \u001b[90m━━━━━━━━━━━━━━━━━━━━━━━━━━━━━━━━━━━━━━━━\u001b[0m \u001b[32m39.9/39.9 MB\u001b[0m \u001b[31m52.5 MB/s\u001b[0m eta \u001b[36m0:00:00\u001b[0m\n",
            "\u001b[2K   \u001b[90m━━━━━━━━━━━━━━━━━━━━━━━━━━━━━━━━━━━━━━━━\u001b[0m \u001b[32m134.8/134.8 kB\u001b[0m \u001b[31m12.5 MB/s\u001b[0m eta \u001b[36m0:00:00\u001b[0m\n",
            "\u001b[2K   \u001b[90m━━━━━━━━━━━━━━━━━━━━━━━━━━━━━━━━━━━━━━━━\u001b[0m \u001b[32m194.1/194.1 kB\u001b[0m \u001b[31m18.1 MB/s\u001b[0m eta \u001b[36m0:00:00\u001b[0m\n",
            "\u001b[2K   \u001b[90m━━━━━━━━━━━━━━━━━━━━━━━━━━━━━━━━━━━━━━━━\u001b[0m \u001b[32m78.6/78.6 kB\u001b[0m \u001b[31m6.0 MB/s\u001b[0m eta \u001b[36m0:00:00\u001b[0m\n",
            "\u001b[2K   \u001b[90m━━━━━━━━━━━━━━━━━━━━━━━━━━━━━━━━━━━━━━━━\u001b[0m \u001b[32m58.3/58.3 kB\u001b[0m \u001b[31m5.2 MB/s\u001b[0m eta \u001b[36m0:00:00\u001b[0m\n",
            "\u001b[?25h\u001b[31mERROR: pip's dependency resolver does not currently take into account all the packages that are installed. This behaviour is the source of the following dependency conflicts.\n",
            "cudf-cu12 24.4.1 requires pyarrow<15.0.0a0,>=14.0.1, but you have pyarrow 17.0.0 which is incompatible.\n",
            "ibis-framework 8.0.0 requires pyarrow<16,>=2, but you have pyarrow 17.0.0 which is incompatible.\u001b[0m\u001b[31m\n",
            "\u001b[0mRequirement already satisfied: pyarrow in /usr/local/lib/python3.10/dist-packages (17.0.0)\n",
            "Requirement already satisfied: numpy>=1.16.6 in /usr/local/lib/python3.10/dist-packages (from pyarrow) (1.26.4)\n"
          ]
        }
      ],
      "source": [
        "!pip install -qU dspy-ai\n",
        "!pip install --upgrade pyarrow"
      ]
    },
    {
      "cell_type": "markdown",
      "metadata": {
        "id": "PrDi65cdY0pa"
      },
      "source": [
        "DSPy can leverage OpenAI's models under the hood, and still provide an advantage - in order to do so, however, we'll need to provide an OpenAI API Key!"
      ]
    },
    {
      "cell_type": "code",
      "execution_count": null,
      "metadata": {
        "id": "8lPWT4vL8zFd"
      },
      "outputs": [],
      "source": [
        "import os\n",
        "import getpass\n",
        "\n",
        "from google.colab import userdata\n",
        "api_key = userdata.get('open_ai_key')\n",
        "\n",
        "if not api_key:\n",
        "  api_key = getpass.getpass(\"Enter your OpenAI API Key: \")\n",
        "\n",
        "os.environ['OPENAI_API_KEY'] = api_key"
      ]
    },
    {
      "cell_type": "markdown",
      "metadata": {
        "id": "FW3W8ogDZJS_"
      },
      "source": [
        "## Model\n",
        "\n",
        "Now we can setup our OpenAI language model - which we'll use through the remaining cells in the notebook."
      ]
    },
    {
      "cell_type": "code",
      "execution_count": null,
      "metadata": {
        "id": "VJAy8_hw8rUu"
      },
      "outputs": [],
      "source": [
        "from dspy import OpenAI\n",
        "\n",
        "llm = OpenAI(model='gpt-3.5-turbo', api_key=api_key)"
      ]
    },
    {
      "cell_type": "markdown",
      "metadata": {
        "id": "ONjD_6hKZPsD"
      },
      "source": [
        "Similar to other libraries, we can call the LLM directly with a string to get a response!"
      ]
    },
    {
      "cell_type": "code",
      "execution_count": null,
      "metadata": {
        "colab": {
          "base_uri": "https://localhost:8080/"
        },
        "id": "BlwRrI1UZOFc",
        "outputId": "31b35a15-124b-47e1-9785-aca6f09df3a5"
      },
      "outputs": [
        {
          "output_type": "execute_result",
          "data": {
            "text/plain": [
              "['The square root of pi is approximately 1.77245385091.']"
            ]
          },
          "metadata": {},
          "execution_count": 4
        }
      ],
      "source": [
        "llm(\"What is the square root of pi?\")"
      ]
    },
    {
      "cell_type": "markdown",
      "metadata": {
        "id": "oAO_nkG_ZVVV"
      },
      "source": [
        "We'll also set our `setting.configure` with our OpenAI model in the `lm` (Language Model) field for a default LM to use in case we don't specify which LM we'd like to use when calling our DSPy `Predictors`."
      ]
    },
    {
      "cell_type": "code",
      "execution_count": null,
      "metadata": {
        "id": "feM8E46m9Gna"
      },
      "outputs": [],
      "source": [
        "import dspy\n",
        "\n",
        "dspy.settings.configure(lm=llm)"
      ]
    },
    {
      "cell_type": "markdown",
      "metadata": {
        "id": "G5H-q4WdZhc3"
      },
      "source": [
        "## Data\n",
        "\n",
        "We're going to be using a dataset that provides a number of example sentences, along with a rating that indicates their \"dopeness\" level."
      ]
    },
    {
      "cell_type": "markdown",
      "metadata": {
        "id": "OMgZxUByaz68"
      },
      "source": [
        "We have a total of 99 rows of data, and will be splitting that into a `trainset` and a `valset` - for training and evaluation."
      ]
    },
    {
      "cell_type": "code",
      "execution_count": null,
      "metadata": {
        "colab": {
          "base_uri": "https://localhost:8080/",
          "height": 206
        },
        "id": "YMBCVzwhDKJr",
        "outputId": "1b29e341-f6c1-475e-ce86-528afedeb3a0"
      },
      "outputs": [
        {
          "output_type": "execute_result",
          "data": {
            "text/plain": [
              "                                                   Text  Sentiment\n",
              "3473  user: VZ 6.2 million of 9 million phones sold ...          1\n",
              "4135                        MAKO breaks out beautifully          1\n",
              "773   AJ from watch list triggered a few cents yeste...          1\n",
              "2581               QCO  5 Stocks ising on nusual Volume          1\n",
              "1764  Green Weekly Triangle on CB,....Open Sell Shor...          0"
            ],
            "text/html": [
              "\n",
              "  <div id=\"df-6bc9ca2a-c9bb-478b-a18a-613ff8e76cf3\" class=\"colab-df-container\">\n",
              "    <div>\n",
              "<style scoped>\n",
              "    .dataframe tbody tr th:only-of-type {\n",
              "        vertical-align: middle;\n",
              "    }\n",
              "\n",
              "    .dataframe tbody tr th {\n",
              "        vertical-align: top;\n",
              "    }\n",
              "\n",
              "    .dataframe thead th {\n",
              "        text-align: right;\n",
              "    }\n",
              "</style>\n",
              "<table border=\"1\" class=\"dataframe\">\n",
              "  <thead>\n",
              "    <tr style=\"text-align: right;\">\n",
              "      <th></th>\n",
              "      <th>Text</th>\n",
              "      <th>Sentiment</th>\n",
              "    </tr>\n",
              "  </thead>\n",
              "  <tbody>\n",
              "    <tr>\n",
              "      <th>3473</th>\n",
              "      <td>user: VZ 6.2 million of 9 million phones sold ...</td>\n",
              "      <td>1</td>\n",
              "    </tr>\n",
              "    <tr>\n",
              "      <th>4135</th>\n",
              "      <td>MAKO breaks out beautifully</td>\n",
              "      <td>1</td>\n",
              "    </tr>\n",
              "    <tr>\n",
              "      <th>773</th>\n",
              "      <td>AJ from watch list triggered a few cents yeste...</td>\n",
              "      <td>1</td>\n",
              "    </tr>\n",
              "    <tr>\n",
              "      <th>2581</th>\n",
              "      <td>QCO  5 Stocks ising on nusual Volume</td>\n",
              "      <td>1</td>\n",
              "    </tr>\n",
              "    <tr>\n",
              "      <th>1764</th>\n",
              "      <td>Green Weekly Triangle on CB,....Open Sell Shor...</td>\n",
              "      <td>0</td>\n",
              "    </tr>\n",
              "  </tbody>\n",
              "</table>\n",
              "</div>\n",
              "    <div class=\"colab-df-buttons\">\n",
              "\n",
              "  <div class=\"colab-df-container\">\n",
              "    <button class=\"colab-df-convert\" onclick=\"convertToInteractive('df-6bc9ca2a-c9bb-478b-a18a-613ff8e76cf3')\"\n",
              "            title=\"Convert this dataframe to an interactive table.\"\n",
              "            style=\"display:none;\">\n",
              "\n",
              "  <svg xmlns=\"http://www.w3.org/2000/svg\" height=\"24px\" viewBox=\"0 -960 960 960\">\n",
              "    <path d=\"M120-120v-720h720v720H120Zm60-500h600v-160H180v160Zm220 220h160v-160H400v160Zm0 220h160v-160H400v160ZM180-400h160v-160H180v160Zm440 0h160v-160H620v160ZM180-180h160v-160H180v160Zm440 0h160v-160H620v160Z\"/>\n",
              "  </svg>\n",
              "    </button>\n",
              "\n",
              "  <style>\n",
              "    .colab-df-container {\n",
              "      display:flex;\n",
              "      gap: 12px;\n",
              "    }\n",
              "\n",
              "    .colab-df-convert {\n",
              "      background-color: #E8F0FE;\n",
              "      border: none;\n",
              "      border-radius: 50%;\n",
              "      cursor: pointer;\n",
              "      display: none;\n",
              "      fill: #1967D2;\n",
              "      height: 32px;\n",
              "      padding: 0 0 0 0;\n",
              "      width: 32px;\n",
              "    }\n",
              "\n",
              "    .colab-df-convert:hover {\n",
              "      background-color: #E2EBFA;\n",
              "      box-shadow: 0px 1px 2px rgba(60, 64, 67, 0.3), 0px 1px 3px 1px rgba(60, 64, 67, 0.15);\n",
              "      fill: #174EA6;\n",
              "    }\n",
              "\n",
              "    .colab-df-buttons div {\n",
              "      margin-bottom: 4px;\n",
              "    }\n",
              "\n",
              "    [theme=dark] .colab-df-convert {\n",
              "      background-color: #3B4455;\n",
              "      fill: #D2E3FC;\n",
              "    }\n",
              "\n",
              "    [theme=dark] .colab-df-convert:hover {\n",
              "      background-color: #434B5C;\n",
              "      box-shadow: 0px 1px 3px 1px rgba(0, 0, 0, 0.15);\n",
              "      filter: drop-shadow(0px 1px 2px rgba(0, 0, 0, 0.3));\n",
              "      fill: #FFFFFF;\n",
              "    }\n",
              "  </style>\n",
              "\n",
              "    <script>\n",
              "      const buttonEl =\n",
              "        document.querySelector('#df-6bc9ca2a-c9bb-478b-a18a-613ff8e76cf3 button.colab-df-convert');\n",
              "      buttonEl.style.display =\n",
              "        google.colab.kernel.accessAllowed ? 'block' : 'none';\n",
              "\n",
              "      async function convertToInteractive(key) {\n",
              "        const element = document.querySelector('#df-6bc9ca2a-c9bb-478b-a18a-613ff8e76cf3');\n",
              "        const dataTable =\n",
              "          await google.colab.kernel.invokeFunction('convertToInteractive',\n",
              "                                                    [key], {});\n",
              "        if (!dataTable) return;\n",
              "\n",
              "        const docLinkHtml = 'Like what you see? Visit the ' +\n",
              "          '<a target=\"_blank\" href=https://colab.research.google.com/notebooks/data_table.ipynb>data table notebook</a>'\n",
              "          + ' to learn more about interactive tables.';\n",
              "        element.innerHTML = '';\n",
              "        dataTable['output_type'] = 'display_data';\n",
              "        await google.colab.output.renderOutput(dataTable, element);\n",
              "        const docLink = document.createElement('div');\n",
              "        docLink.innerHTML = docLinkHtml;\n",
              "        element.appendChild(docLink);\n",
              "      }\n",
              "    </script>\n",
              "  </div>\n",
              "\n",
              "\n",
              "<div id=\"df-ced116ba-2ab6-4524-ae76-e0164859bbfc\">\n",
              "  <button class=\"colab-df-quickchart\" onclick=\"quickchart('df-ced116ba-2ab6-4524-ae76-e0164859bbfc')\"\n",
              "            title=\"Suggest charts\"\n",
              "            style=\"display:none;\">\n",
              "\n",
              "<svg xmlns=\"http://www.w3.org/2000/svg\" height=\"24px\"viewBox=\"0 0 24 24\"\n",
              "     width=\"24px\">\n",
              "    <g>\n",
              "        <path d=\"M19 3H5c-1.1 0-2 .9-2 2v14c0 1.1.9 2 2 2h14c1.1 0 2-.9 2-2V5c0-1.1-.9-2-2-2zM9 17H7v-7h2v7zm4 0h-2V7h2v10zm4 0h-2v-4h2v4z\"/>\n",
              "    </g>\n",
              "</svg>\n",
              "  </button>\n",
              "\n",
              "<style>\n",
              "  .colab-df-quickchart {\n",
              "      --bg-color: #E8F0FE;\n",
              "      --fill-color: #1967D2;\n",
              "      --hover-bg-color: #E2EBFA;\n",
              "      --hover-fill-color: #174EA6;\n",
              "      --disabled-fill-color: #AAA;\n",
              "      --disabled-bg-color: #DDD;\n",
              "  }\n",
              "\n",
              "  [theme=dark] .colab-df-quickchart {\n",
              "      --bg-color: #3B4455;\n",
              "      --fill-color: #D2E3FC;\n",
              "      --hover-bg-color: #434B5C;\n",
              "      --hover-fill-color: #FFFFFF;\n",
              "      --disabled-bg-color: #3B4455;\n",
              "      --disabled-fill-color: #666;\n",
              "  }\n",
              "\n",
              "  .colab-df-quickchart {\n",
              "    background-color: var(--bg-color);\n",
              "    border: none;\n",
              "    border-radius: 50%;\n",
              "    cursor: pointer;\n",
              "    display: none;\n",
              "    fill: var(--fill-color);\n",
              "    height: 32px;\n",
              "    padding: 0;\n",
              "    width: 32px;\n",
              "  }\n",
              "\n",
              "  .colab-df-quickchart:hover {\n",
              "    background-color: var(--hover-bg-color);\n",
              "    box-shadow: 0 1px 2px rgba(60, 64, 67, 0.3), 0 1px 3px 1px rgba(60, 64, 67, 0.15);\n",
              "    fill: var(--button-hover-fill-color);\n",
              "  }\n",
              "\n",
              "  .colab-df-quickchart-complete:disabled,\n",
              "  .colab-df-quickchart-complete:disabled:hover {\n",
              "    background-color: var(--disabled-bg-color);\n",
              "    fill: var(--disabled-fill-color);\n",
              "    box-shadow: none;\n",
              "  }\n",
              "\n",
              "  .colab-df-spinner {\n",
              "    border: 2px solid var(--fill-color);\n",
              "    border-color: transparent;\n",
              "    border-bottom-color: var(--fill-color);\n",
              "    animation:\n",
              "      spin 1s steps(1) infinite;\n",
              "  }\n",
              "\n",
              "  @keyframes spin {\n",
              "    0% {\n",
              "      border-color: transparent;\n",
              "      border-bottom-color: var(--fill-color);\n",
              "      border-left-color: var(--fill-color);\n",
              "    }\n",
              "    20% {\n",
              "      border-color: transparent;\n",
              "      border-left-color: var(--fill-color);\n",
              "      border-top-color: var(--fill-color);\n",
              "    }\n",
              "    30% {\n",
              "      border-color: transparent;\n",
              "      border-left-color: var(--fill-color);\n",
              "      border-top-color: var(--fill-color);\n",
              "      border-right-color: var(--fill-color);\n",
              "    }\n",
              "    40% {\n",
              "      border-color: transparent;\n",
              "      border-right-color: var(--fill-color);\n",
              "      border-top-color: var(--fill-color);\n",
              "    }\n",
              "    60% {\n",
              "      border-color: transparent;\n",
              "      border-right-color: var(--fill-color);\n",
              "    }\n",
              "    80% {\n",
              "      border-color: transparent;\n",
              "      border-right-color: var(--fill-color);\n",
              "      border-bottom-color: var(--fill-color);\n",
              "    }\n",
              "    90% {\n",
              "      border-color: transparent;\n",
              "      border-bottom-color: var(--fill-color);\n",
              "    }\n",
              "  }\n",
              "</style>\n",
              "\n",
              "  <script>\n",
              "    async function quickchart(key) {\n",
              "      const quickchartButtonEl =\n",
              "        document.querySelector('#' + key + ' button');\n",
              "      quickchartButtonEl.disabled = true;  // To prevent multiple clicks.\n",
              "      quickchartButtonEl.classList.add('colab-df-spinner');\n",
              "      try {\n",
              "        const charts = await google.colab.kernel.invokeFunction(\n",
              "            'suggestCharts', [key], {});\n",
              "      } catch (error) {\n",
              "        console.error('Error during call to suggestCharts:', error);\n",
              "      }\n",
              "      quickchartButtonEl.classList.remove('colab-df-spinner');\n",
              "      quickchartButtonEl.classList.add('colab-df-quickchart-complete');\n",
              "    }\n",
              "    (() => {\n",
              "      let quickchartButtonEl =\n",
              "        document.querySelector('#df-ced116ba-2ab6-4524-ae76-e0164859bbfc button');\n",
              "      quickchartButtonEl.style.display =\n",
              "        google.colab.kernel.accessAllowed ? 'block' : 'none';\n",
              "    })();\n",
              "  </script>\n",
              "</div>\n",
              "\n",
              "    </div>\n",
              "  </div>\n"
            ],
            "application/vnd.google.colaboratory.intrinsic+json": {
              "type": "dataframe",
              "variable_name": "dataset",
              "summary": "{\n  \"name\": \"dataset\",\n  \"rows\": 5791,\n  \"fields\": [\n    {\n      \"column\": \"Text\",\n      \"properties\": {\n        \"dtype\": \"string\",\n        \"num_unique_values\": 5790,\n        \"samples\": [\n          \"Borrowers Unlikely To Get Loan Moratorium Benefit As Banks Will Charge Interest Later\\nhttps://t.co/f8h7OXeKT3\",\n          \"cool stuff. Don't rock the boat tho! (see ISG) :) user Heart epair Breakthroughs eplace Surgeon's Knife  EW\",\n          \"TAB has just broke a Falling Wedge Pattern. Short-term sentiment has turn bullish.\"\n        ],\n        \"semantic_type\": \"\",\n        \"description\": \"\"\n      }\n    },\n    {\n      \"column\": \"Sentiment\",\n      \"properties\": {\n        \"dtype\": \"number\",\n        \"std\": 0,\n        \"min\": 0,\n        \"max\": 1,\n        \"num_unique_values\": 2,\n        \"samples\": [\n          0,\n          1\n        ],\n        \"semantic_type\": \"\",\n        \"description\": \"\"\n      }\n    }\n  ]\n}"
            }
          },
          "metadata": {},
          "execution_count": 6
        }
      ],
      "source": [
        "import pandas as pd\n",
        "\n",
        "dataset = pd.read_csv(\"https://raw.githubusercontent.com/cjflanagan/cs68/master/stock_data_nlp.csv\")\n",
        "# change sentiment from 1 to \"Positive\" and 0 to \"Negative\"\n",
        "# dataset['Sentiment'] = dataset['Sentiment'].replace([0, 1], ['Negative', 'Positive'])\n",
        "dataset = dataset.sample(frac=1)  # frac=1 shuffles all rows\n",
        "dataset.head()"
      ]
    },
    {
      "cell_type": "code",
      "execution_count": null,
      "metadata": {
        "colab": {
          "base_uri": "https://localhost:8080/"
        },
        "id": "YNUjIUcK66ly",
        "outputId": "889a1440-4a96-4d30-bbe3-8d46679ee9b7"
      },
      "outputs": [
        {
          "output_type": "stream",
          "name": "stdout",
          "text": [
            "<class 'pandas.core.frame.DataFrame'>\n",
            "Index: 5791 entries, 3473 to 4980\n",
            "Data columns (total 2 columns):\n",
            " #   Column     Non-Null Count  Dtype \n",
            "---  ------     --------------  ----- \n",
            " 0   Text       5791 non-null   object\n",
            " 1   Sentiment  5791 non-null   int64 \n",
            "dtypes: int64(1), object(1)\n",
            "memory usage: 135.7+ KB\n"
          ]
        }
      ],
      "source": [
        "dataset.info()"
      ]
    },
    {
      "cell_type": "code",
      "execution_count": null,
      "metadata": {
        "id": "lW3c8wPZtwrt"
      },
      "outputs": [],
      "source": [
        "dataset.to_csv(\"tweet_sentiment.csv\", index=False)"
      ]
    },
    {
      "cell_type": "markdown",
      "metadata": {
        "id": "ZwyoqDkvcBxr"
      },
      "source": [
        "Due to the nature of the dataset, we'll need to shuffle our dataset to ensure our labels are not clumped up, and our `valset` is remotely representative to our `trainset`."
      ]
    },
    {
      "cell_type": "markdown",
      "metadata": {
        "id": "nrr-xSbtcPBK"
      },
      "source": [
        "We'll move our `Dataset` into the expected format in DSPy which is the [`Example`](https://dspy-docs.vercel.app/docs/deep-dive/data-handling/examples)!\n",
        "\n",
        "\n",
        "Our examples will have two keys:\n",
        "\n",
        "- `sentence`, our input sentence to be rated\n",
        "- `rating`, our rating label\n",
        "\n",
        "We'll specify our input as `sentence` to properly leverage the DSPy framework."
      ]
    },
    {
      "cell_type": "code",
      "execution_count": null,
      "metadata": {
        "colab": {
          "base_uri": "https://localhost:8080/"
        },
        "id": "07ARkkb_CnBT",
        "outputId": "9c6efc6f-8918-4d7b-c792-7a6e4a2f18cf"
      },
      "outputs": [
        {
          "output_type": "execute_result",
          "data": {
            "text/plain": [
              "5791"
            ]
          },
          "metadata": {},
          "execution_count": 9
        }
      ],
      "source": [
        "from dspy import Example\n",
        "\n",
        "trainset = []\n",
        "\n",
        "# Iterate over rows in the DataFrame\n",
        "for index, row in dataset.iterrows():\n",
        "    trainset.append(Example(sentence=row[\"Text\"], rating=row[\"Sentiment\"]).with_inputs(\"sentence\"))\n",
        "\n",
        "len(trainset)"
      ]
    },
    {
      "cell_type": "code",
      "execution_count": null,
      "metadata": {
        "colab": {
          "base_uri": "https://localhost:8080/"
        },
        "id": "azyuE8cLoBNz",
        "outputId": "18479a77-eed1-430f-8d52-fd9d4339a502"
      },
      "outputs": [
        {
          "output_type": "execute_result",
          "data": {
            "text/plain": [
              "[Example({'sentence': 'user: VZ 6.2 million of 9 million phones sold were AAP strongest period of sales since 2011 FIE THE CEO!', 'rating': 1}) (input_keys={'sentence'}),\n",
              " Example({'sentence': 'MAKO breaks out beautifully', 'rating': 1}) (input_keys={'sentence'}),\n",
              " Example({'sentence': 'AJ from watch list triggered a few cents yesterday and continues today - volume 41%', 'rating': 1}) (input_keys={'sentence'}),\n",
              " Example({'sentence': 'QCO  5 Stocks ising on nusual Volume', 'rating': 1}) (input_keys={'sentence'}),\n",
              " Example({'sentence': 'Green Weekly Triangle on CB,....Open Sell Short at 3.38  ', 'rating': 0}) (input_keys={'sentence'}),\n",
              " Example({'sentence': 'HPQ user option guest on bloomberg tv just said buy march 18 calls too but also hedge by selling feb 17.50 calls other guests T', 'rating': 0}) (input_keys={'sentence'}),\n",
              " Example({'sentence': 'user I lost 15% of my holdings when it first opened, but have recouped it all through AAP and now FB. Buying more of both', 'rating': 1}) (input_keys={'sentence'}),\n",
              " Example({'sentence': 'Government May Act Out Of Fear, Hold Back In COVID Fight: Rajiv Bajaj\\nhttps://t.co/hJ0dxsJ0cR', 'rating': 0}) (input_keys={'sentence'}),\n",
              " Example({'sentence': \"i think we'll see aapl at sub 430s by the end of the day.  not saying it pins 430 but i think it revisits it for sure.\", 'rating': 0}) (input_keys={'sentence'}),\n",
              " Example({'sentence': 'US Markets Crash Again As Dow Plunges 1,700 Points In Early Trade\\nhttps://t.co/oLizZCixYO', 'rating': 0}) (input_keys={'sentence'})]"
            ]
          },
          "metadata": {},
          "execution_count": 10
        }
      ],
      "source": [
        "trainset[0:10]"
      ]
    },
    {
      "cell_type": "markdown",
      "metadata": {
        "id": "wZC2yAnqc31Q"
      },
      "source": [
        "We'll repeat the same process for our `valset` as well."
      ]
    },
    {
      "cell_type": "code",
      "execution_count": null,
      "metadata": {
        "id": "VTDPZJUZD_hM"
      },
      "outputs": [],
      "source": [
        "valset = trainset[0:100]\n",
        "trainset = trainset[100:]"
      ]
    },
    {
      "cell_type": "markdown",
      "metadata": {
        "id": "GKKim9uRc8Q0"
      },
      "source": [
        "Let's take a peek at an example from our `trainset` and `valset`!"
      ]
    },
    {
      "cell_type": "code",
      "execution_count": null,
      "metadata": {
        "colab": {
          "base_uri": "https://localhost:8080/"
        },
        "id": "PVgP0ctkEJC9",
        "outputId": "855a1bc5-b536-44e5-d2d9-511db917bd04"
      },
      "outputs": [
        {
          "output_type": "stream",
          "name": "stdout",
          "text": [
            "Sentence: MTG closed at the low. still short from 5.70's\n",
            "Label: 0\n"
          ]
        }
      ],
      "source": [
        "train_example = trainset[0]\n",
        "print(f\"Sentence: {train_example.sentence}\")\n",
        "print(f\"Label: {train_example.rating}\")"
      ]
    },
    {
      "cell_type": "code",
      "execution_count": null,
      "metadata": {
        "colab": {
          "base_uri": "https://localhost:8080/"
        },
        "id": "zHFDjOT9EUip",
        "outputId": "cea87cf4-e616-4341-bc20-74a08dd9642a"
      },
      "outputs": [
        {
          "output_type": "stream",
          "name": "stdout",
          "text": [
            "Sentence: user: VZ 6.2 million of 9 million phones sold were AAP strongest period of sales since 2011 FIE THE CEO!\n",
            "Label: 1\n"
          ]
        }
      ],
      "source": [
        "valset_example = valset[0]\n",
        "print(f\"Sentence: {valset_example.sentence}\")\n",
        "print(f\"Label: {valset_example.rating}\")"
      ]
    },
    {
      "cell_type": "markdown",
      "metadata": {
        "id": "lbjjPIJsdAYs"
      },
      "source": [
        "## Signature\n",
        "\n",
        "The first foundational unit in DSPy is the `Signature`.\n",
        "\n",
        "In a sense, a `Signature` can be thought of as both a prompt, as well as metadata about that prompt.\n",
        "\n",
        "Going beyong just a simple `SystemMessage`, as seen in other frameworks, the `Signature` helps DSPy validate datatypes, create examples, and more.\n",
        "\n",
        "> NOTE: DSPy's [documentation](https://dspy-docs.vercel.app/docs/deep-dive/signature/understanding-signatures#what-is-a-signature) goes into more detail about what exactly a `Signature` is."
      ]
    },
    {
      "cell_type": "code",
      "execution_count": null,
      "metadata": {
        "id": "WcshNXosEaRb"
      },
      "outputs": [],
      "source": [
        "from dspy import Signature, InputField, OutputField\n",
        "\n",
        "class PositiveOrNegativeSignature(Signature):\n",
        "  \"\"\"Rate the input as being either 1 or 0. Only return 1 or 0\"\"\"\n",
        "  sentence: str = InputField()\n",
        "  rating: int = OutputField(desc='key-value pairs')"
      ]
    },
    {
      "cell_type": "markdown",
      "metadata": {
        "id": "R5BnXK3VdnSL"
      },
      "source": [
        "## Predictor\n",
        "\n",
        "Now that we have our `Signature`, we can build a `Predictor` that leverages it.\n",
        "\n",
        "A `Predictor`, in the simplest terms, is what calls the LLM using our signature. Importantly, the `Predictor` knows how to leverage our signature to call the LLM. From DSPy's documentation, one of the most interesting parts of a `Predictor` is that it can *learn* to become better at the desired task!\n",
        "\n",
        "Let's take a look at our `TypedPredictor` below to see more."
      ]
    },
    {
      "cell_type": "code",
      "execution_count": null,
      "metadata": {
        "id": "xxsLox0KEtwk"
      },
      "outputs": [],
      "source": [
        "from dspy.functional import TypedPredictor\n",
        "\n",
        "generate_label = TypedPredictor(PositiveOrNegativeSignature)"
      ]
    },
    {
      "cell_type": "code",
      "execution_count": null,
      "metadata": {
        "colab": {
          "base_uri": "https://localhost:8080/"
        },
        "id": "uKjZPqJCeeGs",
        "outputId": "207da90a-7ffa-4fe6-d5a4-4097f0dbf251"
      },
      "outputs": [
        {
          "output_type": "execute_result",
          "data": {
            "text/plain": [
              "TypedPredictor(PositiveOrNegativeSignature(sentence -> rating\n",
              "    instructions='Rate the input as being either 1 or 0. Only return 1 or 0'\n",
              "    sentence = Field(annotation=str required=True json_schema_extra={'__dspy_field_type': 'input', 'prefix': 'Sentence:', 'desc': '${sentence}'})\n",
              "    rating = Field(annotation=int required=True json_schema_extra={'desc': 'key-value pairs', '__dspy_field_type': 'output', 'prefix': 'Rating:'})\n",
              "))"
            ]
          },
          "metadata": {},
          "execution_count": 16
        }
      ],
      "source": [
        "generate_label"
      ]
    },
    {
      "cell_type": "code",
      "execution_count": null,
      "metadata": {
        "colab": {
          "base_uri": "https://localhost:8080/"
        },
        "id": "UUjXc2BIE_as",
        "outputId": "5c0747a5-38b4-483a-f03e-4f5c64cf51ce"
      },
      "outputs": [
        {
          "output_type": "stream",
          "name": "stdout",
          "text": [
            "Sentence: user: VZ 6.2 million of 9 million phones sold were AAP strongest period of sales since 2011 FIE THE CEO!\n",
            "Prediction: Prediction(\n",
            "    rating=1\n",
            ")\n"
          ]
        }
      ],
      "source": [
        "label_prediction = generate_label(sentence=valset_example.sentence)\n",
        "print(f\"Sentence: {valset_example.sentence}\")\n",
        "print(f\"Prediction: {label_prediction}\")"
      ]
    },
    {
      "cell_type": "markdown",
      "metadata": {
        "id": "Fw6qrDP7gbf1"
      },
      "source": [
        "We can, at any time, check our LLMs outputs through the `inspect_history`."
      ]
    },
    {
      "cell_type": "code",
      "execution_count": null,
      "metadata": {
        "colab": {
          "base_uri": "https://localhost:8080/",
          "height": 399
        },
        "id": "ncjnowmCHGd0",
        "outputId": "499f9e56-07ac-4c8f-bf5a-7abf83b57f92"
      },
      "outputs": [
        {
          "output_type": "stream",
          "name": "stdout",
          "text": [
            "\n",
            "\n",
            "\n",
            "Rate the input as being either 1 or 0. Only return 1 or 0\n",
            "\n",
            "---\n",
            "\n",
            "Follow the following format.\n",
            "\n",
            "Sentence: ${sentence}\n",
            "Rating: key-value pairs (Respond with a single int value)\n",
            "\n",
            "---\n",
            "\n",
            "Sentence: user: VZ 6.2 million of 9 million phones sold were AAP strongest period of sales since 2011 FIE THE CEO!\n",
            "Rating:\u001b[32m 1\u001b[0m\n",
            "\n",
            "\n",
            "\n"
          ]
        },
        {
          "output_type": "execute_result",
          "data": {
            "text/plain": [
              "'\\n\\n\\nRate the input as being either 1 or 0. Only return 1 or 0\\n\\n---\\n\\nFollow the following format.\\n\\nSentence: ${sentence}\\nRating: key-value pairs (Respond with a single int value)\\n\\n---\\n\\nSentence: user: VZ 6.2 million of 9 million phones sold were AAP strongest period of sales since 2011 FIE THE CEO!\\nRating:\\x1b[32m 1\\x1b[0m\\n\\n\\n'"
            ],
            "application/vnd.google.colaboratory.intrinsic+json": {
              "type": "string"
            }
          },
          "metadata": {},
          "execution_count": 18
        }
      ],
      "source": [
        "llm.inspect_history(n=1)"
      ]
    },
    {
      "cell_type": "markdown",
      "metadata": {
        "id": "XTiQ2g3afO8k"
      },
      "source": [
        "Notice how, without our input - the `TypedPredictor` has included format instructions to the LLM to help ensure our returned data resembles what we desire."
      ]
    },
    {
      "cell_type": "markdown",
      "metadata": {
        "id": "wuuQ1GxNffdm"
      },
      "source": [
        "Let's look at another example of a `Predictor` - this time with Chain of Thought.\n",
        "\n",
        "In order to use this - we don't have to do anything with our `Signature`! We can leave it exactly as is - and allow the `Predictor` to adapt to it.\n",
        "\n",
        "> NOTE: We won't be using this predictor going forward - this is just to showcase the ease of using another `Predictor` with a `Signature`."
      ]
    },
    {
      "cell_type": "code",
      "execution_count": null,
      "metadata": {
        "id": "CcRQk4uQHImC"
      },
      "outputs": [],
      "source": [
        "from dspy.functional import TypedChainOfThought\n",
        "\n",
        "generate_label_with_chain_of_thought = TypedChainOfThought(PositiveOrNegativeSignature)\n",
        "\n",
        "label_prediction = generate_label_with_chain_of_thought(sentence=valset_example.sentence)"
      ]
    },
    {
      "cell_type": "code",
      "execution_count": null,
      "metadata": {
        "colab": {
          "base_uri": "https://localhost:8080/"
        },
        "id": "vZf2PNb8HYaT",
        "outputId": "3f440db9-1f5a-4951-90c9-2cd746ed4b78"
      },
      "outputs": [
        {
          "output_type": "stream",
          "name": "stdout",
          "text": [
            "Sentence: user: VZ 6.2 million of 9 million phones sold were AAP strongest period of sales since 2011 FIE THE CEO!\n",
            "Reasoning: produce the rating. We see that the user is mentioning the number of phones sold by VZ, which is 6.2 million out of 9 million. They also mention that this is the strongest period of sales since 2011. The user is expressing excitement about this news.\n",
            "Ground Truth Label: 1\n",
            "Prediction: 1\n"
          ]
        }
      ],
      "source": [
        "print(f\"Sentence: {valset_example.sentence}\")\n",
        "print(f\"Reasoning: {label_prediction.reasoning}\")\n",
        "print(f\"Ground Truth Label: {valset_example.rating}\")\n",
        "print(f\"Prediction: {label_prediction.rating}\")"
      ]
    },
    {
      "cell_type": "markdown",
      "metadata": {
        "id": "miii9xQxgAzm"
      },
      "source": [
        "We can, again, check our LLM's history to see what the actual prompt/response is.\n"
      ]
    },
    {
      "cell_type": "code",
      "execution_count": null,
      "metadata": {
        "colab": {
          "base_uri": "https://localhost:8080/",
          "height": 506
        },
        "id": "dMxOlK65VzCZ",
        "outputId": "1922d832-1b62-4a66-9d87-04ba76335df2"
      },
      "outputs": [
        {
          "output_type": "stream",
          "name": "stdout",
          "text": [
            "\n",
            "\n",
            "\n",
            "Rate the input as being either 1 or 0. Only return 1 or 0\n",
            "\n",
            "---\n",
            "\n",
            "Follow the following format.\n",
            "\n",
            "Sentence: ${sentence}\n",
            "Reasoning: Let's think step by step in order to ${produce the rating}. We ...\n",
            "Rating: key-value pairs (Respond with a single int value)\n",
            "\n",
            "---\n",
            "\n",
            "Sentence: user: VZ 6.2 million of 9 million phones sold were AAP strongest period of sales since 2011 FIE THE CEO!\n",
            "Reasoning: Let's think step by step in order to\u001b[32m produce the rating. We see that the user is mentioning the number of phones sold by VZ, which is 6.2 million out of 9 million. They also mention that this is the strongest period of sales since 2011. The user is expressing excitement about this news. \n",
            "Rating: 1\u001b[0m\n",
            "\n",
            "\n",
            "\n"
          ]
        },
        {
          "output_type": "execute_result",
          "data": {
            "text/plain": [
              "\"\\n\\n\\nRate the input as being either 1 or 0. Only return 1 or 0\\n\\n---\\n\\nFollow the following format.\\n\\nSentence: ${sentence}\\nReasoning: Let's think step by step in order to ${produce the rating}. We ...\\nRating: key-value pairs (Respond with a single int value)\\n\\n---\\n\\nSentence: user: VZ 6.2 million of 9 million phones sold were AAP strongest period of sales since 2011 FIE THE CEO!\\nReasoning: Let's think step by step in order to\\x1b[32m produce the rating. We see that the user is mentioning the number of phones sold by VZ, which is 6.2 million out of 9 million. They also mention that this is the strongest period of sales since 2011. The user is expressing excitement about this news. \\nRating: 1\\x1b[0m\\n\\n\\n\""
            ],
            "application/vnd.google.colaboratory.intrinsic+json": {
              "type": "string"
            }
          },
          "metadata": {},
          "execution_count": 21
        }
      ],
      "source": [
        "llm.inspect_history(n=1)"
      ]
    },
    {
      "cell_type": "markdown",
      "metadata": {
        "id": "a7U3yeCsg3B2"
      },
      "source": [
        "## Modules\n",
        "\n",
        "Now that we have our `TypedPredictor`, we can create a `Module`!\n",
        "\n",
        "A `Module` is useful because it allows us to interact with the `Predictor` and `Signature` in a way that DSPy can leverage for optimization.\n",
        "\n",
        "The helps the DSPy framework determine paths through your program - and helps during the `compilation` or optimisation steps (formerly `teleprompting`).\n",
        "\n",
        "> NOTE: You might notice this looks strikingly familiar to PyTorch, and this is by design!"
      ]
    },
    {
      "cell_type": "code",
      "execution_count": null,
      "metadata": {
        "id": "H6GoyWyUJkl6"
      },
      "outputs": [],
      "source": [
        "from dspy import Module, Prediction\n",
        "\n",
        "class PositiveOrNegativeStudent(Module):\n",
        "  def __init__(self):\n",
        "    super().__init__()\n",
        "\n",
        "    self.generate_rating = TypedPredictor(PositiveOrNegativeSignature)\n",
        "\n",
        "  def forward(self, sentence):\n",
        "    prediction = self.generate_rating(sentence=sentence)\n",
        "    return Prediction(rating=prediction.rating)"
      ]
    },
    {
      "cell_type": "markdown",
      "metadata": {
        "id": "PS2pf8tjh7lH"
      },
      "source": [
        "## Evaluate\n",
        "\n",
        "As with any good framework, DSPy has the ability to `Evaluate` - we can leverage this to determine how our current DSPy \"program\" (our `Module` in this case) operates.\n",
        "\n",
        "> NOTE: DSPy's \"program\" could be loosely related to a \"chain\" from the popular LLM Framework LangChain."
      ]
    },
    {
      "cell_type": "code",
      "execution_count": null,
      "metadata": {
        "colab": {
          "base_uri": "https://localhost:8080/",
          "height": 594
        },
        "id": "C9o5461qMKyt",
        "outputId": "a1933279-6f77-41a0-9786-9f16c6751b72"
      },
      "outputs": [
        {
          "output_type": "stream",
          "name": "stdout",
          "text": [
            "Average Metric: 61 / 100  (61.0): 100%|██████████| 100/100 [00:54<00:00,  1.84it/s]\n"
          ]
        },
        {
          "output_type": "display_data",
          "data": {
            "text/plain": [
              "<pandas.io.formats.style.Styler at 0x7f8e3e24e140>"
            ],
            "text/html": [
              "<style type=\"text/css\">\n",
              "#T_e10fc th {\n",
              "  text-align: left;\n",
              "}\n",
              "#T_e10fc td {\n",
              "  text-align: left;\n",
              "}\n",
              "#T_e10fc_row0_col0, #T_e10fc_row0_col1, #T_e10fc_row0_col2, #T_e10fc_row0_col3, #T_e10fc_row1_col0, #T_e10fc_row1_col1, #T_e10fc_row1_col2, #T_e10fc_row1_col3, #T_e10fc_row2_col0, #T_e10fc_row2_col1, #T_e10fc_row2_col2, #T_e10fc_row2_col3, #T_e10fc_row3_col0, #T_e10fc_row3_col1, #T_e10fc_row3_col2, #T_e10fc_row3_col3, #T_e10fc_row4_col0, #T_e10fc_row4_col1, #T_e10fc_row4_col2, #T_e10fc_row4_col3, #T_e10fc_row5_col0, #T_e10fc_row5_col1, #T_e10fc_row5_col2, #T_e10fc_row5_col3, #T_e10fc_row6_col0, #T_e10fc_row6_col1, #T_e10fc_row6_col2, #T_e10fc_row6_col3, #T_e10fc_row7_col0, #T_e10fc_row7_col1, #T_e10fc_row7_col2, #T_e10fc_row7_col3, #T_e10fc_row8_col0, #T_e10fc_row8_col1, #T_e10fc_row8_col2, #T_e10fc_row8_col3, #T_e10fc_row9_col0, #T_e10fc_row9_col1, #T_e10fc_row9_col2, #T_e10fc_row9_col3 {\n",
              "  text-align: left;\n",
              "  white-space: pre-wrap;\n",
              "  word-wrap: break-word;\n",
              "  max-width: 400px;\n",
              "}\n",
              "</style>\n",
              "<table id=\"T_e10fc\" class=\"dataframe\">\n",
              "  <thead>\n",
              "    <tr>\n",
              "      <th class=\"blank level0\" >&nbsp;</th>\n",
              "      <th id=\"T_e10fc_level0_col0\" class=\"col_heading level0 col0\" >sentence</th>\n",
              "      <th id=\"T_e10fc_level0_col1\" class=\"col_heading level0 col1\" >example_rating</th>\n",
              "      <th id=\"T_e10fc_level0_col2\" class=\"col_heading level0 col2\" >pred_rating</th>\n",
              "      <th id=\"T_e10fc_level0_col3\" class=\"col_heading level0 col3\" >exact_match_metric</th>\n",
              "    </tr>\n",
              "  </thead>\n",
              "  <tbody>\n",
              "    <tr>\n",
              "      <th id=\"T_e10fc_level0_row0\" class=\"row_heading level0 row0\" >0</th>\n",
              "      <td id=\"T_e10fc_row0_col0\" class=\"data row0 col0\" >user: VZ 6.2 million of 9 million phones sold were AAP strongest period of sales since 2011 FIE THE CEO!</td>\n",
              "      <td id=\"T_e10fc_row0_col1\" class=\"data row0 col1\" >1</td>\n",
              "      <td id=\"T_e10fc_row0_col2\" class=\"data row0 col2\" >1</td>\n",
              "      <td id=\"T_e10fc_row0_col3\" class=\"data row0 col3\" >✔️ [True]</td>\n",
              "    </tr>\n",
              "    <tr>\n",
              "      <th id=\"T_e10fc_level0_row1\" class=\"row_heading level0 row1\" >1</th>\n",
              "      <td id=\"T_e10fc_row1_col0\" class=\"data row1 col0\" >MAKO breaks out beautifully</td>\n",
              "      <td id=\"T_e10fc_row1_col1\" class=\"data row1 col1\" >1</td>\n",
              "      <td id=\"T_e10fc_row1_col2\" class=\"data row1 col2\" >1</td>\n",
              "      <td id=\"T_e10fc_row1_col3\" class=\"data row1 col3\" >✔️ [True]</td>\n",
              "    </tr>\n",
              "    <tr>\n",
              "      <th id=\"T_e10fc_level0_row2\" class=\"row_heading level0 row2\" >2</th>\n",
              "      <td id=\"T_e10fc_row2_col0\" class=\"data row2 col0\" >AJ from watch list triggered a few cents yesterday and continues today - volume 41%</td>\n",
              "      <td id=\"T_e10fc_row2_col1\" class=\"data row2 col1\" >1</td>\n",
              "      <td id=\"T_e10fc_row2_col2\" class=\"data row2 col2\" >1</td>\n",
              "      <td id=\"T_e10fc_row2_col3\" class=\"data row2 col3\" >✔️ [True]</td>\n",
              "    </tr>\n",
              "    <tr>\n",
              "      <th id=\"T_e10fc_level0_row3\" class=\"row_heading level0 row3\" >3</th>\n",
              "      <td id=\"T_e10fc_row3_col0\" class=\"data row3 col0\" >QCO  5 Stocks ising on nusual Volume</td>\n",
              "      <td id=\"T_e10fc_row3_col1\" class=\"data row3 col1\" >1</td>\n",
              "      <td id=\"T_e10fc_row3_col2\" class=\"data row3 col2\" >1</td>\n",
              "      <td id=\"T_e10fc_row3_col3\" class=\"data row3 col3\" >✔️ [True]</td>\n",
              "    </tr>\n",
              "    <tr>\n",
              "      <th id=\"T_e10fc_level0_row4\" class=\"row_heading level0 row4\" >4</th>\n",
              "      <td id=\"T_e10fc_row4_col0\" class=\"data row4 col0\" >Green Weekly Triangle on CB,....Open Sell Short at 3.38  </td>\n",
              "      <td id=\"T_e10fc_row4_col1\" class=\"data row4 col1\" >0</td>\n",
              "      <td id=\"T_e10fc_row4_col2\" class=\"data row4 col2\" >1</td>\n",
              "      <td id=\"T_e10fc_row4_col3\" class=\"data row4 col3\" >False</td>\n",
              "    </tr>\n",
              "    <tr>\n",
              "      <th id=\"T_e10fc_level0_row5\" class=\"row_heading level0 row5\" >5</th>\n",
              "      <td id=\"T_e10fc_row5_col0\" class=\"data row5 col0\" >HPQ user option guest on bloomberg tv just said buy march 18 calls too but also hedge by selling feb 17.50 calls other guests T</td>\n",
              "      <td id=\"T_e10fc_row5_col1\" class=\"data row5 col1\" >0</td>\n",
              "      <td id=\"T_e10fc_row5_col2\" class=\"data row5 col2\" >1</td>\n",
              "      <td id=\"T_e10fc_row5_col3\" class=\"data row5 col3\" >False</td>\n",
              "    </tr>\n",
              "    <tr>\n",
              "      <th id=\"T_e10fc_level0_row6\" class=\"row_heading level0 row6\" >6</th>\n",
              "      <td id=\"T_e10fc_row6_col0\" class=\"data row6 col0\" >user I lost 15% of my holdings when it first opened, but have recouped it all through AAP and now FB. Buying more of both</td>\n",
              "      <td id=\"T_e10fc_row6_col1\" class=\"data row6 col1\" >1</td>\n",
              "      <td id=\"T_e10fc_row6_col2\" class=\"data row6 col2\" >1</td>\n",
              "      <td id=\"T_e10fc_row6_col3\" class=\"data row6 col3\" >✔️ [True]</td>\n",
              "    </tr>\n",
              "    <tr>\n",
              "      <th id=\"T_e10fc_level0_row7\" class=\"row_heading level0 row7\" >7</th>\n",
              "      <td id=\"T_e10fc_row7_col0\" class=\"data row7 col0\" >Government May Act Out Of Fear, Hold Back In COVID Fight: Rajiv Bajaj\n",
              "https://t.co/hJ0dxsJ0cR</td>\n",
              "      <td id=\"T_e10fc_row7_col1\" class=\"data row7 col1\" >0</td>\n",
              "      <td id=\"T_e10fc_row7_col2\" class=\"data row7 col2\" >1</td>\n",
              "      <td id=\"T_e10fc_row7_col3\" class=\"data row7 col3\" >False</td>\n",
              "    </tr>\n",
              "    <tr>\n",
              "      <th id=\"T_e10fc_level0_row8\" class=\"row_heading level0 row8\" >8</th>\n",
              "      <td id=\"T_e10fc_row8_col0\" class=\"data row8 col0\" >i think we'll see aapl at sub 430s by the end of the day. not saying it pins 430 but i think it revisits it...</td>\n",
              "      <td id=\"T_e10fc_row8_col1\" class=\"data row8 col1\" >0</td>\n",
              "      <td id=\"T_e10fc_row8_col2\" class=\"data row8 col2\" >1</td>\n",
              "      <td id=\"T_e10fc_row8_col3\" class=\"data row8 col3\" >False</td>\n",
              "    </tr>\n",
              "    <tr>\n",
              "      <th id=\"T_e10fc_level0_row9\" class=\"row_heading level0 row9\" >9</th>\n",
              "      <td id=\"T_e10fc_row9_col0\" class=\"data row9 col0\" >US Markets Crash Again As Dow Plunges 1,700 Points In Early Trade\n",
              "https://t.co/oLizZCixYO</td>\n",
              "      <td id=\"T_e10fc_row9_col1\" class=\"data row9 col1\" >0</td>\n",
              "      <td id=\"T_e10fc_row9_col2\" class=\"data row9 col2\" >1</td>\n",
              "      <td id=\"T_e10fc_row9_col3\" class=\"data row9 col3\" >False</td>\n",
              "    </tr>\n",
              "  </tbody>\n",
              "</table>\n"
            ]
          },
          "metadata": {}
        },
        {
          "output_type": "display_data",
          "data": {
            "text/plain": [
              "<IPython.core.display.HTML object>"
            ],
            "text/html": [
              "\n",
              "                <div style='\n",
              "                    text-align: center;\n",
              "                    font-size: 16px;\n",
              "                    font-weight: bold;\n",
              "                    color: #555;\n",
              "                    margin: 10px 0;'>\n",
              "                    ... 90 more rows not displayed ...\n",
              "                </div>\n",
              "                "
            ]
          },
          "metadata": {}
        },
        {
          "output_type": "execute_result",
          "data": {
            "text/plain": [
              "61.0"
            ]
          },
          "metadata": {},
          "execution_count": 23
        }
      ],
      "source": [
        "from dspy.evaluate.evaluate import Evaluate\n",
        "\n",
        "evaluate_fewshot = Evaluate(devset=valset, num_threads=1, display_progress=True, display_table=10)\n",
        "\n",
        "def exact_match_metric(answer, pred, trace=None):\n",
        "  return answer.rating == pred.rating\n",
        "\n",
        "evaluate_fewshot(PositiveOrNegativeStudent(), metric=exact_match_metric)"
      ]
    },
    {
      "cell_type": "code",
      "execution_count": null,
      "metadata": {
        "colab": {
          "base_uri": "https://localhost:8080/",
          "height": 419
        },
        "id": "51shv4SZ4Tbu",
        "outputId": "e5b69050-307b-4951-ca34-d422764216cf"
      },
      "outputs": [
        {
          "output_type": "stream",
          "name": "stdout",
          "text": [
            "\n",
            "\n",
            "\n",
            "Rate the input as being either 1 or 0. Only return 1 or 0\n",
            "\n",
            "---\n",
            "\n",
            "Follow the following format.\n",
            "\n",
            "Sentence: ${sentence}\n",
            "Rating: key-value pairs (Respond with a single int value)\n",
            "\n",
            "---\n",
            "\n",
            "Sentence: The U.S.��������s national medical stockpile has sent out nearly half of its ventilators��������an amount that pales in compariso������� https://t.co/fexQEHpg4n\n",
            "Rating:\u001b[32m 1\u001b[0m\n",
            "\n",
            "\n",
            "\n"
          ]
        },
        {
          "output_type": "execute_result",
          "data": {
            "text/plain": [
              "'\\n\\n\\nRate the input as being either 1 or 0. Only return 1 or 0\\n\\n---\\n\\nFollow the following format.\\n\\nSentence: ${sentence}\\nRating: key-value pairs (Respond with a single int value)\\n\\n---\\n\\nSentence: The U.S.��������s national medical stockpile has sent out nearly half of its ventilators��������an amount that pales in compariso������� https://t.co/fexQEHpg4n\\nRating:\\x1b[32m 1\\x1b[0m\\n\\n\\n'"
            ],
            "application/vnd.google.colaboratory.intrinsic+json": {
              "type": "string"
            }
          },
          "metadata": {},
          "execution_count": 24
        }
      ],
      "source": [
        "llm.inspect_history(n=1)"
      ]
    },
    {
      "cell_type": "markdown",
      "metadata": {
        "id": "eIK6OdQFiUww"
      },
      "source": [
        "## Program Optimization (the Artist Formerly Known as Teleprompting)\n",
        "\n",
        "Optimization is the crux of the DSPy framework - it is what allows it to operate at a level beyond traditional prompt engineering.\n",
        "\n",
        "At a high level, optimisation is a way for the DSPy framework to take the program, a training set, and a metric - and make changes/tweaks to our program to improve our metrics on our dataset.\n",
        "\n",
        "Let's get started with the `LabeledFewShot` optimizer.\n",
        "\n",
        "The `LabeledFewShot` optimizer very simply provides a sample of the `trainset` as few-shot examples!"
      ]
    },
    {
      "cell_type": "code",
      "execution_count": null,
      "metadata": {
        "id": "wBq1Xs-CHphS"
      },
      "outputs": [],
      "source": [
        "from dspy.teleprompt import LabeledFewShot\n",
        "\n",
        "labeled_fewshot_optimizer = LabeledFewShot(k=4)"
      ]
    },
    {
      "cell_type": "markdown",
      "metadata": {
        "id": "KdtrS7hXjHzv"
      },
      "source": [
        "Once we define our optimizer, we can compile our program!"
      ]
    },
    {
      "cell_type": "code",
      "execution_count": null,
      "metadata": {
        "id": "eVv4aK2QJD3v"
      },
      "outputs": [],
      "source": [
        "compiled_dspy = labeled_fewshot_optimizer.compile(student=PositiveOrNegativeStudent(), trainset=trainset)"
      ]
    },
    {
      "cell_type": "markdown",
      "metadata": {
        "id": "8k_KhbL_jMXK"
      },
      "source": [
        "Let's evaluate!"
      ]
    },
    {
      "cell_type": "code",
      "execution_count": null,
      "metadata": {
        "colab": {
          "base_uri": "https://localhost:8080/",
          "height": 594
        },
        "id": "oxl_zZ51JQRc",
        "outputId": "e4446c29-4c3b-45c2-b3f4-cb2af8091427"
      },
      "outputs": [
        {
          "output_type": "stream",
          "name": "stdout",
          "text": [
            "Average Metric: 62 / 100  (62.0): 100%|██████████| 100/100 [00:53<00:00,  1.85it/s]\n"
          ]
        },
        {
          "output_type": "display_data",
          "data": {
            "text/plain": [
              "<pandas.io.formats.style.Styler at 0x7f8e3d5773a0>"
            ],
            "text/html": [
              "<style type=\"text/css\">\n",
              "#T_6ca16 th {\n",
              "  text-align: left;\n",
              "}\n",
              "#T_6ca16 td {\n",
              "  text-align: left;\n",
              "}\n",
              "#T_6ca16_row0_col0, #T_6ca16_row0_col1, #T_6ca16_row0_col2, #T_6ca16_row0_col3, #T_6ca16_row1_col0, #T_6ca16_row1_col1, #T_6ca16_row1_col2, #T_6ca16_row1_col3, #T_6ca16_row2_col0, #T_6ca16_row2_col1, #T_6ca16_row2_col2, #T_6ca16_row2_col3, #T_6ca16_row3_col0, #T_6ca16_row3_col1, #T_6ca16_row3_col2, #T_6ca16_row3_col3, #T_6ca16_row4_col0, #T_6ca16_row4_col1, #T_6ca16_row4_col2, #T_6ca16_row4_col3, #T_6ca16_row5_col0, #T_6ca16_row5_col1, #T_6ca16_row5_col2, #T_6ca16_row5_col3, #T_6ca16_row6_col0, #T_6ca16_row6_col1, #T_6ca16_row6_col2, #T_6ca16_row6_col3, #T_6ca16_row7_col0, #T_6ca16_row7_col1, #T_6ca16_row7_col2, #T_6ca16_row7_col3, #T_6ca16_row8_col0, #T_6ca16_row8_col1, #T_6ca16_row8_col2, #T_6ca16_row8_col3, #T_6ca16_row9_col0, #T_6ca16_row9_col1, #T_6ca16_row9_col2, #T_6ca16_row9_col3 {\n",
              "  text-align: left;\n",
              "  white-space: pre-wrap;\n",
              "  word-wrap: break-word;\n",
              "  max-width: 400px;\n",
              "}\n",
              "</style>\n",
              "<table id=\"T_6ca16\" class=\"dataframe\">\n",
              "  <thead>\n",
              "    <tr>\n",
              "      <th class=\"blank level0\" >&nbsp;</th>\n",
              "      <th id=\"T_6ca16_level0_col0\" class=\"col_heading level0 col0\" >sentence</th>\n",
              "      <th id=\"T_6ca16_level0_col1\" class=\"col_heading level0 col1\" >example_rating</th>\n",
              "      <th id=\"T_6ca16_level0_col2\" class=\"col_heading level0 col2\" >pred_rating</th>\n",
              "      <th id=\"T_6ca16_level0_col3\" class=\"col_heading level0 col3\" >exact_match_metric</th>\n",
              "    </tr>\n",
              "  </thead>\n",
              "  <tbody>\n",
              "    <tr>\n",
              "      <th id=\"T_6ca16_level0_row0\" class=\"row_heading level0 row0\" >0</th>\n",
              "      <td id=\"T_6ca16_row0_col0\" class=\"data row0 col0\" >user: VZ 6.2 million of 9 million phones sold were AAP strongest period of sales since 2011 FIE THE CEO!</td>\n",
              "      <td id=\"T_6ca16_row0_col1\" class=\"data row0 col1\" >1</td>\n",
              "      <td id=\"T_6ca16_row0_col2\" class=\"data row0 col2\" >1</td>\n",
              "      <td id=\"T_6ca16_row0_col3\" class=\"data row0 col3\" >✔️ [True]</td>\n",
              "    </tr>\n",
              "    <tr>\n",
              "      <th id=\"T_6ca16_level0_row1\" class=\"row_heading level0 row1\" >1</th>\n",
              "      <td id=\"T_6ca16_row1_col0\" class=\"data row1 col0\" >MAKO breaks out beautifully</td>\n",
              "      <td id=\"T_6ca16_row1_col1\" class=\"data row1 col1\" >1</td>\n",
              "      <td id=\"T_6ca16_row1_col2\" class=\"data row1 col2\" >1</td>\n",
              "      <td id=\"T_6ca16_row1_col3\" class=\"data row1 col3\" >✔️ [True]</td>\n",
              "    </tr>\n",
              "    <tr>\n",
              "      <th id=\"T_6ca16_level0_row2\" class=\"row_heading level0 row2\" >2</th>\n",
              "      <td id=\"T_6ca16_row2_col0\" class=\"data row2 col0\" >AJ from watch list triggered a few cents yesterday and continues today - volume 41%</td>\n",
              "      <td id=\"T_6ca16_row2_col1\" class=\"data row2 col1\" >1</td>\n",
              "      <td id=\"T_6ca16_row2_col2\" class=\"data row2 col2\" >1</td>\n",
              "      <td id=\"T_6ca16_row2_col3\" class=\"data row2 col3\" >✔️ [True]</td>\n",
              "    </tr>\n",
              "    <tr>\n",
              "      <th id=\"T_6ca16_level0_row3\" class=\"row_heading level0 row3\" >3</th>\n",
              "      <td id=\"T_6ca16_row3_col0\" class=\"data row3 col0\" >QCO  5 Stocks ising on nusual Volume</td>\n",
              "      <td id=\"T_6ca16_row3_col1\" class=\"data row3 col1\" >1</td>\n",
              "      <td id=\"T_6ca16_row3_col2\" class=\"data row3 col2\" >1</td>\n",
              "      <td id=\"T_6ca16_row3_col3\" class=\"data row3 col3\" >✔️ [True]</td>\n",
              "    </tr>\n",
              "    <tr>\n",
              "      <th id=\"T_6ca16_level0_row4\" class=\"row_heading level0 row4\" >4</th>\n",
              "      <td id=\"T_6ca16_row4_col0\" class=\"data row4 col0\" >Green Weekly Triangle on CB,....Open Sell Short at 3.38  </td>\n",
              "      <td id=\"T_6ca16_row4_col1\" class=\"data row4 col1\" >0</td>\n",
              "      <td id=\"T_6ca16_row4_col2\" class=\"data row4 col2\" >1</td>\n",
              "      <td id=\"T_6ca16_row4_col3\" class=\"data row4 col3\" >False</td>\n",
              "    </tr>\n",
              "    <tr>\n",
              "      <th id=\"T_6ca16_level0_row5\" class=\"row_heading level0 row5\" >5</th>\n",
              "      <td id=\"T_6ca16_row5_col0\" class=\"data row5 col0\" >HPQ user option guest on bloomberg tv just said buy march 18 calls too but also hedge by selling feb 17.50 calls other guests T</td>\n",
              "      <td id=\"T_6ca16_row5_col1\" class=\"data row5 col1\" >0</td>\n",
              "      <td id=\"T_6ca16_row5_col2\" class=\"data row5 col2\" >1</td>\n",
              "      <td id=\"T_6ca16_row5_col3\" class=\"data row5 col3\" >False</td>\n",
              "    </tr>\n",
              "    <tr>\n",
              "      <th id=\"T_6ca16_level0_row6\" class=\"row_heading level0 row6\" >6</th>\n",
              "      <td id=\"T_6ca16_row6_col0\" class=\"data row6 col0\" >user I lost 15% of my holdings when it first opened, but have recouped it all through AAP and now FB. Buying more of both</td>\n",
              "      <td id=\"T_6ca16_row6_col1\" class=\"data row6 col1\" >1</td>\n",
              "      <td id=\"T_6ca16_row6_col2\" class=\"data row6 col2\" >1</td>\n",
              "      <td id=\"T_6ca16_row6_col3\" class=\"data row6 col3\" >✔️ [True]</td>\n",
              "    </tr>\n",
              "    <tr>\n",
              "      <th id=\"T_6ca16_level0_row7\" class=\"row_heading level0 row7\" >7</th>\n",
              "      <td id=\"T_6ca16_row7_col0\" class=\"data row7 col0\" >Government May Act Out Of Fear, Hold Back In COVID Fight: Rajiv Bajaj\n",
              "https://t.co/hJ0dxsJ0cR</td>\n",
              "      <td id=\"T_6ca16_row7_col1\" class=\"data row7 col1\" >0</td>\n",
              "      <td id=\"T_6ca16_row7_col2\" class=\"data row7 col2\" >1</td>\n",
              "      <td id=\"T_6ca16_row7_col3\" class=\"data row7 col3\" >False</td>\n",
              "    </tr>\n",
              "    <tr>\n",
              "      <th id=\"T_6ca16_level0_row8\" class=\"row_heading level0 row8\" >8</th>\n",
              "      <td id=\"T_6ca16_row8_col0\" class=\"data row8 col0\" >i think we'll see aapl at sub 430s by the end of the day. not saying it pins 430 but i think it revisits it...</td>\n",
              "      <td id=\"T_6ca16_row8_col1\" class=\"data row8 col1\" >0</td>\n",
              "      <td id=\"T_6ca16_row8_col2\" class=\"data row8 col2\" >1</td>\n",
              "      <td id=\"T_6ca16_row8_col3\" class=\"data row8 col3\" >False</td>\n",
              "    </tr>\n",
              "    <tr>\n",
              "      <th id=\"T_6ca16_level0_row9\" class=\"row_heading level0 row9\" >9</th>\n",
              "      <td id=\"T_6ca16_row9_col0\" class=\"data row9 col0\" >US Markets Crash Again As Dow Plunges 1,700 Points In Early Trade\n",
              "https://t.co/oLizZCixYO</td>\n",
              "      <td id=\"T_6ca16_row9_col1\" class=\"data row9 col1\" >0</td>\n",
              "      <td id=\"T_6ca16_row9_col2\" class=\"data row9 col2\" >1</td>\n",
              "      <td id=\"T_6ca16_row9_col3\" class=\"data row9 col3\" >False</td>\n",
              "    </tr>\n",
              "  </tbody>\n",
              "</table>\n"
            ]
          },
          "metadata": {}
        },
        {
          "output_type": "display_data",
          "data": {
            "text/plain": [
              "<IPython.core.display.HTML object>"
            ],
            "text/html": [
              "\n",
              "                <div style='\n",
              "                    text-align: center;\n",
              "                    font-size: 16px;\n",
              "                    font-weight: bold;\n",
              "                    color: #555;\n",
              "                    margin: 10px 0;'>\n",
              "                    ... 90 more rows not displayed ...\n",
              "                </div>\n",
              "                "
            ]
          },
          "metadata": {}
        },
        {
          "output_type": "execute_result",
          "data": {
            "text/plain": [
              "62.0"
            ]
          },
          "metadata": {},
          "execution_count": 27
        }
      ],
      "source": [
        "evaluate_fewshot(compiled_dspy, metric=exact_match_metric)"
      ]
    },
    {
      "cell_type": "code",
      "execution_count": null,
      "metadata": {
        "colab": {
          "base_uri": "https://localhost:8080/",
          "height": 818
        },
        "id": "T79ZAgmt4X7d",
        "outputId": "0b7ade57-f969-41ed-d039-b60405294195"
      },
      "outputs": [
        {
          "output_type": "stream",
          "name": "stdout",
          "text": [
            "\n",
            "\n",
            "\n",
            "Rate the input as being either 1 or 0. Only return 1 or 0\n",
            "\n",
            "---\n",
            "\n",
            "Follow the following format.\n",
            "\n",
            "Sentence: ${sentence}\n",
            "Rating: key-value pairs (Respond with a single int value)\n",
            "\n",
            "---\n",
            "\n",
            "Sentence: ong EN with stop arnd 39.40- entry 40.10\n",
            "Rating: 1\n",
            "\n",
            "---\n",
            "\n",
            "Sentence: AAP probably small fadethen a pop finish (I think 435-437).. everything is green today,  tomorrow.. who knows\n",
            "Rating: 1\n",
            "\n",
            "---\n",
            "\n",
            "Sentence: CM is bull flagging.\n",
            "Rating: 1\n",
            "\n",
            "---\n",
            "\n",
            "Sentence: Our software stopped us out of NSPH today for a 5% loss on the trade.  Still hanging on tight with HA -\n",
            "Rating: 0\n",
            "\n",
            "---\n",
            "\n",
            "Sentence: The U.S.��������s national medical stockpile has sent out nearly half of its ventilators��������an amount that pales in compariso������� https://t.co/fexQEHpg4n\n",
            "Rating:\u001b[32m 0\u001b[0m\n",
            "\n",
            "\n",
            "\n"
          ]
        },
        {
          "output_type": "execute_result",
          "data": {
            "text/plain": [
              "'\\n\\n\\nRate the input as being either 1 or 0. Only return 1 or 0\\n\\n---\\n\\nFollow the following format.\\n\\nSentence: ${sentence}\\nRating: key-value pairs (Respond with a single int value)\\n\\n---\\n\\nSentence: ong EN with stop arnd 39.40- entry 40.10\\nRating: 1\\n\\n---\\n\\nSentence: AAP probably small fadethen a pop finish (I think 435-437).. everything is green today,  tomorrow.. who knows\\nRating: 1\\n\\n---\\n\\nSentence: CM is bull flagging.\\nRating: 1\\n\\n---\\n\\nSentence: Our software stopped us out of NSPH today for a 5% loss on the trade.  Still hanging on tight with HA -\\nRating: 0\\n\\n---\\n\\nSentence: The U.S.��������s national medical stockpile has sent out nearly half of its ventilators��������an amount that pales in compariso������� https://t.co/fexQEHpg4n\\nRating:\\x1b[32m 0\\x1b[0m\\n\\n\\n'"
            ],
            "application/vnd.google.colaboratory.intrinsic+json": {
              "type": "string"
            }
          },
          "metadata": {},
          "execution_count": 28
        }
      ],
      "source": [
        "llm.inspect_history(n=1)"
      ]
    },
    {
      "cell_type": "markdown",
      "metadata": {
        "id": "htpDiJLcjOOI"
      },
      "source": [
        "As you can see - with no effort at all - we can improve our performance on our `valset`!"
      ]
    },
    {
      "cell_type": "markdown",
      "metadata": {
        "id": "fyf5baq0jU1Z"
      },
      "source": [
        "Let's try another optimizer - this time: [`BootstrapFewShot`](https://dspy-docs.vercel.app/docs/deep-dive/teleprompter/bootstrap-fewshot).\n",
        "\n",
        "The key thing to note is that this optimizer works with even very few examples - by way of generating new examples by the LLMs!"
      ]
    },
    {
      "cell_type": "code",
      "execution_count": null,
      "metadata": {
        "colab": {
          "base_uri": "https://localhost:8080/"
        },
        "id": "vPx1wKpAUKBx",
        "outputId": "e0df0dc3-8a14-4f79-d8a2-ac2940b70f39"
      },
      "outputs": [
        {
          "output_type": "stream",
          "name": "stderr",
          "text": [
            "  0%|          | 6/5691 [00:03<49:48,  1.90it/s]"
          ]
        },
        {
          "output_type": "stream",
          "name": "stdout",
          "text": [
            "Bootstrapped 4 full traces after 7 examples in round 0.\n"
          ]
        },
        {
          "output_type": "stream",
          "name": "stderr",
          "text": [
            "\n"
          ]
        }
      ],
      "source": [
        "from dspy.teleprompt import BootstrapFewShot\n",
        "\n",
        "optimizer = BootstrapFewShot(metric=exact_match_metric, max_bootstrapped_demos=4, max_labeled_demos=12)\n",
        "\n",
        "compiled_dspy_BOOTSTRAP = optimizer.compile(student=PositiveOrNegativeStudent(), trainset=trainset)"
      ]
    },
    {
      "cell_type": "markdown",
      "metadata": {
        "id": "YsF13taMo6dm"
      },
      "source": [
        "Let's finally evaluate!"
      ]
    },
    {
      "cell_type": "code",
      "execution_count": null,
      "metadata": {
        "colab": {
          "base_uri": "https://localhost:8080/",
          "height": 594
        },
        "id": "lFwORTZbUcwG",
        "outputId": "f8011ba4-557d-490f-b245-64d46af6f68e"
      },
      "outputs": [
        {
          "output_type": "stream",
          "name": "stdout",
          "text": [
            "Average Metric: 77 / 100  (77.0): 100%|██████████| 100/100 [00:56<00:00,  1.77it/s]\n"
          ]
        },
        {
          "output_type": "display_data",
          "data": {
            "text/plain": [
              "<pandas.io.formats.style.Styler at 0x7f8e3d373d00>"
            ],
            "text/html": [
              "<style type=\"text/css\">\n",
              "#T_85089 th {\n",
              "  text-align: left;\n",
              "}\n",
              "#T_85089 td {\n",
              "  text-align: left;\n",
              "}\n",
              "#T_85089_row0_col0, #T_85089_row0_col1, #T_85089_row0_col2, #T_85089_row0_col3, #T_85089_row1_col0, #T_85089_row1_col1, #T_85089_row1_col2, #T_85089_row1_col3, #T_85089_row2_col0, #T_85089_row2_col1, #T_85089_row2_col2, #T_85089_row2_col3, #T_85089_row3_col0, #T_85089_row3_col1, #T_85089_row3_col2, #T_85089_row3_col3, #T_85089_row4_col0, #T_85089_row4_col1, #T_85089_row4_col2, #T_85089_row4_col3, #T_85089_row5_col0, #T_85089_row5_col1, #T_85089_row5_col2, #T_85089_row5_col3, #T_85089_row6_col0, #T_85089_row6_col1, #T_85089_row6_col2, #T_85089_row6_col3, #T_85089_row7_col0, #T_85089_row7_col1, #T_85089_row7_col2, #T_85089_row7_col3, #T_85089_row8_col0, #T_85089_row8_col1, #T_85089_row8_col2, #T_85089_row8_col3, #T_85089_row9_col0, #T_85089_row9_col1, #T_85089_row9_col2, #T_85089_row9_col3 {\n",
              "  text-align: left;\n",
              "  white-space: pre-wrap;\n",
              "  word-wrap: break-word;\n",
              "  max-width: 400px;\n",
              "}\n",
              "</style>\n",
              "<table id=\"T_85089\" class=\"dataframe\">\n",
              "  <thead>\n",
              "    <tr>\n",
              "      <th class=\"blank level0\" >&nbsp;</th>\n",
              "      <th id=\"T_85089_level0_col0\" class=\"col_heading level0 col0\" >sentence</th>\n",
              "      <th id=\"T_85089_level0_col1\" class=\"col_heading level0 col1\" >example_rating</th>\n",
              "      <th id=\"T_85089_level0_col2\" class=\"col_heading level0 col2\" >pred_rating</th>\n",
              "      <th id=\"T_85089_level0_col3\" class=\"col_heading level0 col3\" >exact_match_metric</th>\n",
              "    </tr>\n",
              "  </thead>\n",
              "  <tbody>\n",
              "    <tr>\n",
              "      <th id=\"T_85089_level0_row0\" class=\"row_heading level0 row0\" >0</th>\n",
              "      <td id=\"T_85089_row0_col0\" class=\"data row0 col0\" >user: VZ 6.2 million of 9 million phones sold were AAP strongest period of sales since 2011 FIE THE CEO!</td>\n",
              "      <td id=\"T_85089_row0_col1\" class=\"data row0 col1\" >1</td>\n",
              "      <td id=\"T_85089_row0_col2\" class=\"data row0 col2\" >1</td>\n",
              "      <td id=\"T_85089_row0_col3\" class=\"data row0 col3\" >✔️ [True]</td>\n",
              "    </tr>\n",
              "    <tr>\n",
              "      <th id=\"T_85089_level0_row1\" class=\"row_heading level0 row1\" >1</th>\n",
              "      <td id=\"T_85089_row1_col0\" class=\"data row1 col0\" >MAKO breaks out beautifully</td>\n",
              "      <td id=\"T_85089_row1_col1\" class=\"data row1 col1\" >1</td>\n",
              "      <td id=\"T_85089_row1_col2\" class=\"data row1 col2\" >1</td>\n",
              "      <td id=\"T_85089_row1_col3\" class=\"data row1 col3\" >✔️ [True]</td>\n",
              "    </tr>\n",
              "    <tr>\n",
              "      <th id=\"T_85089_level0_row2\" class=\"row_heading level0 row2\" >2</th>\n",
              "      <td id=\"T_85089_row2_col0\" class=\"data row2 col0\" >AJ from watch list triggered a few cents yesterday and continues today - volume 41%</td>\n",
              "      <td id=\"T_85089_row2_col1\" class=\"data row2 col1\" >1</td>\n",
              "      <td id=\"T_85089_row2_col2\" class=\"data row2 col2\" >1</td>\n",
              "      <td id=\"T_85089_row2_col3\" class=\"data row2 col3\" >✔️ [True]</td>\n",
              "    </tr>\n",
              "    <tr>\n",
              "      <th id=\"T_85089_level0_row3\" class=\"row_heading level0 row3\" >3</th>\n",
              "      <td id=\"T_85089_row3_col0\" class=\"data row3 col0\" >QCO  5 Stocks ising on nusual Volume</td>\n",
              "      <td id=\"T_85089_row3_col1\" class=\"data row3 col1\" >1</td>\n",
              "      <td id=\"T_85089_row3_col2\" class=\"data row3 col2\" >0</td>\n",
              "      <td id=\"T_85089_row3_col3\" class=\"data row3 col3\" >False</td>\n",
              "    </tr>\n",
              "    <tr>\n",
              "      <th id=\"T_85089_level0_row4\" class=\"row_heading level0 row4\" >4</th>\n",
              "      <td id=\"T_85089_row4_col0\" class=\"data row4 col0\" >Green Weekly Triangle on CB,....Open Sell Short at 3.38  </td>\n",
              "      <td id=\"T_85089_row4_col1\" class=\"data row4 col1\" >0</td>\n",
              "      <td id=\"T_85089_row4_col2\" class=\"data row4 col2\" >0</td>\n",
              "      <td id=\"T_85089_row4_col3\" class=\"data row4 col3\" >✔️ [True]</td>\n",
              "    </tr>\n",
              "    <tr>\n",
              "      <th id=\"T_85089_level0_row5\" class=\"row_heading level0 row5\" >5</th>\n",
              "      <td id=\"T_85089_row5_col0\" class=\"data row5 col0\" >HPQ user option guest on bloomberg tv just said buy march 18 calls too but also hedge by selling feb 17.50 calls other guests T</td>\n",
              "      <td id=\"T_85089_row5_col1\" class=\"data row5 col1\" >0</td>\n",
              "      <td id=\"T_85089_row5_col2\" class=\"data row5 col2\" >1</td>\n",
              "      <td id=\"T_85089_row5_col3\" class=\"data row5 col3\" >False</td>\n",
              "    </tr>\n",
              "    <tr>\n",
              "      <th id=\"T_85089_level0_row6\" class=\"row_heading level0 row6\" >6</th>\n",
              "      <td id=\"T_85089_row6_col0\" class=\"data row6 col0\" >user I lost 15% of my holdings when it first opened, but have recouped it all through AAP and now FB. Buying more of both</td>\n",
              "      <td id=\"T_85089_row6_col1\" class=\"data row6 col1\" >1</td>\n",
              "      <td id=\"T_85089_row6_col2\" class=\"data row6 col2\" >1</td>\n",
              "      <td id=\"T_85089_row6_col3\" class=\"data row6 col3\" >✔️ [True]</td>\n",
              "    </tr>\n",
              "    <tr>\n",
              "      <th id=\"T_85089_level0_row7\" class=\"row_heading level0 row7\" >7</th>\n",
              "      <td id=\"T_85089_row7_col0\" class=\"data row7 col0\" >Government May Act Out Of Fear, Hold Back In COVID Fight: Rajiv Bajaj\n",
              "https://t.co/hJ0dxsJ0cR</td>\n",
              "      <td id=\"T_85089_row7_col1\" class=\"data row7 col1\" >0</td>\n",
              "      <td id=\"T_85089_row7_col2\" class=\"data row7 col2\" >0</td>\n",
              "      <td id=\"T_85089_row7_col3\" class=\"data row7 col3\" >✔️ [True]</td>\n",
              "    </tr>\n",
              "    <tr>\n",
              "      <th id=\"T_85089_level0_row8\" class=\"row_heading level0 row8\" >8</th>\n",
              "      <td id=\"T_85089_row8_col0\" class=\"data row8 col0\" >i think we'll see aapl at sub 430s by the end of the day. not saying it pins 430 but i think it revisits it...</td>\n",
              "      <td id=\"T_85089_row8_col1\" class=\"data row8 col1\" >0</td>\n",
              "      <td id=\"T_85089_row8_col2\" class=\"data row8 col2\" >1</td>\n",
              "      <td id=\"T_85089_row8_col3\" class=\"data row8 col3\" >False</td>\n",
              "    </tr>\n",
              "    <tr>\n",
              "      <th id=\"T_85089_level0_row9\" class=\"row_heading level0 row9\" >9</th>\n",
              "      <td id=\"T_85089_row9_col0\" class=\"data row9 col0\" >US Markets Crash Again As Dow Plunges 1,700 Points In Early Trade\n",
              "https://t.co/oLizZCixYO</td>\n",
              "      <td id=\"T_85089_row9_col1\" class=\"data row9 col1\" >0</td>\n",
              "      <td id=\"T_85089_row9_col2\" class=\"data row9 col2\" >0</td>\n",
              "      <td id=\"T_85089_row9_col3\" class=\"data row9 col3\" >✔️ [True]</td>\n",
              "    </tr>\n",
              "  </tbody>\n",
              "</table>\n"
            ]
          },
          "metadata": {}
        },
        {
          "output_type": "display_data",
          "data": {
            "text/plain": [
              "<IPython.core.display.HTML object>"
            ],
            "text/html": [
              "\n",
              "                <div style='\n",
              "                    text-align: center;\n",
              "                    font-size: 16px;\n",
              "                    font-weight: bold;\n",
              "                    color: #555;\n",
              "                    margin: 10px 0;'>\n",
              "                    ... 90 more rows not displayed ...\n",
              "                </div>\n",
              "                "
            ]
          },
          "metadata": {}
        },
        {
          "output_type": "execute_result",
          "data": {
            "text/plain": [
              "77.0"
            ]
          },
          "metadata": {},
          "execution_count": 30
        }
      ],
      "source": [
        "eval_output = evaluate_fewshot(compiled_dspy_BOOTSTRAP, metric=exact_match_metric)\n",
        "eval_output"
      ]
    },
    {
      "cell_type": "markdown",
      "metadata": {
        "id": "2k9ov1j-pMV8"
      },
      "source": [
        "We can see that this optimization helps our program achieve 30 points higher on our evaluation!"
      ]
    },
    {
      "cell_type": "code",
      "execution_count": null,
      "metadata": {
        "colab": {
          "base_uri": "https://localhost:8080/",
          "height": 1000
        },
        "id": "K-7qjXPKWMWF",
        "outputId": "3a073d29-8065-4fb7-b977-d8f00c62d2ae"
      },
      "outputs": [
        {
          "output_type": "stream",
          "name": "stdout",
          "text": [
            "\n",
            "\n",
            "\n",
            "Rate the input as being either 1 or 0. Only return 1 or 0\n",
            "\n",
            "---\n",
            "\n",
            "Follow the following format.\n",
            "\n",
            "Sentence: ${sentence}\n",
            "Rating: key-value pairs (Respond with a single int value)\n",
            "\n",
            "---\n",
            "\n",
            "Sentence: MTG closed at the low. still short from 5.70's\n",
            "Rating: 0\n",
            "\n",
            "---\n",
            "\n",
            "Sentence: BAC Today on Weekly OPEX should  pin around 11.35-11.50 & next week going higher as  we approach March 7th StressTest IMO.\n",
            "Rating: 1\n",
            "\n",
            "---\n",
            "\n",
            "Sentence:\n",
            "Rupee Edges Lower To 76.43 Against Dollar Amid Coronavirus Crisis\n",
            "https://t.co/7UCEt57hpb\n",
            "Rating: 0\n",
            "\n",
            "---\n",
            "\n",
            "Sentence: added to my AAP long\n",
            "Rating: 1\n",
            "\n",
            "---\n",
            "\n",
            "Sentence: SPY SPX ES  Green Hedges Stars model: next stop 1410.56 SPX 1387.92 if lower.\n",
            "Rating: 0\n",
            "\n",
            "---\n",
            "\n",
            "Sentence: user: GMC looks like the free money trade for today. Headed to 49+ - so far so good\n",
            "Rating: 1\n",
            "\n",
            "---\n",
            "\n",
            "Sentence: BAC nice little rocket, Friday was a headfake, get ready, she is going to 15 imo...\n",
            "Rating: 1\n",
            "\n",
            "---\n",
            "\n",
            "Sentence: EBAY ebaynow was dead on arrival and the company itself is leveraged a lot.\n",
            "Rating: 0\n",
            "\n",
            "---\n",
            "\n",
            "Sentence: WCG Everybody looking for something to buy...basement trade w/fundamentals...\n",
            "Rating: 1\n",
            "\n",
            "---\n",
            "\n",
            "Sentence: AJ stopped out +6% for a nice gain\n",
            "Rating: 1\n",
            "\n",
            "---\n",
            "\n",
            "Sentence: AMZN covered short +1 now long 267.61\n",
            "Rating: 1\n",
            "\n",
            "---\n",
            "\n",
            "Sentence: TXN from watch list back up to line on volume of 45% of full day  average\n",
            "Rating: 1\n",
            "\n",
            "---\n",
            "\n",
            "Sentence: The U.S.��������s national medical stockpile has sent out nearly half of its ventilators��������an amount that pales in compariso������� https://t.co/fexQEHpg4n\n",
            "Rating:\u001b[32m 0\u001b[0m\n",
            "\n",
            "\n",
            "\n"
          ]
        },
        {
          "output_type": "execute_result",
          "data": {
            "text/plain": [
              "\"\\n\\n\\nRate the input as being either 1 or 0. Only return 1 or 0\\n\\n---\\n\\nFollow the following format.\\n\\nSentence: ${sentence}\\nRating: key-value pairs (Respond with a single int value)\\n\\n---\\n\\nSentence: MTG closed at the low. still short from 5.70's\\nRating: 0\\n\\n---\\n\\nSentence: BAC Today on Weekly OPEX should  pin around 11.35-11.50 & next week going higher as  we approach March 7th StressTest IMO.\\nRating: 1\\n\\n---\\n\\nSentence:\\nRupee Edges Lower To 76.43 Against Dollar Amid Coronavirus Crisis\\nhttps://t.co/7UCEt57hpb\\nRating: 0\\n\\n---\\n\\nSentence: added to my AAP long\\nRating: 1\\n\\n---\\n\\nSentence: SPY SPX ES  Green Hedges Stars model: next stop 1410.56 SPX 1387.92 if lower.\\nRating: 0\\n\\n---\\n\\nSentence: user: GMC looks like the free money trade for today. Headed to 49+ - so far so good\\nRating: 1\\n\\n---\\n\\nSentence: BAC nice little rocket, Friday was a headfake, get ready, she is going to 15 imo...\\nRating: 1\\n\\n---\\n\\nSentence: EBAY ebaynow was dead on arrival and the company itself is leveraged a lot.\\nRating: 0\\n\\n---\\n\\nSentence: WCG Everybody looking for something to buy...basement trade w/fundamentals...\\nRating: 1\\n\\n---\\n\\nSentence: AJ stopped out +6% for a nice gain\\nRating: 1\\n\\n---\\n\\nSentence: AMZN covered short +1 now long 267.61\\nRating: 1\\n\\n---\\n\\nSentence: TXN from watch list back up to line on volume of 45% of full day  average\\nRating: 1\\n\\n---\\n\\nSentence: The U.S.��������s national medical stockpile has sent out nearly half of its ventilators��������an amount that pales in compariso������� https://t.co/fexQEHpg4n\\nRating:\\x1b[32m 0\\x1b[0m\\n\\n\\n\""
            ],
            "application/vnd.google.colaboratory.intrinsic+json": {
              "type": "string"
            }
          },
          "metadata": {},
          "execution_count": 31
        }
      ],
      "source": [
        "llm.inspect_history(n=1)"
      ]
    },
    {
      "cell_type": "code",
      "execution_count": null,
      "metadata": {
        "colab": {
          "base_uri": "https://localhost:8080/"
        },
        "id": "XEP0Sf6CUvuo",
        "outputId": "aee90238-774c-4d0b-bd15-cc94fcbde52e"
      },
      "outputs": [
        {
          "output_type": "stream",
          "name": "stdout",
          "text": [
            "Parameter generate_rating.predictor: Num Examples: 12, Example({'augmented': True, 'sentence': \"MTG closed at the low. still short from 5.70's\", 'rating': '0'}) (input_keys=None)\n",
            "\n"
          ]
        }
      ],
      "source": [
        "for name, parameter in compiled_dspy_BOOTSTRAP.named_parameters():\n",
        "  print(f\"Parameter {name}: Num Examples: {len(parameter.demos)}, {parameter.demos[0]}\")\n",
        "  print()"
      ]
    },
    {
      "cell_type": "code",
      "execution_count": null,
      "metadata": {
        "id": "4hxevx-HqsT_"
      },
      "outputs": [],
      "source": [
        "def return_rating(sentence):\n",
        "  return compiled_dspy_BOOTSTRAP(sentence=sentence).rating"
      ]
    },
    {
      "cell_type": "code",
      "execution_count": null,
      "metadata": {
        "colab": {
          "base_uri": "https://localhost:8080/"
        },
        "id": "ugdefDIttDc8",
        "outputId": "58e9dbe1-59b1-4b50-bbc3-395f9869262f"
      },
      "outputs": [
        {
          "output_type": "execute_result",
          "data": {
            "text/plain": [
              "0"
            ]
          },
          "metadata": {},
          "execution_count": 34
        }
      ],
      "source": [
        "return_rating(\"This is bad\")"
      ]
    },
    {
      "cell_type": "markdown",
      "metadata": {
        "id": "fu-oLkXQDkut"
      },
      "source": [
        "### MIPRO"
      ]
    },
    {
      "cell_type": "code",
      "execution_count": null,
      "metadata": {
        "colab": {
          "base_uri": "https://localhost:8080/",
          "height": 211
        },
        "id": "w9Ef6Y9_Dmrm",
        "outputId": "18cbd8d9-ac41-462c-8772-c77732333826"
      },
      "outputs": [
        {
          "output_type": "error",
          "ename": "TypeError",
          "evalue": "MIPRO.__init__() got an unexpected keyword argument 'max_bootstrapped_demos'",
          "traceback": [
            "\u001b[0;31m---------------------------------------------------------------------------\u001b[0m",
            "\u001b[0;31mTypeError\u001b[0m                                 Traceback (most recent call last)",
            "\u001b[0;32m<ipython-input-35-847562cba42b>\u001b[0m in \u001b[0;36m<cell line: 3>\u001b[0;34m()\u001b[0m\n\u001b[1;32m      1\u001b[0m \u001b[0;32mfrom\u001b[0m \u001b[0mdspy\u001b[0m\u001b[0;34m.\u001b[0m\u001b[0mteleprompt\u001b[0m \u001b[0;32mimport\u001b[0m \u001b[0mMIPRO\u001b[0m\u001b[0;34m\u001b[0m\u001b[0;34m\u001b[0m\u001b[0m\n\u001b[1;32m      2\u001b[0m \u001b[0;34m\u001b[0m\u001b[0m\n\u001b[0;32m----> 3\u001b[0;31m \u001b[0moptimizer\u001b[0m \u001b[0;34m=\u001b[0m \u001b[0mMIPRO\u001b[0m\u001b[0;34m(\u001b[0m\u001b[0mmetric\u001b[0m\u001b[0;34m=\u001b[0m\u001b[0mexact_match_metric\u001b[0m\u001b[0;34m,\u001b[0m \u001b[0mmax_bootstrapped_demos\u001b[0m\u001b[0;34m=\u001b[0m\u001b[0;36m4\u001b[0m\u001b[0;34m,\u001b[0m \u001b[0mmax_labeled_demos\u001b[0m\u001b[0;34m=\u001b[0m\u001b[0;36m12\u001b[0m\u001b[0;34m)\u001b[0m\u001b[0;34m\u001b[0m\u001b[0;34m\u001b[0m\u001b[0m\n\u001b[0m\u001b[1;32m      4\u001b[0m \u001b[0;34m\u001b[0m\u001b[0m\n\u001b[1;32m      5\u001b[0m \u001b[0mcompiled_dspy_MIPRO\u001b[0m \u001b[0;34m=\u001b[0m \u001b[0moptimizer\u001b[0m\u001b[0;34m.\u001b[0m\u001b[0mcompile\u001b[0m\u001b[0;34m(\u001b[0m\u001b[0mstudent\u001b[0m\u001b[0;34m=\u001b[0m\u001b[0mPositiveOrNegativeStudent\u001b[0m\u001b[0;34m(\u001b[0m\u001b[0;34m)\u001b[0m\u001b[0;34m,\u001b[0m \u001b[0mtrainset\u001b[0m\u001b[0;34m=\u001b[0m\u001b[0mtrainset\u001b[0m\u001b[0;34m)\u001b[0m\u001b[0;34m\u001b[0m\u001b[0;34m\u001b[0m\u001b[0m\n",
            "\u001b[0;31mTypeError\u001b[0m: MIPRO.__init__() got an unexpected keyword argument 'max_bootstrapped_demos'"
          ]
        }
      ],
      "source": [
        "from dspy.teleprompt import MIPRO\n",
        "\n",
        "optimizer = MIPRO(metric=exact_match_metric, max_bootstrapped_demos=4, max_labeled_demos=12)\n",
        "\n",
        "compiled_dspy_MIPRO = optimizer.compile(student=PositiveOrNegativeStudent(), trainset=trainset)\n"
      ]
    },
    {
      "cell_type": "markdown",
      "metadata": {
        "id": "DuGe45cEy8K9"
      },
      "source": [
        "# Testing classifiers"
      ]
    },
    {
      "cell_type": "markdown",
      "metadata": {
        "id": "FwCsOhwDuglI"
      },
      "source": [
        "## Niave Bayes Classifier"
      ]
    },
    {
      "cell_type": "code",
      "execution_count": null,
      "metadata": {
        "id": "UCi-fyf-tSye"
      },
      "outputs": [],
      "source": [
        "import pandas as pd\n",
        "import numpy as np\n",
        "from sklearn.model_selection import train_test_split\n",
        "from sklearn.feature_extraction.text import CountVectorizer\n",
        "from sklearn.naive_bayes import MultinomialNB\n",
        "from sklearn.metrics import roc_auc_score, classification_report\n",
        "\n",
        "\n",
        "# Split the data into training and testing sets\n",
        "X = dataset['Text']\n",
        "y = dataset['Sentiment']\n",
        "\n",
        "X_train, X_test, y_train, y_test = train_test_split(X, y, test_size=0.2, random_state=42)\n",
        "\n",
        "# Convert text data into numerical data using CountVectorizer\n",
        "vectorizer = CountVectorizer()\n",
        "X_train_vec = vectorizer.fit_transform(X_train)\n",
        "X_test_vec = vectorizer.transform(X_test)\n",
        "\n",
        "# Train a Naive Bayes classifier\n",
        "nb_classifier = MultinomialNB()\n",
        "nb_classifier.fit(X_train_vec, y_train)\n",
        "\n",
        "# Predict probabilities\n",
        "y_pred = nb_classifier.predict(X_test_vec)\n",
        "# Convert string labels to numerical labels using NumPy's where function\n",
        "# y_test_num = np.where(y_test == 'Positive', 1, 0)\n",
        "# y_pred_num = np.where(y_pred == 'Positive', 1, 0)\n",
        "\n",
        "# Calculate the ROC AUC metric\n",
        "roc_auc = roc_auc_score(y_test, y_pred)\n",
        "\n",
        "print(\"ROC AUC:\", roc_auc)\n",
        "print(classification_report(y_test, y_pred))\n",
        "\n"
      ]
    },
    {
      "cell_type": "markdown",
      "metadata": {
        "id": "9PaqGM5NvIOt"
      },
      "source": [
        "## LLM Predictor"
      ]
    },
    {
      "cell_type": "code",
      "execution_count": null,
      "metadata": {
        "id": "qzfMXr7jvOH8"
      },
      "outputs": [],
      "source": [
        "y_pred_llm = X_test.apply(return_rating)"
      ]
    },
    {
      "cell_type": "code",
      "execution_count": null,
      "metadata": {
        "id": "XR-1K8PFvfjR"
      },
      "outputs": [],
      "source": [
        "for i in X_test[0:10].index:\n",
        "  print(f\"Sentence: {X_test[i]}\")\n",
        "  print(f\"Prediction: {y_pred_llm[i]}\")\n",
        "  print(f\"Ground Truth: {y_test[i]}\")\n",
        "  print()"
      ]
    },
    {
      "cell_type": "code",
      "execution_count": null,
      "metadata": {
        "id": "5_1IfObRvAY6"
      },
      "outputs": [],
      "source": [
        "# Calculate the ROC AUC metric\n",
        "roc_auc = roc_auc_score(y_test, y_pred_llm)\n",
        "\n",
        "print(\"ROC AUC:\", roc_auc)\n",
        "\n",
        "print(classification_report(y_test, y_pred_llm))"
      ]
    }
  ],
  "metadata": {
    "colab": {
      "provenance": [],
      "machine_shape": "hm",
      "gpuType": "L4",
      "include_colab_link": true
    },
    "kernelspec": {
      "display_name": "Python 3",
      "name": "python3"
    },
    "language_info": {
      "name": "python"
    },
    "accelerator": "GPU"
  },
  "nbformat": 4,
  "nbformat_minor": 0
}