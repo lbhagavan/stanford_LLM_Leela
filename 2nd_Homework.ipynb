{
  "nbformat": 4,
  "nbformat_minor": 0,
  "metadata": {
    "colab": {
      "provenance": [],
      "include_colab_link": true
    },
    "kernelspec": {
      "name": "python3",
      "display_name": "Python 3"
    },
    "language_info": {
      "name": "python"
    }
  },
  "cells": [
    {
      "cell_type": "markdown",
      "metadata": {
        "id": "view-in-github",
        "colab_type": "text"
      },
      "source": [
        "<a href=\"https://colab.research.google.com/github/lbhagavan/stanford_LLM_Leela/blob/homework/2nd_Homework.ipynb\" target=\"_parent\"><img src=\"https://colab.research.google.com/assets/colab-badge.svg\" alt=\"Open In Colab\"/></a>"
      ]
    },
    {
      "cell_type": "markdown",
      "source": [
        "# **2nd Homework**"
      ],
      "metadata": {
        "id": "acx06OzV2e7b"
      }
    },
    {
      "cell_type": "markdown",
      "source": [
        "# Initial Steps"
      ],
      "metadata": {
        "id": "taK1AlbF2qWv"
      }
    },
    {
      "cell_type": "code",
      "source": [
        "!pip install -U openai langchain-community pypdf langchain-openai"
      ],
      "metadata": {
        "colab": {
          "base_uri": "https://localhost:8080/"
        },
        "id": "d6F-EIGyVnFA",
        "outputId": "54f0b5b0-702f-40af-8c19-4ab480a4905d"
      },
      "execution_count": null,
      "outputs": [
        {
          "output_type": "stream",
          "name": "stdout",
          "text": [
            "Collecting openai\n",
            "  Downloading openai-1.37.0-py3-none-any.whl (337 kB)\n",
            "\u001b[2K     \u001b[90m━━━━━━━━━━━━━━━━━━━━━━━━━━━━━━━━━━━━━━━━\u001b[0m \u001b[32m337.0/337.0 kB\u001b[0m \u001b[31m6.2 MB/s\u001b[0m eta \u001b[36m0:00:00\u001b[0m\n",
            "\u001b[?25hCollecting langchain-community\n",
            "  Downloading langchain_community-0.2.9-py3-none-any.whl (2.3 MB)\n",
            "\u001b[2K     \u001b[90m━━━━━━━━━━━━━━━━━━━━━━━━━━━━━━━━━━━━━━━━\u001b[0m \u001b[32m2.3/2.3 MB\u001b[0m \u001b[31m37.7 MB/s\u001b[0m eta \u001b[36m0:00:00\u001b[0m\n",
            "\u001b[?25hCollecting pypdf\n",
            "  Downloading pypdf-4.3.1-py3-none-any.whl (295 kB)\n",
            "\u001b[2K     \u001b[90m━━━━━━━━━━━━━━━━━━━━━━━━━━━━━━━━━━━━━━━━\u001b[0m \u001b[32m295.8/295.8 kB\u001b[0m \u001b[31m19.7 MB/s\u001b[0m eta \u001b[36m0:00:00\u001b[0m\n",
            "\u001b[?25hCollecting langchain-openai\n",
            "  Downloading langchain_openai-0.1.17-py3-none-any.whl (46 kB)\n",
            "\u001b[2K     \u001b[90m━━━━━━━━━━━━━━━━━━━━━━━━━━━━━━━━━━━━━━━━\u001b[0m \u001b[32m46.7/46.7 kB\u001b[0m \u001b[31m4.1 MB/s\u001b[0m eta \u001b[36m0:00:00\u001b[0m\n",
            "\u001b[?25hRequirement already satisfied: anyio<5,>=3.5.0 in /usr/local/lib/python3.10/dist-packages (from openai) (3.7.1)\n",
            "Requirement already satisfied: distro<2,>=1.7.0 in /usr/lib/python3/dist-packages (from openai) (1.7.0)\n",
            "Collecting httpx<1,>=0.23.0 (from openai)\n",
            "  Downloading httpx-0.27.0-py3-none-any.whl (75 kB)\n",
            "\u001b[2K     \u001b[90m━━━━━━━━━━━━━━━━━━━━━━━━━━━━━━━━━━━━━━━━\u001b[0m \u001b[32m75.6/75.6 kB\u001b[0m \u001b[31m7.7 MB/s\u001b[0m eta \u001b[36m0:00:00\u001b[0m\n",
            "\u001b[?25hRequirement already satisfied: pydantic<3,>=1.9.0 in /usr/local/lib/python3.10/dist-packages (from openai) (2.8.2)\n",
            "Requirement already satisfied: sniffio in /usr/local/lib/python3.10/dist-packages (from openai) (1.3.1)\n",
            "Requirement already satisfied: tqdm>4 in /usr/local/lib/python3.10/dist-packages (from openai) (4.66.4)\n",
            "Requirement already satisfied: typing-extensions<5,>=4.7 in /usr/local/lib/python3.10/dist-packages (from openai) (4.12.2)\n",
            "Requirement already satisfied: PyYAML>=5.3 in /usr/local/lib/python3.10/dist-packages (from langchain-community) (6.0.1)\n",
            "Requirement already satisfied: SQLAlchemy<3,>=1.4 in /usr/local/lib/python3.10/dist-packages (from langchain-community) (2.0.31)\n",
            "Requirement already satisfied: aiohttp<4.0.0,>=3.8.3 in /usr/local/lib/python3.10/dist-packages (from langchain-community) (3.9.5)\n",
            "Collecting dataclasses-json<0.7,>=0.5.7 (from langchain-community)\n",
            "  Downloading dataclasses_json-0.6.7-py3-none-any.whl (28 kB)\n",
            "Collecting langchain<0.3.0,>=0.2.9 (from langchain-community)\n",
            "  Downloading langchain-0.2.10-py3-none-any.whl (990 kB)\n",
            "\u001b[2K     \u001b[90m━━━━━━━━━━━━━━━━━━━━━━━━━━━━━━━━━━━━━━━━\u001b[0m \u001b[32m990.0/990.0 kB\u001b[0m \u001b[31m26.7 MB/s\u001b[0m eta \u001b[36m0:00:00\u001b[0m\n",
            "\u001b[?25hCollecting langchain-core<0.3.0,>=0.2.22 (from langchain-community)\n",
            "  Downloading langchain_core-0.2.22-py3-none-any.whl (373 kB)\n",
            "\u001b[2K     \u001b[90m━━━━━━━━━━━━━━━━━━━━━━━━━━━━━━━━━━━━━━━━\u001b[0m \u001b[32m373.5/373.5 kB\u001b[0m \u001b[31m19.9 MB/s\u001b[0m eta \u001b[36m0:00:00\u001b[0m\n",
            "\u001b[?25hCollecting langsmith<0.2.0,>=0.1.0 (from langchain-community)\n",
            "  Downloading langsmith-0.1.93-py3-none-any.whl (139 kB)\n",
            "\u001b[2K     \u001b[90m━━━━━━━━━━━━━━━━━━━━━━━━━━━━━━━━━━━━━━━━\u001b[0m \u001b[32m139.8/139.8 kB\u001b[0m \u001b[31m12.7 MB/s\u001b[0m eta \u001b[36m0:00:00\u001b[0m\n",
            "\u001b[?25hRequirement already satisfied: numpy<2,>=1 in /usr/local/lib/python3.10/dist-packages (from langchain-community) (1.25.2)\n",
            "Requirement already satisfied: requests<3,>=2 in /usr/local/lib/python3.10/dist-packages (from langchain-community) (2.31.0)\n",
            "Requirement already satisfied: tenacity!=8.4.0,<9.0.0,>=8.1.0 in /usr/local/lib/python3.10/dist-packages (from langchain-community) (8.5.0)\n",
            "Collecting tiktoken<1,>=0.7 (from langchain-openai)\n",
            "  Downloading tiktoken-0.7.0-cp310-cp310-manylinux_2_17_x86_64.manylinux2014_x86_64.whl (1.1 MB)\n",
            "\u001b[2K     \u001b[90m━━━━━━━━━━━━━━━━━━━━━━━━━━━━━━━━━━━━━━━━\u001b[0m \u001b[32m1.1/1.1 MB\u001b[0m \u001b[31m31.6 MB/s\u001b[0m eta \u001b[36m0:00:00\u001b[0m\n",
            "\u001b[?25hRequirement already satisfied: aiosignal>=1.1.2 in /usr/local/lib/python3.10/dist-packages (from aiohttp<4.0.0,>=3.8.3->langchain-community) (1.3.1)\n",
            "Requirement already satisfied: attrs>=17.3.0 in /usr/local/lib/python3.10/dist-packages (from aiohttp<4.0.0,>=3.8.3->langchain-community) (23.2.0)\n",
            "Requirement already satisfied: frozenlist>=1.1.1 in /usr/local/lib/python3.10/dist-packages (from aiohttp<4.0.0,>=3.8.3->langchain-community) (1.4.1)\n",
            "Requirement already satisfied: multidict<7.0,>=4.5 in /usr/local/lib/python3.10/dist-packages (from aiohttp<4.0.0,>=3.8.3->langchain-community) (6.0.5)\n",
            "Requirement already satisfied: yarl<2.0,>=1.0 in /usr/local/lib/python3.10/dist-packages (from aiohttp<4.0.0,>=3.8.3->langchain-community) (1.9.4)\n",
            "Requirement already satisfied: async-timeout<5.0,>=4.0 in /usr/local/lib/python3.10/dist-packages (from aiohttp<4.0.0,>=3.8.3->langchain-community) (4.0.3)\n",
            "Requirement already satisfied: idna>=2.8 in /usr/local/lib/python3.10/dist-packages (from anyio<5,>=3.5.0->openai) (3.7)\n",
            "Requirement already satisfied: exceptiongroup in /usr/local/lib/python3.10/dist-packages (from anyio<5,>=3.5.0->openai) (1.2.2)\n",
            "Collecting marshmallow<4.0.0,>=3.18.0 (from dataclasses-json<0.7,>=0.5.7->langchain-community)\n",
            "  Downloading marshmallow-3.21.3-py3-none-any.whl (49 kB)\n",
            "\u001b[2K     \u001b[90m━━━━━━━━━━━━━━━━━━━━━━━━━━━━━━━━━━━━━━━━\u001b[0m \u001b[32m49.2/49.2 kB\u001b[0m \u001b[31m4.9 MB/s\u001b[0m eta \u001b[36m0:00:00\u001b[0m\n",
            "\u001b[?25hCollecting typing-inspect<1,>=0.4.0 (from dataclasses-json<0.7,>=0.5.7->langchain-community)\n",
            "  Downloading typing_inspect-0.9.0-py3-none-any.whl (8.8 kB)\n",
            "Requirement already satisfied: certifi in /usr/local/lib/python3.10/dist-packages (from httpx<1,>=0.23.0->openai) (2024.7.4)\n",
            "Collecting httpcore==1.* (from httpx<1,>=0.23.0->openai)\n",
            "  Downloading httpcore-1.0.5-py3-none-any.whl (77 kB)\n",
            "\u001b[2K     \u001b[90m━━━━━━━━━━━━━━━━━━━━━━━━━━━━━━━━━━━━━━━━\u001b[0m \u001b[32m77.9/77.9 kB\u001b[0m \u001b[31m7.0 MB/s\u001b[0m eta \u001b[36m0:00:00\u001b[0m\n",
            "\u001b[?25hCollecting h11<0.15,>=0.13 (from httpcore==1.*->httpx<1,>=0.23.0->openai)\n",
            "  Downloading h11-0.14.0-py3-none-any.whl (58 kB)\n",
            "\u001b[2K     \u001b[90m━━━━━━━━━━━━━━━━━━━━━━━━━━━━━━━━━━━━━━━━\u001b[0m \u001b[32m58.3/58.3 kB\u001b[0m \u001b[31m4.3 MB/s\u001b[0m eta \u001b[36m0:00:00\u001b[0m\n",
            "\u001b[?25hCollecting langchain-text-splitters<0.3.0,>=0.2.0 (from langchain<0.3.0,>=0.2.9->langchain-community)\n",
            "  Downloading langchain_text_splitters-0.2.2-py3-none-any.whl (25 kB)\n",
            "Collecting jsonpatch<2.0,>=1.33 (from langchain-core<0.3.0,>=0.2.22->langchain-community)\n",
            "  Downloading jsonpatch-1.33-py2.py3-none-any.whl (12 kB)\n",
            "Requirement already satisfied: packaging<25,>=23.2 in /usr/local/lib/python3.10/dist-packages (from langchain-core<0.3.0,>=0.2.22->langchain-community) (24.1)\n",
            "Collecting orjson<4.0.0,>=3.9.14 (from langsmith<0.2.0,>=0.1.0->langchain-community)\n",
            "  Downloading orjson-3.10.6-cp310-cp310-manylinux_2_17_x86_64.manylinux2014_x86_64.whl (141 kB)\n",
            "\u001b[2K     \u001b[90m━━━━━━━━━━━━━━━━━━━━━━━━━━━━━━━━━━━━━━━━\u001b[0m \u001b[32m141.1/141.1 kB\u001b[0m \u001b[31m15.2 MB/s\u001b[0m eta \u001b[36m0:00:00\u001b[0m\n",
            "\u001b[?25hRequirement already satisfied: annotated-types>=0.4.0 in /usr/local/lib/python3.10/dist-packages (from pydantic<3,>=1.9.0->openai) (0.7.0)\n",
            "Requirement already satisfied: pydantic-core==2.20.1 in /usr/local/lib/python3.10/dist-packages (from pydantic<3,>=1.9.0->openai) (2.20.1)\n",
            "Requirement already satisfied: charset-normalizer<4,>=2 in /usr/local/lib/python3.10/dist-packages (from requests<3,>=2->langchain-community) (3.3.2)\n",
            "Requirement already satisfied: urllib3<3,>=1.21.1 in /usr/local/lib/python3.10/dist-packages (from requests<3,>=2->langchain-community) (2.0.7)\n",
            "Requirement already satisfied: greenlet!=0.4.17 in /usr/local/lib/python3.10/dist-packages (from SQLAlchemy<3,>=1.4->langchain-community) (3.0.3)\n",
            "Requirement already satisfied: regex>=2022.1.18 in /usr/local/lib/python3.10/dist-packages (from tiktoken<1,>=0.7->langchain-openai) (2024.5.15)\n",
            "Collecting jsonpointer>=1.9 (from jsonpatch<2.0,>=1.33->langchain-core<0.3.0,>=0.2.22->langchain-community)\n",
            "  Downloading jsonpointer-3.0.0-py2.py3-none-any.whl (7.6 kB)\n",
            "Collecting mypy-extensions>=0.3.0 (from typing-inspect<1,>=0.4.0->dataclasses-json<0.7,>=0.5.7->langchain-community)\n",
            "  Downloading mypy_extensions-1.0.0-py3-none-any.whl (4.7 kB)\n",
            "Installing collected packages: pypdf, orjson, mypy-extensions, marshmallow, jsonpointer, h11, typing-inspect, tiktoken, jsonpatch, httpcore, langsmith, httpx, dataclasses-json, openai, langchain-core, langchain-text-splitters, langchain-openai, langchain, langchain-community\n",
            "Successfully installed dataclasses-json-0.6.7 h11-0.14.0 httpcore-1.0.5 httpx-0.27.0 jsonpatch-1.33 jsonpointer-3.0.0 langchain-0.2.10 langchain-community-0.2.9 langchain-core-0.2.22 langchain-openai-0.1.17 langchain-text-splitters-0.2.2 langsmith-0.1.93 marshmallow-3.21.3 mypy-extensions-1.0.0 openai-1.37.0 orjson-3.10.6 pypdf-4.3.1 tiktoken-0.7.0 typing-inspect-0.9.0\n"
          ]
        }
      ]
    },
    {
      "cell_type": "code",
      "source": [
        "!wget https://s28.q4cdn.com/761427389/files/doc_financials/2024/q1/VTEX-1Q24-Earnings-Press-Release-pptx.pdf"
      ],
      "metadata": {
        "colab": {
          "base_uri": "https://localhost:8080/"
        },
        "id": "9HH0UX6ufqHR",
        "outputId": "5807bb29-07da-47d0-d347-84b158fd9a94"
      },
      "execution_count": null,
      "outputs": [
        {
          "output_type": "stream",
          "name": "stdout",
          "text": [
            "--2024-07-23 16:54:29--  https://s28.q4cdn.com/761427389/files/doc_financials/2024/q1/VTEX-1Q24-Earnings-Press-Release-pptx.pdf\n",
            "Resolving s28.q4cdn.com (s28.q4cdn.com)... 68.70.205.4, 68.70.205.1, 68.70.205.2, ...\n",
            "Connecting to s28.q4cdn.com (s28.q4cdn.com)|68.70.205.4|:443... connected.\n",
            "HTTP request sent, awaiting response... 200 OK\n",
            "Length: 3950519 (3.8M) [application/pdf]\n",
            "Saving to: ‘VTEX-1Q24-Earnings-Press-Release-pptx.pdf’\n",
            "\n",
            "VTEX-1Q24-Earnings- 100%[===================>]   3.77M  4.95MB/s    in 0.8s    \n",
            "\n",
            "2024-07-23 16:54:30 (4.95 MB/s) - ‘VTEX-1Q24-Earnings-Press-Release-pptx.pdf’ saved [3950519/3950519]\n",
            "\n"
          ]
        }
      ]
    },
    {
      "cell_type": "code",
      "source": [
        "!ls"
      ],
      "metadata": {
        "colab": {
          "base_uri": "https://localhost:8080/"
        },
        "id": "ciExHKaJhC6p",
        "outputId": "5c724034-b7bc-4c60-eae9-44048d14621a"
      },
      "execution_count": null,
      "outputs": [
        {
          "output_type": "stream",
          "name": "stdout",
          "text": [
            " sample_data  'URE_BARUERI_Escritura de Emissao.pdf'   VTEX-1Q24-Earnings-Press-Release-pptx.pdf\n"
          ]
        }
      ]
    },
    {
      "cell_type": "code",
      "execution_count": null,
      "metadata": {
        "id": "Mz1HlQgmFbHH"
      },
      "outputs": [],
      "source": [
        "from google.colab import userdata\n",
        "from openai import OpenAI\n",
        "open_ai_key = userdata.get('open_ay_key')\n",
        "client = OpenAI(api_key=open_ai_key)"
      ]
    },
    {
      "cell_type": "code",
      "source": [
        "from langchain.document_loaders import PyPDFLoader\n",
        "loader = PyPDFLoader('/content/VTEX-1Q24-Earnings-Press-Release-pptx.pdf')\n",
        "pages = loader.load_and_split()"
      ],
      "metadata": {
        "id": "AR0uKAJ3Vbjt"
      },
      "execution_count": null,
      "outputs": []
    },
    {
      "cell_type": "markdown",
      "source": [
        "# Summarize using the \"Stuff\" chain type method."
      ],
      "metadata": {
        "id": "IShy0w6W1f02"
      }
    },
    {
      "cell_type": "code",
      "source": [
        "from langchain.chains.summarize import load_summarize_chain\n",
        "from langchain_community.document_loaders import WebBaseLoader\n",
        "from langchain_openai import ChatOpenAI\n",
        "\n",
        "llm = ChatOpenAI(temperature=0.1, model_name=\"gpt-3.5-turbo\", api_key=open_ai_key)\n",
        "chain = load_summarize_chain(llm, chain_type=\"stuff\")\n",
        "\n",
        "res = chain.invoke(pages)\n",
        "res"
      ],
      "metadata": {
        "colab": {
          "base_uri": "https://localhost:8080/"
        },
        "id": "LTsPFmmMa5iG",
        "outputId": "6c50730d-38aa-4137-d62e-3ef338735150"
      },
      "execution_count": null,
      "outputs": [
        {
          "output_type": "execute_result",
          "data": {
            "text/plain": [
              "{'input_documents': [Document(metadata={'source': '/content/VTEX-1Q24-Earnings-Press-Release-pptx.pdf', 'page': 0}, page_content='1VTEX \\nSecond Quarter 2023 \\nConference Call Transcript \\nVTEX \\nFirst Quarter 2024 Financial \\nResults'),\n",
              "  Document(metadata={'source': '/content/VTEX-1Q24-Earnings-Press-Release-pptx.pdf', 'page': 1}, page_content=\"NEW YORK, May 7, 2024 – VTEX (NYSE: VTEX), the composable and complete commerce platform for \\npremier brands and retailers, today announced results for the ﬁrst quarter of 2024 ended March 31, 2024. \\nVTEX results have been prepared in accordance with International Financial Reporting Standards as issued \\nby the International Accounting Standards Board (“IFRS Accounting Standards”) IAS 34 Interim Financial \\nReporting. \\nGeraldo Thomaz Jr. , founder and co-CEO of VTEX, commented, “Our product launches are revolutionizing \\ncommerce for IT and business teams to deliver sustainable growth with attractive ROI. By creating new \\nrevenue streams, we are extending the runway for long-term growth while continuing to deliver meaningful \\noperational leverage and margin improvements. We are excited for VTEX's future, focused on growth, \\nmargin expansion, and customer success”. Mariano Gomide de Faria , founder and co-CEO of VTEX, \\nadded, “We started the year backed by recognitions from Gartner and IDC, and we are translating this \\nmomentum into meaningful sales. Our expansion into Germany, with customers like OBI, encourages us on \\nour global expansion while sustained sales momentum in Brazil highlights our long-term growth potential. \\nCustomer feedback on our value proposition for B2B and B2C reinforces our vision as the global backbone \\nfor connected commerce.” \\n2VTEX Reports First Quarter 2024 \\nFinancial Results\"),\n",
              "  Document(metadata={'source': '/content/VTEX-1Q24-Earnings-Press-Release-pptx.pdf', 'page': 2}, page_content='Non-GAAP income from operations was US$3.0 \\nmillion  during the ﬁrst quarter of 2024, compared \\nto a Non-GAAP loss  from operations of US$4.1 \\nmillion  in the same quarter of 2023. \\nNon-GAAP positive free cash ﬂow  was US$1.9 \\nmillion  during the ﬁrst quarter of 2024, compared \\nto a Non-GAAP negative free cash ﬂow of US$5.0 \\nmillion  in the same quarter of 2023. \\nAs of March 31, 2024, total headcount was 1,334 , \\nincreasing 4.5%   compared to the prior quarter and \\ndecreasing 0.4%  YoY. \\n     \\n                                                                   \\nGMV and total revenue YoY growth reached 22% and 25%, respectively \\nGross proﬁt increased by 37% YoY, representing a margin expansion of 641 bps \\nNon-GAAP operating income and free cash ﬂow margins reached 6% and 4% \\nGMV reached US$4.0 billion  in the ﬁrst quarter of \\n2024, representing a YoY increase of 22.2% in \\nUSD and 20.1% on an FX neutral basis .\\nTotal revenue increased to US$52.6 million  in the \\nﬁrst quarter of 2024, from US$42.3 million  in the \\nﬁrst quarter of 2023, representing a YoY increase of \\n24.5% in USD  and 21.3% on an FX neutral basis . \\nSubscription revenue represented 95.7%  of total \\nrevenues and increased to US$50.4 million in the \\nﬁrst quarter of 2024, from US$39.8 million  in the \\nﬁrst  quarter of 2023, a YoY increase of 26.7% in \\nUSD  and 23.4% on an FX neutral basis .\\nNon-GAAP subscription gross proﬁt was US$38.9 \\nmillion  in the ﬁrst quarter of 2024, compared to \\nUS$29.4 million  in the ﬁrst quarter of 2023, \\nrepresenting a YoY increase of 32.3% in USD  and \\n28.5% on an FX neutral basis .\\nNon-GAAP subscription gross margin was 77.2%  \\nin the ﬁrst quarter of 2024, compared to 73.9%  in \\nthe same quarter of 2023. The YoY margin \\nexpansion of 328 bps was mainly attributable to \\noperational hosting cost eﬃciencies, support cost \\noptimization, among other impacts. \\n3First Quarter 2024 \\nFinancial Highlights'),\n",
              "  Document(metadata={'source': '/content/VTEX-1Q24-Earnings-Press-Release-pptx.pdf', 'page': 3}, page_content='❏ New customers that initiated their operations with \\nus, among others:    \\n❏ Keune Haircosmetics Manufacturing in Belgium, \\nthe Netherlands, and France;   \\n❏ Arado, Cruzeiro do Sul and PetYard in Brazil;  \\n❏ Tres Montes in Chile; \\n❏ OBI in Germany; \\n❏ PagineGialle Shop in Italy; \\n❏ KFC in Romania; and \\n❏ HMart in the US. \\n4First Quarter 2024 \\nCommercial Highlights \\n❏ Existing customers expanding their operations \\nwith us by opening new online stores, among \\nothers: \\n❏ Grupo Soma , who added a new store in Chile, \\nexpanding its presence to more than 10 stores \\nacross Latin America and the US; \\n❏ Hinode Group , who added a B2B store in Brazil, \\nnow operating both B2B and B2C models across \\ntwo countries in Latam; \\n❏ Hugo Boss , who added new stores in Colombia \\nand Peru, increasing its footprint to four stores \\nacross Latin America; and \\n❏ Nike , who added, a new store in Colombia, \\nextending its reach to three countries in Latin \\nAmerica.'),\n",
              "  Document(metadata={'source': '/content/VTEX-1Q24-Earnings-Press-Release-pptx.pdf', 'page': 4}, page_content=\"5\\nWe innovate aligned with our guiding principles. \\nWe express our brand through the success of                          \\nour customers. VTEX key operational highlights \\nthis quarter are: \\nZero friction onboarding and collaboration \\n❏ OBI, the premier multinational home \\nimprovement retailer headquartered in Germany, \\nhas partnered with VTEX to enhance its \\ncommerce capabilities and solidify its position as \\na leader in home improvement. By migrating \\naway from their previous legacy software \\nprovider, and choosing VTEX over others, OBI is \\nnow able to leverage VTEX's renowned \\nautomation capabilities and streamlined \\ninfrastructure to simplify the buyer journey. \\nThrough VTEX's composable commerce \\nplatform, OBI seamlessly integrated its \\necommerce 349 physical stores, and third-party \\nsellers into a uniﬁed transactional platform, \\nexpanding product oﬀerings and providing \\ncustomers with a seamless shopping experience \\nacross various delivery and pick-up options. With \\nintegrated physical stores nationwide, customers \\ncan now pick up online orders within just two \\nhours, showcasing the platform's eﬃciency and \\neﬀectiveness in meeting consumer needs. Since \\nmigrating to VTEX, OBI has experienced \\nsigniﬁcant enhancements in consumer and \\ndeveloper experience, including uniﬁed franchise \\nmanagement, smooth ramp-up of platform \\ntraﬃc, improved front-end metrics, and \\nincreased agility in development processes. \\n   .               .\\nFirst Quarter 2024 \\nOperational Highlights \\n❏ Cloe , a leather goods brand in Mexico, partnered \\nwith VTEX for its omnichannel leadership. \\nLeveraging VTEX's platform, Cloe achieved cost \\nreductions and streamlined operations, with \\nnotable features such as Personal Shopper \\nenhancing customized experiences. This \\ncollaboration yielded impressive results, including \\na 14% increase in digital sales in 2023, alongside \\nstrengthened oﬄine sales. With a notable 60.5% \\nincrease in conversion rates and a 12.5% growth \\nin average order value. \\n❏ Colgate ’s, partnership with VTEX exempliﬁes \\ndigital commerce innovation. Leveraging VTEX's \\nmarketplace functionality, Colgate swiftly \\nestablished a B2B ecommerce platform, \\nstreamlining implementation and reducing costs. \\nThis unique marketplace, designed exclusively for \\ndentists, integrates distributor products \\nseamlessly, fostering sales growth without \\nlogistical overhead with  strategic enhancements, \\nincluding cashback promotions and a loyalty \\nprogram. Colgate started their operations with \\nVTEX in Brazil, and in the 4Q23 they added two \\nB2B sites in the US, PCA Skin and Colgate \\nProfessional, leveraging our fully composable \\narchitecture.\"),\n",
              "  Document(metadata={'source': '/content/VTEX-1Q24-Earnings-Press-Release-pptx.pdf', 'page': 5}, page_content=\"❏ Mezzo , a leading Brazilian dermo-cosmetics chain \\nacross nine states, partnered with VTEX to develop \\ntheir B2C and B2B platforms. Launching two stores, \\nMezzo Cosmetics and Mezzo Professionals, they \\nachieved seamless connectivity with physical stores \\nand uniﬁed data sources for streamlined operations. \\nEach franchisee account serves as a white-label \\nseller, representing individual stores and ensuring \\noptimal inventory management. Remarkably, the \\nproject was completed in just three months. \\n❏ Enhanced marketplace features  streamline \\nrequirement group management for Received SKUs, \\nreducing operational burdens and accelerating \\ntime-to-revenue for platform sellers. \\nSingle control panel for every order \\n❏ Dimak , a leading grocery distributor in Chile, \\npartnered with VTEX to modernize their B2B \\noperations. With VTEX's innovative solutions, Dimak \\nestablished a 24/7 online store and implemented a \\nclosed website model, resulting in signiﬁcant growth. \\nDimak saw a 10x increase in GMV and orders, \\ndoubled conversion rates, and achieved a 4 p.p. \\nboost in proﬁtability compared to traditional channels. \\n❏ Interfood , a leading Brazilian beverage importer with \\nglobal presence, has been a satisﬁed VTEX B2C \\ncustomer since 2020. Recently, they extended their \\npartnership with VTEX to power their B2B operations, \\nunlocking new opportunities. Leveraging VTEX's B2B \\nSuite tool, Interfood seamlessly integrated APIs to \\nstreamline customer registrations and credit control \\nprocesses. With VTEX IO Apps, tax requirements \\nwere tailored to meet Interfood's precise needs, \\nshowcasing VTEX's commitment to exceeding \\ncustomer expectations. \\nFirst Quarter 2024 \\nOperational Highlights \\n❏ KFC, a quick service restaurant giant, selected \\nVTEX in Romania to power their B2C \\noperations. Seamlessly aligning with VTEX's \\nout-of-the-box functionalities, KFC swiftly \\nlaunched their website and mobile app, for \\nboth IOS and Android, all from a single code \\nbase. The VTEX team was able to adeptly \\ntailor ordering and payment methods to meet \\nKFC's speciﬁc requirements and be ready to \\nlaunch the project in only four months. \\n❏ Launched VTEX Shield,  empowering \\nenterprise brands to monitor, safeguard \\nagainst security threats, and preserve revenue \\nwhile ensuring the security of sensitive data to \\nuphold customer trust. Our solution adds an \\nextra layer to enhance data protection \\nmeasures. \\n❏ Launched VTEX WhatsApp Campaigns , \\nunlocking personalized sales conversions with \\na plug-and-play WhatsApp Business Account \\ncreator in VTEX Admin, connected to Meta. \\nBrands can now activate targeted campaigns \\nfor timely engagement and higher conversion \\nrates. Real-time analytics track campaign \\neﬀectiveness, monitoring conversions with \\nview-to-conversion metrics.\"),\n",
              "  Document(metadata={'source': '/content/VTEX-1Q24-Earnings-Press-Release-pptx.pdf', 'page': 6}, page_content=\"Commerce on auto-pilot and co-pilot \\n❏ New Balance , the renowned global sneaker brand, \\ndoubled website conversion rates after migrating to \\nVTEX in Brazil. Previously, they faced limitations on \\ntheir old platform, unable to deliver innovative \\nexperiences due to high development costs. VTEX's \\ncomposable platform and plug-and-play \\nfunctionalities addressed these challenges, enabling \\nseamless integration of pricing catalogs and XML \\nautomation. With VTEX's API integrations, manual \\ntasks became automated, empowering teams to \\nmanage promotions independently. The migration led \\nto rapid results, including increased product page \\nvisits, doubled conversions, and revenue growth \\nwithin a month post-migration. \\nFirst Quarter 2024 \\nOperational Highlights \\n❏ Launched VTEX Ad Network , connecting \\ncustomers with ideal advertising partners \\nthrough our vast network. Using AI-driven \\ntargeting and auctions, we optimize ad \\ncampaigns to maximize revenue. Our focus is \\nto streamline operations, scale AI and \\nanalytics for insights, and advance security \\nmeasures for data protection. \\n❏ Launched VTEX Data Pipeline , empowering \\nenterprises with enhanced data connections \\nto eﬀectively leverage AI. Our solution oﬀers \\nspecialized APIs for bulk data retrieval and \\nsecure data-sharing services, seamlessly \\ndelivering VTEX commerce data to customers' \\npreferred data warehouses. \\n❏ Launched VTEX Delivery Promise , \\nshowcasing delivery options and dates \\ndirectly within search ﬁlters and product pages \\nusing advanced algorithms and technology. \\nAddressing shopper expectations for tailored \\nexperiences based on desired delivery \\nmethods or dates. \\n❏ Enhanced existing products with AI features, \\nincluding: VTEX Intelligent Search , \\noptimizing results and boosting conversions; \\nLive Shopping , enhancing engagement with \\nAI Chat; Pick and Pack , streamlining \\noperations, reducing errors, and improving \\neﬃciency; Shipping Insights , oﬀering \\nreal-time visibility for optimized logistics and \\nprompt delivery. Through strategic AI \\napplication, VTEX equips customers to stay \\ncompetitive by delivering faster time to \\nmarket, lower costs, and increased GMV. \\n7\"),\n",
              "  Document(metadata={'source': '/content/VTEX-1Q24-Earnings-Press-Release-pptx.pdf', 'page': 7}, page_content=\"The development platform of choice for digital \\ncommerce \\n❏ Hearst , the leading global, diversiﬁed media, \\ninformation, and services company, chose VTEX for \\nits extensive native capabilities, adaptable multi-site \\narchitecture, and VTEX IO development platform, \\nenabling the integration of custom features. \\nLeveraging VTEX, Hearst established a marketplace \\nsupporting multi-vendor business models, thereby \\nseamlessly enhancing the customer experience \\nacross its publications and shoppable interfaces, \\nfacilitating the easy purchase of featured products. \\nWith VTEX's out-of-the-box features and ﬂexible \\nAPIs, Hearst swiftly launched its platform and \\niteratively leveraged new business models in the \\ndigital economy. This transition led to a signiﬁcant \\nreduction in Total Cost of Ownership, from \\nhigh-single-digits to low-single-digits, highlighting the \\neﬃciency and adaptability of VTEX's solution. \\nFurthermore, Hearst serves as the ﬂagship client \\npiloting VTEX Data Pipeline and VTEX Fast Checkout, \\ncurrently undergoing A/B testing on their Men's \\nHealth website, as the primary checkout experience. \\n❏ Launched VTEX FastStore , revolutionizing store \\ncreation and evolution with unparalleled performance \\nand adaptability. Consisting of three core products: \\nFastStore Framework, oﬀering a suite of \\ncommerce-optimized UI components, code libraries, \\nand integrations; FastStore WebOps, a \\ncomprehensive front-end platform with performance \\nmetrics, automated checks, and a robust serving \\nlayer powered by a global edge network; and \\nHeadless CMS, a powerful yet user-friendly content \\nmanagement system empowering content teams to \\nmanage updates independently. \\nFirst Quarter 2024 \\nOperational Highlights \\n8\\n❏ Launched VTEX FastCheckout , utilizing \\nelements of FastStore, the product oﬀers \\nmultiple features aimed at reducing cart \\nabandonment rates and improving overall \\nconversion, seamlessly integrating with VTEX \\nHeadless CMS.\"),\n",
              "  Document(metadata={'source': '/content/VTEX-1Q24-Earnings-Press-Release-pptx.pdf', 'page': 8}, page_content=\"Although the macroeconomic scenario remains \\nuncertain, we see VTEX well positioned to capture \\nan attractive market opportunity. We are closely \\nmonitoring the performance of our customers and \\nsales funnel and taking necessary actions to \\nensure our business' sustainable growth and \\nsuccess. We remain encouraged by our sales \\nmomentum and operational leverage, despite \\nweakness in Argentina. \\nIn this context, we are currently targeting revenue \\nfor the second quarter of 2024 in the  US$54.5 \\nmillion to US$56.0 million range , implying a YoY \\ngrowth of 18% on an FX neutral basis in the \\nmiddle of the range . \\nFor the full year 2024, we continue executing our \\nstrategy for proﬁtable growth. Recognizing \\nheightened volatility in Argentina’s macro situation, \\nwe are targeting  FX neutral YoY revenue growth \\nof 16% to 20% , implying a range of US$234 \\nmillion to US$243 million based on April’s \\naverage FX rate. Further demonstrating our \\noperational leverage, we are targeting free cash \\nﬂow and non-GAAP operating income margins \\nof high single digits .\\nWe are conﬁdent in VTEX's ability to navigate the \\nuncertainties posed by the current macroeconomic \\nscenario. We are empowering our customers to \\ndigitally transform their commerce operations while \\nhelping them to outperform the market. \\nThe business outlook provided above constitutes \\nforward-looking information within the meaning of \\napplicable securities laws and is based on a \\nnumber of assumptions and subject to a number of \\nrisks. Actual results could vary materially as a \\nresult of numerous factors, including certain risk \\nfactors, many of which are beyond VTEX’s control. \\nSee the cautionary note regarding ''Forward- \\nLooking Statements'' below. Fluctuations in VTEX’s \\noperating results may be particularly pronounced in \\nthe current economic environment. There can not \\nbe an assurance that VTEX will achieve these \\nresults. \\n9First Quarter 2024 \\nBusiness Outlook\"),\n",
              "  Document(metadata={'source': '/content/VTEX-1Q24-Earnings-Press-Release-pptx.pdf', 'page': 9}, page_content='(1) Calculated by using the average monthly exchange rates for the applicable months during 2023, adjusted by inﬂation in \\ncountries with hyperinﬂation, and applying them to the corresponding months in 2024, as applicable, so as to calculate what our \\nresults would have been had exchange rates remained stable from one year to the next. \\n(2) Corresponds to our subscription revenues minus our subscription costs. \\n(3) Corresponds to our subscription gross proﬁt divided by subscription revenues. \\n(4) Reconciliation of Non-GAAP metrics can be found in tables below. \\n10Three months ended \\nMarch 31, \\n(in millions of US$, except as otherwise indicated) 2024 2023 \\nGMV 4,036.9 3,303.7 \\nGMV growth YoY FXN (1) 20.1% 20.6% \\nRevenue 52.6 42.3\\nRevenue growth YoY FXN (1) 21.3% 22.2% \\nNon-GAAP subscription gross proﬁt (2) (4) 38.9 29.4\\nNon-GAAP subscription gross proﬁt margin (3) (4) 77.2% 73.9% \\nNon-GAAP income (loss) from operations (4) 3.0 (4.1)\\nTotal number of employees 1,334 1,339 \\nThe following table summarizes certain key ﬁnancial \\nand operating metrics for the three months ended \\nMarch 31, 2024 and 2023.'),\n",
              "  Document(metadata={'source': '/content/VTEX-1Q24-Earnings-Press-Release-pptx.pdf', 'page': 10}, page_content='The conference call may be accessed by dialing \\n+1-646-968-2525 (Conference ID –1918046–) and \\nrequesting inclusion in the call for VTEX. \\nThe live conference call can be accessed via audio \\nwebcast at the investor relations section of VTEX’s \\nwebsite at https://www.investors.vtex.com/ . \\nAn archive of the webcast will be available for one week \\nfollowing the conclusion of the conference call. \\n11First Quarter 2024 \\nConference Call and Webcast'),\n",
              "  Document(metadata={'source': '/content/VTEX-1Q24-Earnings-Press-Release-pptx.pdf', 'page': 11}, page_content='“ARR ” means annual recurring revenue, \\ncalculated as subscription revenue in the \\nmost recent quarter multiplied by four. \\n“Customers ” means companies ranging \\nfrom small and medium-sized businesses \\nto larger enterprises that pay to use \\nVTEX’s platform. \\n“GMV ” means the total value of customer \\norders processed through our platform, \\nincluding value-added taxes and shipping. \\nOur GMV does not include the value of \\norders processed by our SMB customers \\nor B2B transactions. \\n“FX Neutral ” or “ FXN”  means a way of \\nusing the average monthly exchange rates \\nfor each month during the previous year, \\nadjusted by inﬂation in countries with \\nhyper-inﬂation, and applying them to the \\ncorresponding months of the current year, \\nso as to calculate what results would have \\nbeen had exchange rates remained stable \\nfrom one year to the next. \\nv“Stores ” or “ Active Stores ” means the \\nnumber of unique domains generating \\ngross merchandise value.  Each customer \\nmight have multiple stores. \\n12Deﬁnition of Selected \\nOperational Metrics'),\n",
              "  Document(metadata={'source': '/content/VTEX-1Q24-Earnings-Press-Release-pptx.pdf', 'page': 12}, page_content='For the convenience of investors, this document \\npresents certain Non-GAAP ﬁnancial measures, \\nwhich are not recognized under IFRS Accounting \\nStandards, speciﬁcally Non-GAAP subscription \\ngross proﬁt, Non-GAAP income (loss) from \\noperations, free cash ﬂow and FX Neutral \\nmeasures. \\nWe understand that Non-GAAP subscription \\ngross proﬁt, Non-GAAP income (loss) from \\noperations, free cash ﬂow and FX Neutral \\nmeasures have limitations as analytical tools, and \\nyou should not consider them in isolation or as \\nsubstitutes for analysis of our results of operations \\npresented in accordance with IFRS Accounting \\nStandards. Additionally, our calculations of \\nNon-GAAP subscription gross proﬁt, Non-GAAP \\nincome (loss) from operations, free cash ﬂow and \\nFX Neutral measures may be diﬀerent from the \\ncalculation used by other companies, including \\nour competitors, and therefore, our measures may \\nnot be comparable to those of other companies. \\n13Special Note Regarding \\nNon-GAAP Financial Metrics \\n v'),\n",
              "  Document(metadata={'source': '/content/VTEX-1Q24-Earnings-Press-Release-pptx.pdf', 'page': 13}, page_content='The following table presents a reconciliation of our Non-GAAP subscription gross proﬁt to subscription gross proﬁt for \\nthe following periods: \\nThe following table presents a reconciliation of our Non-GAAP S&M expenses to S&M expenses for the following \\nperiods: Three months ended \\nMarch 31, \\n(in millions of US$, except as otherwise indicated) 2024 2023 \\nSubscription revenue 50.4 39.8\\nSubscription cost (11.5) (10.4) \\nSubscription gross proﬁt 38.8 29.4\\nShare-based compensation 0.0 0.0\\nNon-GAAP subscription gross proﬁt 38.9 29.4\\nNon-GAAP subscription gross margin 77.2% 73.9% \\nThree months ended \\nMarch 31, \\n(in millions of US$, except as otherwise indicated) 2024 2023 \\nSales & Marketing expense (17.2) (14.8) \\nShare-based compensation expense 1.1 1.3\\nAmortization and adjustment related to acquisitions 0.3 0.3\\nNon-GAAP Sales & Marketing expense (15.8) (13.2) \\n14Reconciliation of \\nNon-GAAP Measures \\n v'),\n",
              "  Document(metadata={'source': '/content/VTEX-1Q24-Earnings-Press-Release-pptx.pdf', 'page': 14}, page_content='The following table presents a reconciliation of our Non-GAAP R&D expenses to R&D expenses for the following \\nperiods: \\nThree months ended \\nMarch 31, \\n(in millions of US$, except as otherwise indicated) 2024 2023 \\nResearch & Development expense (12.7) (14.0) \\nShare-based compensation expense 0.2 1.9\\nAmortization and adjustment related to acquisitions 0.2 0.2\\nNon-GAAP Research & Development expense (12.3) (11.8) \\nThree months ended \\nMarch 31, \\n(in millions of US$, except as otherwise indicated) 2024 2023 \\nGeneral & Administrative expense (9.2) (7.9)\\nShare-based compensation expense 2.6 1.7\\nAmortization and adjustment related to acquisitions 0.0 0.0\\nNon-GAAP General & Administrative expense (6.6) (6.2)\\n15Reconciliation of \\nNon-GAAP Measures \\n v\\nThe following table presents a reconciliation of our Non-GAAP G&A expenses to G&A expenses for the following \\nperiods:'),\n",
              "  Document(metadata={'source': '/content/VTEX-1Q24-Earnings-Press-Release-pptx.pdf', 'page': 15}, page_content='Three months ended \\nMarch 31, \\n(in millions of US$, except as otherwise indicated) 2024 2023 \\nLoss from operations (1.6) (9.7)\\nShare-based compensation expense 4.1 5.1\\nAmortization and adjustment related to acquisitions 0.5 0.5\\nNon-GAAP income (loss) from operations 3.0 (4.1)\\nThree months ended \\nMarch 31, \\n(in millions of US$, except as otherwise indicated) 2024 2023 \\nNet cash provided by (used in) by operating activities 2.6 (4.9)\\nAcquisitions of intangibles - -\\nAcquisitions of property and equipment (0.7) (0.1)\\nFree cash ﬂow 1.9 (5.0)\\n16Reconciliation of \\nNon-GAAP Measures \\n v\\nThe following table presents a reconciliation of our Non-GAAP income (loss) from operations to loss from operations \\nfor the following periods: \\nThe following table presents a reconciliation of our free cash ﬂow to net cash used by operating activities for the \\nfollowing periods:'),\n",
              "  Document(metadata={'source': '/content/VTEX-1Q24-Earnings-Press-Release-pptx.pdf', 'page': 16}, page_content='This announcement does not contain suﬃcient information to constitute an interim ﬁnancial report as deﬁned in International Financial \\nReporting Standards as issued by the International Accounting Standards Board (“IFRS Accounting Standards”) IAS 34 Interim Financial \\nReporting, \"Interim Financial Reporting\" nor a ﬁnancial statement as deﬁned by IFRS Accounting Standards 1 \"Presentation of Financial \\nStatements\". The ﬁnancial information in this press release has not been audited. \\n As Reported FX Neutral \\nMeasures As \\nReported \\n(in millions of US$, \\nexcept as otherwise \\nindicated) 1Q24 1Q23 Percentage \\nChange 1Q24 1Q23 Percentage \\nChange \\nSubscription revenue 50.4 39.8 26.7% 49.1 39.8 23.4% \\nServices revenue 2.3 2.5 (9.3)% 2.2 2.5 (10.8)% \\nTotal revenue 52.6 42.3 24.5% 51.3 42.3 21.3% \\nGross proﬁt 37.9 27.7 36.7% 36.6 27.7 32.1% \\nLoss from operations (1.6) (9.7) (83.6)% (1.5) (9.7) (84.7)% \\n17Reconciliation of \\nFX Neutral Measures \\n v\\nThe following table sets forth the FX neutral measures related to our reported results of the operations for the three \\nmonths ended March 31, 2024:'),\n",
              "  Document(metadata={'source': '/content/VTEX-1Q24-Earnings-Press-Release-pptx.pdf', 'page': 17}, page_content='VTEX (NYSE: VTEX) is the composable and complete commerce platform that delivers more \\neﬃciency and less maintenance to organizations seeking to make smarter IT investments and \\nmodernize their tech stack. Through our pragmatic composability approach, we empower \\nbrands, distributors, and retailers with unparalleled ﬂexibility and comprehensive solutions, \\nenabling them to invest solely in what provides a clear business advantage and boosts \\nproﬁtability. \\nVTEX is trusted by 2,600 global B2C and B2B customers , including Carrefour , Colgate , \\nMotorola , Sony , Stanley Black & Decker , and Whirlpool , having 3,500 active online stores  \\nacross 43 countries  (as of FY ended on December 31, 2023). For more information, visit \\nwww.vtex.com. \\n18About \\nVTEX \\n v'),\n",
              "  Document(metadata={'source': '/content/VTEX-1Q24-Earnings-Press-Release-pptx.pdf', 'page': 18}, page_content='This announcement contains “forward-looking \\nstatements” within the meaning of Section 27A of \\nthe Securities Act of 1993, as amended, and \\nSection 21E of the Securities Exchange of 1934, \\nas amended. Statements contained herein that \\nare not clearly historical in nature, including \\nstatements about the VTEX strategies and \\nbusiness plans, are forward-looking, and the \\nwords “anticipate,” “believe,” “continues,” \\n“expect,” “estimate,” “intend,” ”strategy,” \\n“project,” “target” and similar expressions and \\nfuture or conditional verbs such as “will,” “would,” \\n“should,” “could,” “might,” “can,” “may,” or similar \\nexpressions are generally intended to identify \\nforward-looking statements. \\nVTEX may also make forward-looking statements \\nin its periodic reports ﬁled with the U.S. Securities \\nand Exchange Commission, or the SEC, in press \\nreleases and other written materials and in oral \\nstatements made by its oﬃcers and directors. \\nThese forward-looking statements speak only as \\nof the date they are made and are based on the \\nVTEX’s current plans and expectations and are \\nsubject to a number of known and unknown \\nuncertainties and risks, many of which are beyond \\nVTEX’s control. A number of factors and risks \\ncould cause actual results to diﬀer materially from \\nthose contained in any forward-looking statement. \\nFurther information regarding these and other \\nrisks is included in VTEX ﬁlings with the SEC. \\nAs a consequence, current plans, anticipated \\nactions and future ﬁnancial position and results of \\noperations may diﬀer signiﬁcantly from those \\nexpressed in any forward-looking statements in \\nthis announcement. You are cautioned not to \\nunduly rely on such forward-looking statements \\nwhen evaluating the information presented as \\nthere is no guarantee that expected events, \\ntrends or results will actually occur. We undertake \\nno obligation to update or revise any \\nforward-looking statements, whether as a result \\nof new information or future events or for any \\nother reason. \\nThis announcement may also contain estimates \\nand other information concerning our industry \\nthat are based on industry publications, surveys \\nand forecasts. This information involves a number \\nof assumptions and limitations, and we have not \\nindependently veriﬁed the accuracy or \\ncompleteness of the information. \\n19Forward-looking \\nStatements \\n v'),\n",
              "  Document(metadata={'source': '/content/VTEX-1Q24-Earnings-Press-Release-pptx.pdf', 'page': 19}, page_content='VTEX \\nCondensed consolidated interim statements of proﬁt or \\nloss (Unaudited) \\nIn thousands of U.S. dollars, unless otherwise indicated \\n Three months ended \\n March 31, 2024 March 31, 2023 \\nSubscription revenue 50,362 39,762 \\nServices revenue 2,286 2,520 \\nTotal revenue 52,648 42,282 \\nSubscription cost (11,539) (10,400) \\nServices cost (3,221) (4,166) \\nTotal cost (14,760) (14,566) \\nGross proﬁt 37,888 27,716 \\nOperating expenses \\nGeneral and administrative (9,172) (7,925) \\nSales and marketing (17,192) (14,782) \\nResearch and development (12,728) (13,959) \\nOther losses (386) (754) \\nLoss from operations (1,590) (9,704) \\nFinancial income 9,102 7,359 \\nFinancial expense (12,496) (5,903) \\nFinancial result, net (3,394) 1,456 \\nEquity results 18 341\\nLoss before income tax (4,966) (7,907) \\nIncome tax \\nCurrent (254) (570) \\nDeferred 2,766 549\\nTotal income tax 2,512 (21)\\nNet loss for the period (2,454) (7,928) \\nAttributable to controlling shareholders \\n(2,446) (7,928) \\nNon-controlling interest (8)-\\n \\n USD USD \\nLoss per share \\n  Basic loss per share (0.013) (0.042) \\n  Diluted loss per share (0.013) (0.042)'),\n",
              "  Document(metadata={'source': '/content/VTEX-1Q24-Earnings-Press-Release-pptx.pdf', 'page': 20}, page_content='ASSETS March 31, 2024 December 31, 2023 \\nCurrent assets \\nCash and cash equivalents 17,468 28,035 \\nShort-term investments 191,885 181,374 \\nTrade receivables 45,189 44,122 \\nRecoverable taxes 5,958 6,499 \\nDeferred commissions 1,328 1,005 \\nPrepaid expenses 6,238 5,143 \\nDerivative ﬁnancial instruments - 53\\nOther current assets 122 22\\nTotal current assets 268,188 266,253\\xa0 \\nNon-current assets \\nLong-term investments 3,056 2,000 \\nTrade receivables 8,595 7,415 \\nDeferred tax assets 22,469 19,926 \\nPrepaid expenses 127 155\\nRecoverable taxes 4,411 4,454 \\nDeferred commissions 3,006 2,924 \\nOther non-current assets 788 902\\nRight-of-use assets 2,813 3,277 \\nProperty and equipment, net 2,969 2,697 \\nIntangible assets, net 29,121 30,024 \\nInvestments in joint venture 1,099 1,118 \\nTotal non-current assets 78,454 74,892 \\nTotal assets 346,642 341,145 VTEX \\nCondensed consolidated interim balance sheets \\n(Unaudited) \\nIn thousands of U.S. dollars, unless otherwise indicated \\n21'),\n",
              "  Document(metadata={'source': '/content/VTEX-1Q24-Earnings-Press-Release-pptx.pdf', 'page': 21}, page_content='LIABILITIES March 31, 2024 December 31, 2023 \\nCurrent liabilities \\nAccounts payable and accrued expenses 39,352 39,728 \\nTaxes payable 6,811 8,219 \\nLease liabilities 1,717 1,863 \\nDeferred revenue 26,653 25,948 \\nOther current liabilities 3,854 1,486 \\nTotal current liabilities 78,387 77,244\\xa0 \\nNon-current liabilities \\nAccounts payable and accrued expenses 811 1,632 \\nLease liabilities 1,851 2,233 \\nDeferred revenue  19,209 16,584 \\nDeferred tax liabilities 3,026 2,668 \\nOther non-current liabilities 427 452\\nTotal non-current liabilities 25,324 23,569\\xa0 \\nEquity \\nIssued capital 18 18\\nCapital reserve 373,554 370,821 \\nOther reserves 1,824 (486) \\nAccumulated losses (132,506) (130,060) \\nEquity attributable to VTEX’s shareholders 242,890 240,293\\xa0 \\nNon-controlling interests 41 39\\nTotal shareholders’ equity 242,931 240,332 \\nTotal liabilities and equity 346,642 341,145 \\n22VTEX \\nCondensed consolidated interim balance sheets \\n(Unaudited) \\nIn thousands of U.S. dollars, unless otherwise indicated'),\n",
              "  Document(metadata={'source': '/content/VTEX-1Q24-Earnings-Press-Release-pptx.pdf', 'page': 22}, page_content='March 31, 2024 March 31, 2023 \\nNet loss for the period (2,454) (7,928) \\nAdjustments for: \\nDepreciation and amortization 1,113 1,226 \\nDeferred income tax (2,766) (549) \\nLoss on disposal of rights of use, property, equipment, and intangible assets 127 14 \\nExpected credit losses from trade receivables 215 537 \\nShare-based compensation 3,030 4,004 \\nProvision for payroll taxes (share-based compensation) 1,092 452 \\nAdjustment of hyperinflation 4,002 1,420 \\nEquity results (18) (341) \\nAccrued interest (5,491) (1,768) \\nFair value (gains) losses 304 (3,374) \\nOthers and foreign exchange, net 3,877 1,836 \\nChange in operating assets and liabilities \\nTrade receivables (3,684) (124) \\nRecoverable taxes (397) (580) \\nPrepaid expenses (1,167) (1,019) \\nOther assets (446) (299) \\nAccounts payable and accrued expenses (1,346) (4,250) \\nTaxes payable (1,038) 1,472 \\nDeferred revenue 4,251 4,279 \\nOther liabilities 2,888 304\\nCash provided by (used in) operating activities 2,092 (4,688) \\nIncome tax refund (paid) 547 (170) \\nNet cash provided by (used in) operating activities 2,639 (4,858) \\nCash flows from investing activities \\nPurchase of short and long-term investment (64,067) (4,005) \\nRedemption of short-term investment 54,184 11,868 \\nInterest and dividend received from short-term investments 197 462 \\nAcquisitions of property and equipment (738) (146) \\nDerivative financial instruments (1,549) (134) \\nNet cash provided by (used in) investing activities (11,973) 8,045 \\nCash flows from financing activities \\nChanges in restricted cash -   1,034 \\nProceeds from the exercise of stock options 448 3 \\nNet-settlement of share-based payment (764) (387) \\nBuyback of shares -   (5,330) \\nPayment of loans and financing -   (696) \\nInterest paid -   (4)\\nPrincipal elements of lease payments (414) (368) \\nLease interest paid (106) (148) \\nNet cash used in financing activities (836) (5,896) \\nNet decrease in cash and cash equivalents (10,170) (2,709) \\nCash and cash equivalents, beginning of the period 28,035 24,394 \\nEffect of exchange rate changes (397) 206\\nCash and cash equivalents, end of the period 17,468 21,891 \\n23VTEX \\nCondensed consolidated interim statements of cash \\nﬂows (Unaudited) \\nIn thousands of U.S. dollars, unless otherwise indicated \\n March 31, 2024 March 31, 2023 \\nNon-cash transactions: \\nLease liabilities arising from obtaining right-of-use assets and remeasurement - 76 \\nTransactions with non-controlling interests                         10                      17'),\n",
              "  Document(metadata={'source': '/content/VTEX-1Q24-Earnings-Press-Release-pptx.pdf', 'page': 23}, page_content='Thank you! \\nContact \\nJulia Vater Fernández \\nInvestor Relations Director \\ninvestors@vtex.com')],\n",
              " 'output_text': 'VTEX, a commerce platform for premier brands and retailers, announced its financial results for the first quarter of 2024. The company reported positive growth in revenue, gross profit, and subscription revenue. They also highlighted new customer acquisitions and expansions with existing customers. VTEX showcased operational highlights, including partnerships with companies like OBI, Cloe, Colgate, and KFC. The company is focused on sustainable growth, margin expansion, and customer success. They provided a business outlook for the second quarter and full year of 2024, targeting revenue growth and operational leverage. VTEX also disclosed their financial statements, balance sheets, and cash flows for the period. The company emphasized their commitment to innovation, customer success, and navigating uncertainties in the macroeconomic environment.'}"
            ]
          },
          "metadata": {},
          "execution_count": 42
        }
      ]
    },
    {
      "cell_type": "code",
      "source": [
        "output_text_stuff = res[\"output_text\"]\n",
        "print(res[\"output_text\"])"
      ],
      "metadata": {
        "colab": {
          "base_uri": "https://localhost:8080/"
        },
        "id": "HM7GQNvbc69Z",
        "outputId": "67c4e9f7-14c4-4e4c-a8c2-0c5a810b6084"
      },
      "execution_count": null,
      "outputs": [
        {
          "output_type": "stream",
          "name": "stdout",
          "text": [
            "VTEX, a commerce platform for premier brands and retailers, announced its financial results for the first quarter of 2024. The company reported positive growth in revenue, gross profit, and subscription revenue. They also highlighted new customer acquisitions and expansions with existing customers. VTEX showcased operational highlights, including partnerships with companies like OBI, Cloe, Colgate, and KFC. The company is focused on sustainable growth, margin expansion, and customer success. They provided a business outlook for the second quarter and full year of 2024, targeting revenue growth and operational leverage. VTEX also disclosed their financial statements, balance sheets, and cash flows for the period. The company emphasized their commitment to innovation, customer success, and navigating uncertainties in the macroeconomic environment.\n"
          ]
        }
      ]
    },
    {
      "cell_type": "markdown",
      "source": [
        "# Summarize using the \"Map Reduce\" chain type method."
      ],
      "metadata": {
        "id": "r6HrpvSS2FSc"
      }
    },
    {
      "cell_type": "code",
      "source": [
        "from langchain.chains.summarize import load_summarize_chain\n",
        "from langchain_community.document_loaders import WebBaseLoader\n",
        "from langchain_openai import ChatOpenAI\n",
        "\n",
        "llm = ChatOpenAI(temperature=0.1, model_name=\"gpt-3.5-turbo\", api_key=open_ai_key)\n",
        "chain = load_summarize_chain(llm, chain_type=\"map_reduce\")\n",
        "\n",
        "res = chain.invoke(pages)\n",
        "res"
      ],
      "metadata": {
        "colab": {
          "base_uri": "https://localhost:8080/"
        },
        "id": "daArGhEpX6zl",
        "outputId": "a344aea5-093d-41cc-db6f-b61165b51ede"
      },
      "execution_count": null,
      "outputs": [
        {
          "output_type": "execute_result",
          "data": {
            "text/plain": [
              "{'input_documents': [Document(metadata={'source': '/content/VTEX-1Q24-Earnings-Press-Release-pptx.pdf', 'page': 0}, page_content='1VTEX \\nSecond Quarter 2023 \\nConference Call Transcript \\nVTEX \\nFirst Quarter 2024 Financial \\nResults'),\n",
              "  Document(metadata={'source': '/content/VTEX-1Q24-Earnings-Press-Release-pptx.pdf', 'page': 1}, page_content=\"NEW YORK, May 7, 2024 – VTEX (NYSE: VTEX), the composable and complete commerce platform for \\npremier brands and retailers, today announced results for the ﬁrst quarter of 2024 ended March 31, 2024. \\nVTEX results have been prepared in accordance with International Financial Reporting Standards as issued \\nby the International Accounting Standards Board (“IFRS Accounting Standards”) IAS 34 Interim Financial \\nReporting. \\nGeraldo Thomaz Jr. , founder and co-CEO of VTEX, commented, “Our product launches are revolutionizing \\ncommerce for IT and business teams to deliver sustainable growth with attractive ROI. By creating new \\nrevenue streams, we are extending the runway for long-term growth while continuing to deliver meaningful \\noperational leverage and margin improvements. We are excited for VTEX's future, focused on growth, \\nmargin expansion, and customer success”. Mariano Gomide de Faria , founder and co-CEO of VTEX, \\nadded, “We started the year backed by recognitions from Gartner and IDC, and we are translating this \\nmomentum into meaningful sales. Our expansion into Germany, with customers like OBI, encourages us on \\nour global expansion while sustained sales momentum in Brazil highlights our long-term growth potential. \\nCustomer feedback on our value proposition for B2B and B2C reinforces our vision as the global backbone \\nfor connected commerce.” \\n2VTEX Reports First Quarter 2024 \\nFinancial Results\"),\n",
              "  Document(metadata={'source': '/content/VTEX-1Q24-Earnings-Press-Release-pptx.pdf', 'page': 2}, page_content='Non-GAAP income from operations was US$3.0 \\nmillion  during the ﬁrst quarter of 2024, compared \\nto a Non-GAAP loss  from operations of US$4.1 \\nmillion  in the same quarter of 2023. \\nNon-GAAP positive free cash ﬂow  was US$1.9 \\nmillion  during the ﬁrst quarter of 2024, compared \\nto a Non-GAAP negative free cash ﬂow of US$5.0 \\nmillion  in the same quarter of 2023. \\nAs of March 31, 2024, total headcount was 1,334 , \\nincreasing 4.5%   compared to the prior quarter and \\ndecreasing 0.4%  YoY. \\n     \\n                                                                   \\nGMV and total revenue YoY growth reached 22% and 25%, respectively \\nGross proﬁt increased by 37% YoY, representing a margin expansion of 641 bps \\nNon-GAAP operating income and free cash ﬂow margins reached 6% and 4% \\nGMV reached US$4.0 billion  in the ﬁrst quarter of \\n2024, representing a YoY increase of 22.2% in \\nUSD and 20.1% on an FX neutral basis .\\nTotal revenue increased to US$52.6 million  in the \\nﬁrst quarter of 2024, from US$42.3 million  in the \\nﬁrst quarter of 2023, representing a YoY increase of \\n24.5% in USD  and 21.3% on an FX neutral basis . \\nSubscription revenue represented 95.7%  of total \\nrevenues and increased to US$50.4 million in the \\nﬁrst quarter of 2024, from US$39.8 million  in the \\nﬁrst  quarter of 2023, a YoY increase of 26.7% in \\nUSD  and 23.4% on an FX neutral basis .\\nNon-GAAP subscription gross proﬁt was US$38.9 \\nmillion  in the ﬁrst quarter of 2024, compared to \\nUS$29.4 million  in the ﬁrst quarter of 2023, \\nrepresenting a YoY increase of 32.3% in USD  and \\n28.5% on an FX neutral basis .\\nNon-GAAP subscription gross margin was 77.2%  \\nin the ﬁrst quarter of 2024, compared to 73.9%  in \\nthe same quarter of 2023. The YoY margin \\nexpansion of 328 bps was mainly attributable to \\noperational hosting cost eﬃciencies, support cost \\noptimization, among other impacts. \\n3First Quarter 2024 \\nFinancial Highlights'),\n",
              "  Document(metadata={'source': '/content/VTEX-1Q24-Earnings-Press-Release-pptx.pdf', 'page': 3}, page_content='❏ New customers that initiated their operations with \\nus, among others:    \\n❏ Keune Haircosmetics Manufacturing in Belgium, \\nthe Netherlands, and France;   \\n❏ Arado, Cruzeiro do Sul and PetYard in Brazil;  \\n❏ Tres Montes in Chile; \\n❏ OBI in Germany; \\n❏ PagineGialle Shop in Italy; \\n❏ KFC in Romania; and \\n❏ HMart in the US. \\n4First Quarter 2024 \\nCommercial Highlights \\n❏ Existing customers expanding their operations \\nwith us by opening new online stores, among \\nothers: \\n❏ Grupo Soma , who added a new store in Chile, \\nexpanding its presence to more than 10 stores \\nacross Latin America and the US; \\n❏ Hinode Group , who added a B2B store in Brazil, \\nnow operating both B2B and B2C models across \\ntwo countries in Latam; \\n❏ Hugo Boss , who added new stores in Colombia \\nand Peru, increasing its footprint to four stores \\nacross Latin America; and \\n❏ Nike , who added, a new store in Colombia, \\nextending its reach to three countries in Latin \\nAmerica.'),\n",
              "  Document(metadata={'source': '/content/VTEX-1Q24-Earnings-Press-Release-pptx.pdf', 'page': 4}, page_content=\"5\\nWe innovate aligned with our guiding principles. \\nWe express our brand through the success of                          \\nour customers. VTEX key operational highlights \\nthis quarter are: \\nZero friction onboarding and collaboration \\n❏ OBI, the premier multinational home \\nimprovement retailer headquartered in Germany, \\nhas partnered with VTEX to enhance its \\ncommerce capabilities and solidify its position as \\na leader in home improvement. By migrating \\naway from their previous legacy software \\nprovider, and choosing VTEX over others, OBI is \\nnow able to leverage VTEX's renowned \\nautomation capabilities and streamlined \\ninfrastructure to simplify the buyer journey. \\nThrough VTEX's composable commerce \\nplatform, OBI seamlessly integrated its \\necommerce 349 physical stores, and third-party \\nsellers into a uniﬁed transactional platform, \\nexpanding product oﬀerings and providing \\ncustomers with a seamless shopping experience \\nacross various delivery and pick-up options. With \\nintegrated physical stores nationwide, customers \\ncan now pick up online orders within just two \\nhours, showcasing the platform's eﬃciency and \\neﬀectiveness in meeting consumer needs. Since \\nmigrating to VTEX, OBI has experienced \\nsigniﬁcant enhancements in consumer and \\ndeveloper experience, including uniﬁed franchise \\nmanagement, smooth ramp-up of platform \\ntraﬃc, improved front-end metrics, and \\nincreased agility in development processes. \\n   .               .\\nFirst Quarter 2024 \\nOperational Highlights \\n❏ Cloe , a leather goods brand in Mexico, partnered \\nwith VTEX for its omnichannel leadership. \\nLeveraging VTEX's platform, Cloe achieved cost \\nreductions and streamlined operations, with \\nnotable features such as Personal Shopper \\nenhancing customized experiences. This \\ncollaboration yielded impressive results, including \\na 14% increase in digital sales in 2023, alongside \\nstrengthened oﬄine sales. With a notable 60.5% \\nincrease in conversion rates and a 12.5% growth \\nin average order value. \\n❏ Colgate ’s, partnership with VTEX exempliﬁes \\ndigital commerce innovation. Leveraging VTEX's \\nmarketplace functionality, Colgate swiftly \\nestablished a B2B ecommerce platform, \\nstreamlining implementation and reducing costs. \\nThis unique marketplace, designed exclusively for \\ndentists, integrates distributor products \\nseamlessly, fostering sales growth without \\nlogistical overhead with  strategic enhancements, \\nincluding cashback promotions and a loyalty \\nprogram. Colgate started their operations with \\nVTEX in Brazil, and in the 4Q23 they added two \\nB2B sites in the US, PCA Skin and Colgate \\nProfessional, leveraging our fully composable \\narchitecture.\"),\n",
              "  Document(metadata={'source': '/content/VTEX-1Q24-Earnings-Press-Release-pptx.pdf', 'page': 5}, page_content=\"❏ Mezzo , a leading Brazilian dermo-cosmetics chain \\nacross nine states, partnered with VTEX to develop \\ntheir B2C and B2B platforms. Launching two stores, \\nMezzo Cosmetics and Mezzo Professionals, they \\nachieved seamless connectivity with physical stores \\nand uniﬁed data sources for streamlined operations. \\nEach franchisee account serves as a white-label \\nseller, representing individual stores and ensuring \\noptimal inventory management. Remarkably, the \\nproject was completed in just three months. \\n❏ Enhanced marketplace features  streamline \\nrequirement group management for Received SKUs, \\nreducing operational burdens and accelerating \\ntime-to-revenue for platform sellers. \\nSingle control panel for every order \\n❏ Dimak , a leading grocery distributor in Chile, \\npartnered with VTEX to modernize their B2B \\noperations. With VTEX's innovative solutions, Dimak \\nestablished a 24/7 online store and implemented a \\nclosed website model, resulting in signiﬁcant growth. \\nDimak saw a 10x increase in GMV and orders, \\ndoubled conversion rates, and achieved a 4 p.p. \\nboost in proﬁtability compared to traditional channels. \\n❏ Interfood , a leading Brazilian beverage importer with \\nglobal presence, has been a satisﬁed VTEX B2C \\ncustomer since 2020. Recently, they extended their \\npartnership with VTEX to power their B2B operations, \\nunlocking new opportunities. Leveraging VTEX's B2B \\nSuite tool, Interfood seamlessly integrated APIs to \\nstreamline customer registrations and credit control \\nprocesses. With VTEX IO Apps, tax requirements \\nwere tailored to meet Interfood's precise needs, \\nshowcasing VTEX's commitment to exceeding \\ncustomer expectations. \\nFirst Quarter 2024 \\nOperational Highlights \\n❏ KFC, a quick service restaurant giant, selected \\nVTEX in Romania to power their B2C \\noperations. Seamlessly aligning with VTEX's \\nout-of-the-box functionalities, KFC swiftly \\nlaunched their website and mobile app, for \\nboth IOS and Android, all from a single code \\nbase. The VTEX team was able to adeptly \\ntailor ordering and payment methods to meet \\nKFC's speciﬁc requirements and be ready to \\nlaunch the project in only four months. \\n❏ Launched VTEX Shield,  empowering \\nenterprise brands to monitor, safeguard \\nagainst security threats, and preserve revenue \\nwhile ensuring the security of sensitive data to \\nuphold customer trust. Our solution adds an \\nextra layer to enhance data protection \\nmeasures. \\n❏ Launched VTEX WhatsApp Campaigns , \\nunlocking personalized sales conversions with \\na plug-and-play WhatsApp Business Account \\ncreator in VTEX Admin, connected to Meta. \\nBrands can now activate targeted campaigns \\nfor timely engagement and higher conversion \\nrates. Real-time analytics track campaign \\neﬀectiveness, monitoring conversions with \\nview-to-conversion metrics.\"),\n",
              "  Document(metadata={'source': '/content/VTEX-1Q24-Earnings-Press-Release-pptx.pdf', 'page': 6}, page_content=\"Commerce on auto-pilot and co-pilot \\n❏ New Balance , the renowned global sneaker brand, \\ndoubled website conversion rates after migrating to \\nVTEX in Brazil. Previously, they faced limitations on \\ntheir old platform, unable to deliver innovative \\nexperiences due to high development costs. VTEX's \\ncomposable platform and plug-and-play \\nfunctionalities addressed these challenges, enabling \\nseamless integration of pricing catalogs and XML \\nautomation. With VTEX's API integrations, manual \\ntasks became automated, empowering teams to \\nmanage promotions independently. The migration led \\nto rapid results, including increased product page \\nvisits, doubled conversions, and revenue growth \\nwithin a month post-migration. \\nFirst Quarter 2024 \\nOperational Highlights \\n❏ Launched VTEX Ad Network , connecting \\ncustomers with ideal advertising partners \\nthrough our vast network. Using AI-driven \\ntargeting and auctions, we optimize ad \\ncampaigns to maximize revenue. Our focus is \\nto streamline operations, scale AI and \\nanalytics for insights, and advance security \\nmeasures for data protection. \\n❏ Launched VTEX Data Pipeline , empowering \\nenterprises with enhanced data connections \\nto eﬀectively leverage AI. Our solution oﬀers \\nspecialized APIs for bulk data retrieval and \\nsecure data-sharing services, seamlessly \\ndelivering VTEX commerce data to customers' \\npreferred data warehouses. \\n❏ Launched VTEX Delivery Promise , \\nshowcasing delivery options and dates \\ndirectly within search ﬁlters and product pages \\nusing advanced algorithms and technology. \\nAddressing shopper expectations for tailored \\nexperiences based on desired delivery \\nmethods or dates. \\n❏ Enhanced existing products with AI features, \\nincluding: VTEX Intelligent Search , \\noptimizing results and boosting conversions; \\nLive Shopping , enhancing engagement with \\nAI Chat; Pick and Pack , streamlining \\noperations, reducing errors, and improving \\neﬃciency; Shipping Insights , oﬀering \\nreal-time visibility for optimized logistics and \\nprompt delivery. Through strategic AI \\napplication, VTEX equips customers to stay \\ncompetitive by delivering faster time to \\nmarket, lower costs, and increased GMV. \\n7\"),\n",
              "  Document(metadata={'source': '/content/VTEX-1Q24-Earnings-Press-Release-pptx.pdf', 'page': 7}, page_content=\"The development platform of choice for digital \\ncommerce \\n❏ Hearst , the leading global, diversiﬁed media, \\ninformation, and services company, chose VTEX for \\nits extensive native capabilities, adaptable multi-site \\narchitecture, and VTEX IO development platform, \\nenabling the integration of custom features. \\nLeveraging VTEX, Hearst established a marketplace \\nsupporting multi-vendor business models, thereby \\nseamlessly enhancing the customer experience \\nacross its publications and shoppable interfaces, \\nfacilitating the easy purchase of featured products. \\nWith VTEX's out-of-the-box features and ﬂexible \\nAPIs, Hearst swiftly launched its platform and \\niteratively leveraged new business models in the \\ndigital economy. This transition led to a signiﬁcant \\nreduction in Total Cost of Ownership, from \\nhigh-single-digits to low-single-digits, highlighting the \\neﬃciency and adaptability of VTEX's solution. \\nFurthermore, Hearst serves as the ﬂagship client \\npiloting VTEX Data Pipeline and VTEX Fast Checkout, \\ncurrently undergoing A/B testing on their Men's \\nHealth website, as the primary checkout experience. \\n❏ Launched VTEX FastStore , revolutionizing store \\ncreation and evolution with unparalleled performance \\nand adaptability. Consisting of three core products: \\nFastStore Framework, oﬀering a suite of \\ncommerce-optimized UI components, code libraries, \\nand integrations; FastStore WebOps, a \\ncomprehensive front-end platform with performance \\nmetrics, automated checks, and a robust serving \\nlayer powered by a global edge network; and \\nHeadless CMS, a powerful yet user-friendly content \\nmanagement system empowering content teams to \\nmanage updates independently. \\nFirst Quarter 2024 \\nOperational Highlights \\n8\\n❏ Launched VTEX FastCheckout , utilizing \\nelements of FastStore, the product oﬀers \\nmultiple features aimed at reducing cart \\nabandonment rates and improving overall \\nconversion, seamlessly integrating with VTEX \\nHeadless CMS.\"),\n",
              "  Document(metadata={'source': '/content/VTEX-1Q24-Earnings-Press-Release-pptx.pdf', 'page': 8}, page_content=\"Although the macroeconomic scenario remains \\nuncertain, we see VTEX well positioned to capture \\nan attractive market opportunity. We are closely \\nmonitoring the performance of our customers and \\nsales funnel and taking necessary actions to \\nensure our business' sustainable growth and \\nsuccess. We remain encouraged by our sales \\nmomentum and operational leverage, despite \\nweakness in Argentina. \\nIn this context, we are currently targeting revenue \\nfor the second quarter of 2024 in the  US$54.5 \\nmillion to US$56.0 million range , implying a YoY \\ngrowth of 18% on an FX neutral basis in the \\nmiddle of the range . \\nFor the full year 2024, we continue executing our \\nstrategy for proﬁtable growth. Recognizing \\nheightened volatility in Argentina’s macro situation, \\nwe are targeting  FX neutral YoY revenue growth \\nof 16% to 20% , implying a range of US$234 \\nmillion to US$243 million based on April’s \\naverage FX rate. Further demonstrating our \\noperational leverage, we are targeting free cash \\nﬂow and non-GAAP operating income margins \\nof high single digits .\\nWe are conﬁdent in VTEX's ability to navigate the \\nuncertainties posed by the current macroeconomic \\nscenario. We are empowering our customers to \\ndigitally transform their commerce operations while \\nhelping them to outperform the market. \\nThe business outlook provided above constitutes \\nforward-looking information within the meaning of \\napplicable securities laws and is based on a \\nnumber of assumptions and subject to a number of \\nrisks. Actual results could vary materially as a \\nresult of numerous factors, including certain risk \\nfactors, many of which are beyond VTEX’s control. \\nSee the cautionary note regarding ''Forward- \\nLooking Statements'' below. Fluctuations in VTEX’s \\noperating results may be particularly pronounced in \\nthe current economic environment. There can not \\nbe an assurance that VTEX will achieve these \\nresults. \\n9First Quarter 2024 \\nBusiness Outlook\"),\n",
              "  Document(metadata={'source': '/content/VTEX-1Q24-Earnings-Press-Release-pptx.pdf', 'page': 9}, page_content='(1) Calculated by using the average monthly exchange rates for the applicable months during 2023, adjusted by inﬂation in \\ncountries with hyperinﬂation, and applying them to the corresponding months in 2024, as applicable, so as to calculate what our \\nresults would have been had exchange rates remained stable from one year to the next. \\n(2) Corresponds to our subscription revenues minus our subscription costs. \\n(3) Corresponds to our subscription gross proﬁt divided by subscription revenues. \\n(4) Reconciliation of Non-GAAP metrics can be found in tables below. \\n10Three months ended \\nMarch 31, \\n(in millions of US$, except as otherwise indicated) 2024 2023 \\nGMV 4,036.9 3,303.7 \\nGMV growth YoY FXN (1) 20.1% 20.6% \\nRevenue 52.6 42.3\\nRevenue growth YoY FXN (1) 21.3% 22.2% \\nNon-GAAP subscription gross proﬁt (2) (4) 38.9 29.4\\nNon-GAAP subscription gross proﬁt margin (3) (4) 77.2% 73.9% \\nNon-GAAP income (loss) from operations (4) 3.0 (4.1)\\nTotal number of employees 1,334 1,339 \\nThe following table summarizes certain key ﬁnancial \\nand operating metrics for the three months ended \\nMarch 31, 2024 and 2023.'),\n",
              "  Document(metadata={'source': '/content/VTEX-1Q24-Earnings-Press-Release-pptx.pdf', 'page': 10}, page_content='The conference call may be accessed by dialing \\n+1-646-968-2525 (Conference ID –1918046–) and \\nrequesting inclusion in the call for VTEX. \\nThe live conference call can be accessed via audio \\nwebcast at the investor relations section of VTEX’s \\nwebsite at https://www.investors.vtex.com/ . \\nAn archive of the webcast will be available for one week \\nfollowing the conclusion of the conference call. \\n11First Quarter 2024 \\nConference Call and Webcast'),\n",
              "  Document(metadata={'source': '/content/VTEX-1Q24-Earnings-Press-Release-pptx.pdf', 'page': 11}, page_content='“ARR ” means annual recurring revenue, \\ncalculated as subscription revenue in the \\nmost recent quarter multiplied by four. \\n“Customers ” means companies ranging \\nfrom small and medium-sized businesses \\nto larger enterprises that pay to use \\nVTEX’s platform. \\n“GMV ” means the total value of customer \\norders processed through our platform, \\nincluding value-added taxes and shipping. \\nOur GMV does not include the value of \\norders processed by our SMB customers \\nor B2B transactions. \\n“FX Neutral ” or “ FXN”  means a way of \\nusing the average monthly exchange rates \\nfor each month during the previous year, \\nadjusted by inﬂation in countries with \\nhyper-inﬂation, and applying them to the \\ncorresponding months of the current year, \\nso as to calculate what results would have \\nbeen had exchange rates remained stable \\nfrom one year to the next. \\nv“Stores ” or “ Active Stores ” means the \\nnumber of unique domains generating \\ngross merchandise value.  Each customer \\nmight have multiple stores. \\n12Deﬁnition of Selected \\nOperational Metrics'),\n",
              "  Document(metadata={'source': '/content/VTEX-1Q24-Earnings-Press-Release-pptx.pdf', 'page': 12}, page_content='For the convenience of investors, this document \\npresents certain Non-GAAP ﬁnancial measures, \\nwhich are not recognized under IFRS Accounting \\nStandards, speciﬁcally Non-GAAP subscription \\ngross proﬁt, Non-GAAP income (loss) from \\noperations, free cash ﬂow and FX Neutral \\nmeasures. \\nWe understand that Non-GAAP subscription \\ngross proﬁt, Non-GAAP income (loss) from \\noperations, free cash ﬂow and FX Neutral \\nmeasures have limitations as analytical tools, and \\nyou should not consider them in isolation or as \\nsubstitutes for analysis of our results of operations \\npresented in accordance with IFRS Accounting \\nStandards. Additionally, our calculations of \\nNon-GAAP subscription gross proﬁt, Non-GAAP \\nincome (loss) from operations, free cash ﬂow and \\nFX Neutral measures may be diﬀerent from the \\ncalculation used by other companies, including \\nour competitors, and therefore, our measures may \\nnot be comparable to those of other companies. \\n13Special Note Regarding \\nNon-GAAP Financial Metrics \\n v'),\n",
              "  Document(metadata={'source': '/content/VTEX-1Q24-Earnings-Press-Release-pptx.pdf', 'page': 13}, page_content='The following table presents a reconciliation of our Non-GAAP subscription gross proﬁt to subscription gross proﬁt for \\nthe following periods: \\nThe following table presents a reconciliation of our Non-GAAP S&M expenses to S&M expenses for the following \\nperiods: Three months ended \\nMarch 31, \\n(in millions of US$, except as otherwise indicated) 2024 2023 \\nSubscription revenue 50.4 39.8\\nSubscription cost (11.5) (10.4) \\nSubscription gross proﬁt 38.8 29.4\\nShare-based compensation 0.0 0.0\\nNon-GAAP subscription gross proﬁt 38.9 29.4\\nNon-GAAP subscription gross margin 77.2% 73.9% \\nThree months ended \\nMarch 31, \\n(in millions of US$, except as otherwise indicated) 2024 2023 \\nSales & Marketing expense (17.2) (14.8) \\nShare-based compensation expense 1.1 1.3\\nAmortization and adjustment related to acquisitions 0.3 0.3\\nNon-GAAP Sales & Marketing expense (15.8) (13.2) \\n14Reconciliation of \\nNon-GAAP Measures \\n v'),\n",
              "  Document(metadata={'source': '/content/VTEX-1Q24-Earnings-Press-Release-pptx.pdf', 'page': 14}, page_content='The following table presents a reconciliation of our Non-GAAP R&D expenses to R&D expenses for the following \\nperiods: \\nThree months ended \\nMarch 31, \\n(in millions of US$, except as otherwise indicated) 2024 2023 \\nResearch & Development expense (12.7) (14.0) \\nShare-based compensation expense 0.2 1.9\\nAmortization and adjustment related to acquisitions 0.2 0.2\\nNon-GAAP Research & Development expense (12.3) (11.8) \\nThree months ended \\nMarch 31, \\n(in millions of US$, except as otherwise indicated) 2024 2023 \\nGeneral & Administrative expense (9.2) (7.9)\\nShare-based compensation expense 2.6 1.7\\nAmortization and adjustment related to acquisitions 0.0 0.0\\nNon-GAAP General & Administrative expense (6.6) (6.2)\\n15Reconciliation of \\nNon-GAAP Measures \\n v\\nThe following table presents a reconciliation of our Non-GAAP G&A expenses to G&A expenses for the following \\nperiods:'),\n",
              "  Document(metadata={'source': '/content/VTEX-1Q24-Earnings-Press-Release-pptx.pdf', 'page': 15}, page_content='Three months ended \\nMarch 31, \\n(in millions of US$, except as otherwise indicated) 2024 2023 \\nLoss from operations (1.6) (9.7)\\nShare-based compensation expense 4.1 5.1\\nAmortization and adjustment related to acquisitions 0.5 0.5\\nNon-GAAP income (loss) from operations 3.0 (4.1)\\nThree months ended \\nMarch 31, \\n(in millions of US$, except as otherwise indicated) 2024 2023 \\nNet cash provided by (used in) by operating activities 2.6 (4.9)\\nAcquisitions of intangibles - -\\nAcquisitions of property and equipment (0.7) (0.1)\\nFree cash ﬂow 1.9 (5.0)\\n16Reconciliation of \\nNon-GAAP Measures \\n v\\nThe following table presents a reconciliation of our Non-GAAP income (loss) from operations to loss from operations \\nfor the following periods: \\nThe following table presents a reconciliation of our free cash ﬂow to net cash used by operating activities for the \\nfollowing periods:'),\n",
              "  Document(metadata={'source': '/content/VTEX-1Q24-Earnings-Press-Release-pptx.pdf', 'page': 16}, page_content='This announcement does not contain suﬃcient information to constitute an interim ﬁnancial report as deﬁned in International Financial \\nReporting Standards as issued by the International Accounting Standards Board (“IFRS Accounting Standards”) IAS 34 Interim Financial \\nReporting, \"Interim Financial Reporting\" nor a ﬁnancial statement as deﬁned by IFRS Accounting Standards 1 \"Presentation of Financial \\nStatements\". The ﬁnancial information in this press release has not been audited. \\n As Reported FX Neutral \\nMeasures As \\nReported \\n(in millions of US$, \\nexcept as otherwise \\nindicated) 1Q24 1Q23 Percentage \\nChange 1Q24 1Q23 Percentage \\nChange \\nSubscription revenue 50.4 39.8 26.7% 49.1 39.8 23.4% \\nServices revenue 2.3 2.5 (9.3)% 2.2 2.5 (10.8)% \\nTotal revenue 52.6 42.3 24.5% 51.3 42.3 21.3% \\nGross proﬁt 37.9 27.7 36.7% 36.6 27.7 32.1% \\nLoss from operations (1.6) (9.7) (83.6)% (1.5) (9.7) (84.7)% \\n17Reconciliation of \\nFX Neutral Measures \\n v\\nThe following table sets forth the FX neutral measures related to our reported results of the operations for the three \\nmonths ended March 31, 2024:'),\n",
              "  Document(metadata={'source': '/content/VTEX-1Q24-Earnings-Press-Release-pptx.pdf', 'page': 17}, page_content='VTEX (NYSE: VTEX) is the composable and complete commerce platform that delivers more \\neﬃciency and less maintenance to organizations seeking to make smarter IT investments and \\nmodernize their tech stack. Through our pragmatic composability approach, we empower \\nbrands, distributors, and retailers with unparalleled ﬂexibility and comprehensive solutions, \\nenabling them to invest solely in what provides a clear business advantage and boosts \\nproﬁtability. \\nVTEX is trusted by 2,600 global B2C and B2B customers , including Carrefour , Colgate , \\nMotorola , Sony , Stanley Black & Decker , and Whirlpool , having 3,500 active online stores  \\nacross 43 countries  (as of FY ended on December 31, 2023). For more information, visit \\nwww.vtex.com. \\n18About \\nVTEX \\n v'),\n",
              "  Document(metadata={'source': '/content/VTEX-1Q24-Earnings-Press-Release-pptx.pdf', 'page': 18}, page_content='This announcement contains “forward-looking \\nstatements” within the meaning of Section 27A of \\nthe Securities Act of 1993, as amended, and \\nSection 21E of the Securities Exchange of 1934, \\nas amended. Statements contained herein that \\nare not clearly historical in nature, including \\nstatements about the VTEX strategies and \\nbusiness plans, are forward-looking, and the \\nwords “anticipate,” “believe,” “continues,” \\n“expect,” “estimate,” “intend,” ”strategy,” \\n“project,” “target” and similar expressions and \\nfuture or conditional verbs such as “will,” “would,” \\n“should,” “could,” “might,” “can,” “may,” or similar \\nexpressions are generally intended to identify \\nforward-looking statements. \\nVTEX may also make forward-looking statements \\nin its periodic reports ﬁled with the U.S. Securities \\nand Exchange Commission, or the SEC, in press \\nreleases and other written materials and in oral \\nstatements made by its oﬃcers and directors. \\nThese forward-looking statements speak only as \\nof the date they are made and are based on the \\nVTEX’s current plans and expectations and are \\nsubject to a number of known and unknown \\nuncertainties and risks, many of which are beyond \\nVTEX’s control. A number of factors and risks \\ncould cause actual results to diﬀer materially from \\nthose contained in any forward-looking statement. \\nFurther information regarding these and other \\nrisks is included in VTEX ﬁlings with the SEC. \\nAs a consequence, current plans, anticipated \\nactions and future ﬁnancial position and results of \\noperations may diﬀer signiﬁcantly from those \\nexpressed in any forward-looking statements in \\nthis announcement. You are cautioned not to \\nunduly rely on such forward-looking statements \\nwhen evaluating the information presented as \\nthere is no guarantee that expected events, \\ntrends or results will actually occur. We undertake \\nno obligation to update or revise any \\nforward-looking statements, whether as a result \\nof new information or future events or for any \\nother reason. \\nThis announcement may also contain estimates \\nand other information concerning our industry \\nthat are based on industry publications, surveys \\nand forecasts. This information involves a number \\nof assumptions and limitations, and we have not \\nindependently veriﬁed the accuracy or \\ncompleteness of the information. \\n19Forward-looking \\nStatements \\n v'),\n",
              "  Document(metadata={'source': '/content/VTEX-1Q24-Earnings-Press-Release-pptx.pdf', 'page': 19}, page_content='VTEX \\nCondensed consolidated interim statements of proﬁt or \\nloss (Unaudited) \\nIn thousands of U.S. dollars, unless otherwise indicated \\n Three months ended \\n March 31, 2024 March 31, 2023 \\nSubscription revenue 50,362 39,762 \\nServices revenue 2,286 2,520 \\nTotal revenue 52,648 42,282 \\nSubscription cost (11,539) (10,400) \\nServices cost (3,221) (4,166) \\nTotal cost (14,760) (14,566) \\nGross proﬁt 37,888 27,716 \\nOperating expenses \\nGeneral and administrative (9,172) (7,925) \\nSales and marketing (17,192) (14,782) \\nResearch and development (12,728) (13,959) \\nOther losses (386) (754) \\nLoss from operations (1,590) (9,704) \\nFinancial income 9,102 7,359 \\nFinancial expense (12,496) (5,903) \\nFinancial result, net (3,394) 1,456 \\nEquity results 18 341\\nLoss before income tax (4,966) (7,907) \\nIncome tax \\nCurrent (254) (570) \\nDeferred 2,766 549\\nTotal income tax 2,512 (21)\\nNet loss for the period (2,454) (7,928) \\nAttributable to controlling shareholders \\n(2,446) (7,928) \\nNon-controlling interest (8)-\\n \\n USD USD \\nLoss per share \\n  Basic loss per share (0.013) (0.042) \\n  Diluted loss per share (0.013) (0.042)'),\n",
              "  Document(metadata={'source': '/content/VTEX-1Q24-Earnings-Press-Release-pptx.pdf', 'page': 20}, page_content='ASSETS March 31, 2024 December 31, 2023 \\nCurrent assets \\nCash and cash equivalents 17,468 28,035 \\nShort-term investments 191,885 181,374 \\nTrade receivables 45,189 44,122 \\nRecoverable taxes 5,958 6,499 \\nDeferred commissions 1,328 1,005 \\nPrepaid expenses 6,238 5,143 \\nDerivative ﬁnancial instruments - 53\\nOther current assets 122 22\\nTotal current assets 268,188 266,253\\xa0 \\nNon-current assets \\nLong-term investments 3,056 2,000 \\nTrade receivables 8,595 7,415 \\nDeferred tax assets 22,469 19,926 \\nPrepaid expenses 127 155\\nRecoverable taxes 4,411 4,454 \\nDeferred commissions 3,006 2,924 \\nOther non-current assets 788 902\\nRight-of-use assets 2,813 3,277 \\nProperty and equipment, net 2,969 2,697 \\nIntangible assets, net 29,121 30,024 \\nInvestments in joint venture 1,099 1,118 \\nTotal non-current assets 78,454 74,892 \\nTotal assets 346,642 341,145 VTEX \\nCondensed consolidated interim balance sheets \\n(Unaudited) \\nIn thousands of U.S. dollars, unless otherwise indicated \\n21'),\n",
              "  Document(metadata={'source': '/content/VTEX-1Q24-Earnings-Press-Release-pptx.pdf', 'page': 21}, page_content='LIABILITIES March 31, 2024 December 31, 2023 \\nCurrent liabilities \\nAccounts payable and accrued expenses 39,352 39,728 \\nTaxes payable 6,811 8,219 \\nLease liabilities 1,717 1,863 \\nDeferred revenue 26,653 25,948 \\nOther current liabilities 3,854 1,486 \\nTotal current liabilities 78,387 77,244\\xa0 \\nNon-current liabilities \\nAccounts payable and accrued expenses 811 1,632 \\nLease liabilities 1,851 2,233 \\nDeferred revenue  19,209 16,584 \\nDeferred tax liabilities 3,026 2,668 \\nOther non-current liabilities 427 452\\nTotal non-current liabilities 25,324 23,569\\xa0 \\nEquity \\nIssued capital 18 18\\nCapital reserve 373,554 370,821 \\nOther reserves 1,824 (486) \\nAccumulated losses (132,506) (130,060) \\nEquity attributable to VTEX’s shareholders 242,890 240,293\\xa0 \\nNon-controlling interests 41 39\\nTotal shareholders’ equity 242,931 240,332 \\nTotal liabilities and equity 346,642 341,145 \\n22VTEX \\nCondensed consolidated interim balance sheets \\n(Unaudited) \\nIn thousands of U.S. dollars, unless otherwise indicated'),\n",
              "  Document(metadata={'source': '/content/VTEX-1Q24-Earnings-Press-Release-pptx.pdf', 'page': 22}, page_content='March 31, 2024 March 31, 2023 \\nNet loss for the period (2,454) (7,928) \\nAdjustments for: \\nDepreciation and amortization 1,113 1,226 \\nDeferred income tax (2,766) (549) \\nLoss on disposal of rights of use, property, equipment, and intangible assets 127 14 \\nExpected credit losses from trade receivables 215 537 \\nShare-based compensation 3,030 4,004 \\nProvision for payroll taxes (share-based compensation) 1,092 452 \\nAdjustment of hyperinflation 4,002 1,420 \\nEquity results (18) (341) \\nAccrued interest (5,491) (1,768) \\nFair value (gains) losses 304 (3,374) \\nOthers and foreign exchange, net 3,877 1,836 \\nChange in operating assets and liabilities \\nTrade receivables (3,684) (124) \\nRecoverable taxes (397) (580) \\nPrepaid expenses (1,167) (1,019) \\nOther assets (446) (299) \\nAccounts payable and accrued expenses (1,346) (4,250) \\nTaxes payable (1,038) 1,472 \\nDeferred revenue 4,251 4,279 \\nOther liabilities 2,888 304\\nCash provided by (used in) operating activities 2,092 (4,688) \\nIncome tax refund (paid) 547 (170) \\nNet cash provided by (used in) operating activities 2,639 (4,858) \\nCash flows from investing activities \\nPurchase of short and long-term investment (64,067) (4,005) \\nRedemption of short-term investment 54,184 11,868 \\nInterest and dividend received from short-term investments 197 462 \\nAcquisitions of property and equipment (738) (146) \\nDerivative financial instruments (1,549) (134) \\nNet cash provided by (used in) investing activities (11,973) 8,045 \\nCash flows from financing activities \\nChanges in restricted cash -   1,034 \\nProceeds from the exercise of stock options 448 3 \\nNet-settlement of share-based payment (764) (387) \\nBuyback of shares -   (5,330) \\nPayment of loans and financing -   (696) \\nInterest paid -   (4)\\nPrincipal elements of lease payments (414) (368) \\nLease interest paid (106) (148) \\nNet cash used in financing activities (836) (5,896) \\nNet decrease in cash and cash equivalents (10,170) (2,709) \\nCash and cash equivalents, beginning of the period 28,035 24,394 \\nEffect of exchange rate changes (397) 206\\nCash and cash equivalents, end of the period 17,468 21,891 \\n23VTEX \\nCondensed consolidated interim statements of cash \\nﬂows (Unaudited) \\nIn thousands of U.S. dollars, unless otherwise indicated \\n March 31, 2024 March 31, 2023 \\nNon-cash transactions: \\nLease liabilities arising from obtaining right-of-use assets and remeasurement - 76 \\nTransactions with non-controlling interests                         10                      17'),\n",
              "  Document(metadata={'source': '/content/VTEX-1Q24-Earnings-Press-Release-pptx.pdf', 'page': 23}, page_content='Thank you! \\nContact \\nJulia Vater Fernández \\nInvestor Relations Director \\ninvestors@vtex.com')],\n",
              " 'output_text': \"VTEX, a commerce platform for premier brands and retailers, announced strong financial results for the first quarter of 2024, showing growth in global and domestic markets. The company reported significant improvements in Non-GAAP income from operations and free cash flow compared to the previous year. VTEX highlighted key operational highlights, partnerships with leading companies, and the launch of new features to enhance customer experience. The company remains optimistic about future growth and aims to achieve revenue targets for the second quarter and full year of 2024. VTEX's financial statement for the period ending March 31, 2024, shows total revenue, net loss, balance sheet details, and cash flow information. Investors can access the conference call and additional information through VTEX's investor relations website.\"}"
            ]
          },
          "metadata": {},
          "execution_count": 44
        }
      ]
    },
    {
      "cell_type": "code",
      "source": [
        "output_text_map = res[\"output_text\"]\n",
        "print(res[\"output_text\"])"
      ],
      "metadata": {
        "colab": {
          "base_uri": "https://localhost:8080/"
        },
        "id": "NT0BgGPAX_AF",
        "outputId": "7539e012-faec-4de0-deeb-31030dd042ec"
      },
      "execution_count": null,
      "outputs": [
        {
          "output_type": "stream",
          "name": "stdout",
          "text": [
            "VTEX, a commerce platform for premier brands and retailers, announced strong financial results for the first quarter of 2024, showing growth in global and domestic markets. The company reported significant improvements in Non-GAAP income from operations and free cash flow compared to the previous year. VTEX highlighted key operational highlights, partnerships with leading companies, and the launch of new features to enhance customer experience. The company remains optimistic about future growth and aims to achieve revenue targets for the second quarter and full year of 2024. VTEX's financial statement for the period ending March 31, 2024, shows total revenue, net loss, balance sheet details, and cash flow information. Investors can access the conference call and additional information through VTEX's investor relations website.\n"
          ]
        }
      ]
    },
    {
      "cell_type": "markdown",
      "source": [
        "# Compare the texts in terms of level of detail and contextualization"
      ],
      "metadata": {
        "id": "a64r4PNT2X5L"
      }
    },
    {
      "cell_type": "code",
      "source": [
        "def compare_texts(text_A, text_B):\n",
        "\n",
        "    from openai import OpenAI\n",
        "    from google.colab import userdata\n",
        "\n",
        "    open_ai_key = userdata.get('open_ay_key')\n",
        "\n",
        "    client = OpenAI(api_key=open_ai_key)\n",
        "    response = client.chat.completions.create(\n",
        "        model = \"gpt-3.5-turbo\",\n",
        "        messages = [\n",
        "          {\"role\": \"user\",\"content\": \"Compare the texts in terms of level of detail and contextualization \" f\"{text_A}\" \" and \" f\"{text_B}\"}\n",
        "\n",
        "        ]\n",
        "      )\n",
        "    summary = response.choices[0].message.content\n",
        "    return summary"
      ],
      "metadata": {
        "id": "CfBnEV1xjs-L"
      },
      "execution_count": null,
      "outputs": []
    },
    {
      "cell_type": "code",
      "source": [
        "# Paste the first text\n",
        "first_text = output_text_stuff\n",
        "\n",
        "# Paste the second text\n",
        "second_text = output_text_map\n",
        "\n",
        "compare_texts(first_text, second_text)"
      ],
      "metadata": {
        "colab": {
          "base_uri": "https://localhost:8080/",
          "height": 157
        },
        "id": "HDvzWYKEkL-M",
        "outputId": "67253955-7f16-45b1-a10b-ba28a6943931"
      },
      "execution_count": null,
      "outputs": [
        {
          "output_type": "execute_result",
          "data": {
            "text/plain": [
              "\"In terms of detail and contextualization, the first text provides more specific information about VTEX's financial results for the first quarter of 2024. It mentions positive growth in revenue, gross profit, and subscription revenue, as well as new customer acquisitions and partnerships with companies like OBI, Cloe, Colgate, and KFC. The text also outlines the company's focus on sustainable growth, margin expansion, and customer success, and provides details about their business outlook for the second quarter and full year of 2024.\\n\\nOn the other hand, the second text also provides a good level of detail about VTEX's financial results for the first quarter of 2024, highlighting improvements in Non-GAAP income from operations and free cash flow compared to the previous year. It mentions partnerships with leading companies and the launch of new features to enhance customer experience. The text also mentions the company's optimism about future growth and their revenue targets for the second quarter and full year of 2024.\\n\\nOverall, both texts provide a good level of detail about VTEX's financial results and operational highlights for the first quarter of 2024. The first text focuses more on specific partnerships and operational highlights, while the second text emphasizes improvements in income and cash flow, as well as future growth opportunities.\""
            ],
            "application/vnd.google.colaboratory.intrinsic+json": {
              "type": "string"
            }
          },
          "metadata": {},
          "execution_count": 49
        }
      ]
    },
    {
      "cell_type": "markdown",
      "source": [
        "## **Extra Credit: Use of Langchain's Yahoo Finance News tool with an agent **"
      ],
      "metadata": {
        "id": "4vsQBz6Z0Cbi"
      }
    },
    {
      "cell_type": "code",
      "source": [
        "%pip install --upgrade --quiet  yfinance"
      ],
      "metadata": {
        "colab": {
          "base_uri": "https://localhost:8080/"
        },
        "id": "KxtmReMB0Y05",
        "outputId": "c1969126-f6b7-45fd-ba33-aac83821bcff"
      },
      "execution_count": null,
      "outputs": [
        {
          "output_type": "stream",
          "name": "stdout",
          "text": [
            "\u001b[?25l     \u001b[90m━━━━━━━━━━━━━━━━━━━━━━━━━━━━━━━━━━━━━━━━\u001b[0m \u001b[32m0.0/73.5 kB\u001b[0m \u001b[31m?\u001b[0m eta \u001b[36m-:--:--\u001b[0m\r\u001b[2K     \u001b[90m━━━━━━━━━━━━━━━━━━━━━━━━━━━━━━━━━━━━━━━━\u001b[0m \u001b[32m73.5/73.5 kB\u001b[0m \u001b[31m2.0 MB/s\u001b[0m eta \u001b[36m0:00:00\u001b[0m\n",
            "\u001b[?25h"
          ]
        }
      ]
    },
    {
      "cell_type": "code",
      "source": [
        "from langchain.agents import AgentType, initialize_agent\n",
        "from langchain_community.tools.yahoo_finance_news import YahooFinanceNewsTool\n",
        "from langchain_openai import ChatOpenAI\n",
        "\n",
        "llm = ChatOpenAI(temperature=0.0, model_name=\"gpt-3.5-turbo\", api_key=open_ai_key)\n",
        "tools = [YahooFinanceNewsTool()]\n",
        "agent_chain = initialize_agent(\n",
        "    tools,\n",
        "    llm,\n",
        "    agent=AgentType.ZERO_SHOT_REACT_DESCRIPTION,\n",
        "    verbose=True,\n",
        ")"
      ],
      "metadata": {
        "colab": {
          "base_uri": "https://localhost:8080/"
        },
        "id": "riWEPcMC0CIp",
        "outputId": "64dfbebb-43b7-41ef-b359-8a97ca06f98c"
      },
      "execution_count": null,
      "outputs": [
        {
          "output_type": "stream",
          "name": "stderr",
          "text": [
            "/usr/local/lib/python3.10/dist-packages/langchain_core/_api/deprecation.py:139: LangChainDeprecationWarning: The function `initialize_agent` was deprecated in LangChain 0.1.0 and will be removed in 0.3.0. Use Use new agent constructor methods like create_react_agent, create_json_agent, create_structured_chat_agent, etc. instead.\n",
            "  warn_deprecated(\n"
          ]
        }
      ]
    },
    {
      "cell_type": "code",
      "source": [
        "agent_chain.run(\n",
        "    \"What happens today with VTEX stocks?\",\n",
        ")"
      ],
      "metadata": {
        "colab": {
          "base_uri": "https://localhost:8080/",
          "height": 663
        },
        "id": "lD3B4dfF0vwE",
        "outputId": "3412d05e-699b-424f-ec27-90dacf970bee"
      },
      "execution_count": null,
      "outputs": [
        {
          "output_type": "stream",
          "name": "stderr",
          "text": [
            "/usr/local/lib/python3.10/dist-packages/langchain_core/_api/deprecation.py:139: LangChainDeprecationWarning: The method `Chain.run` was deprecated in langchain 0.1.0 and will be removed in 0.3.0. Use invoke instead.\n",
            "  warn_deprecated(\n"
          ]
        },
        {
          "output_type": "stream",
          "name": "stdout",
          "text": [
            "\n",
            "\n",
            "\u001b[1m> Entering new AgentExecutor chain...\u001b[0m\n",
            "\u001b[32;1m\u001b[1;3mI should check the latest financial news about VTEX to see if there are any updates on their stock performance.\n",
            "Action: yahoo_finance_news\n",
            "Action Input: VTEX\u001b[0m\n",
            "Observation: \u001b[36;1m\u001b[1;3mVTEX to Announce Second Quarter 2024 Financial Results on August 6th, 2024\n",
            "NEW YORK, July 22, 2024--VTEX (NYSE: VTEX), the composable and complete commerce platform for premier brands and retailers, will release the financial results for its second fiscal quarter ended June 30th, 2024, via conference call and audio webcast, on August 6th, 2024, at 4:30 pm Eastern Time.\n",
            "\n",
            "Does This Valuation Of VTEX (NYSE:VTEX) Imply Investors Are Overpaying?\n",
            "Key Insights The projected fair value for VTEX is US$5.97 based on 2 Stage Free Cash Flow to Equity VTEX's US$7.22...\n",
            "\n",
            "H Mart, VTEX and VML to enhance e-commerce operations\n",
            "The new platform allows customers to seamlessly order shelf-stable and fresh products in the same cart.\n",
            "\n",
            "VTEX and VML Power H Mart's Ecommerce, Enhancing the Digital Grocery Shopping Experience\n",
            "VTEX (NYSE: VTEX), the composable and complete digital commerce platform, has been selected by H Mart, the largest Asian-American supermarket chain in the U.S. with over 90 locations across North America, to power its ecommerce operations alongside global creative agency VML, a leading commerce systems integrator and implementation partner. This partnership marks a significant milestone for H Mart in its digital transformation by moving to a modern, SaaS commerce platform.\n",
            "\n",
            "Pinterest and VTEX partner to expand social commerce for customers\n",
            "Today, VTEX (NYSE: VTEX), the composable and complete commerce platform for premier brands and retailers, is announcing its partnership with Pinterest to help consumer brands broaden their social commerce footprint and connect with more customers.\n",
            "\n",
            "VTEX Announces the Results of its 2024 Annual General Meeting of Shareholders\n",
            "NEW YORK, May 28, 2024--VTEX (NYSE: VTEX), the composable and complete commerce platform for premier brands and retailers, announced today that the following matters were approved in its annual general meeting of shareholders (\"AGM\") held on May 24, 2024:\n",
            "\n",
            "VTEX (NYSE:VTEX) Q1 2024 Earnings Call Transcript\n",
            "VTEX (NYSE:VTEX) Q1 2024 Earnings Call Transcript May 11, 2024 VTEX isn’t one of the 30 most popular stocks among hedge funds at the end of the third quarter (see the details here). Operator: Thank you for standing by and welcome to the VTEX First Quarter 2024 Financial Results Conference Call. All lines have been […]\n",
            "\n",
            "VTEX First Quarter 2024 Earnings: Misses Expectations\n",
            "VTEX ( NYSE:VTEX ) First Quarter 2024 Results Key Financial Results Revenue: US$52.6m (up 25% from 1Q 2023). Net loss...\u001b[0m\n",
            "Thought:\u001b[32;1m\u001b[1;3mI now know the final answer\n",
            "Final Answer: VTEX will announce its second quarter 2024 financial results on August 6th, 2024.\u001b[0m\n",
            "\n",
            "\u001b[1m> Finished chain.\u001b[0m\n"
          ]
        },
        {
          "output_type": "execute_result",
          "data": {
            "text/plain": [
              "'VTEX will announce its second quarter 2024 financial results on August 6th, 2024.'"
            ],
            "application/vnd.google.colaboratory.intrinsic+json": {
              "type": "string"
            }
          },
          "metadata": {},
          "execution_count": 53
        }
      ]
    }
  ]
}